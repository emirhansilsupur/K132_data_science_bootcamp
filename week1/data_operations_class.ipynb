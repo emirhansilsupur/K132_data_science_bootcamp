{
 "cells": [
  {
   "cell_type": "code",
   "execution_count": 10,
   "id": "f5b1ab06-6279-42dc-9ec9-17bbf894a2f4",
   "metadata": {},
   "outputs": [],
   "source": [
    "import pandas as pd\n",
    "import numpy as np\n",
    "import matplotlib.pyplot as plt\n",
    "import seaborn as sns\n",
    "import os"
   ]
  },
  {
   "cell_type": "code",
   "execution_count": 11,
   "id": "a50e0d70-5c34-4284-8a18-5e2db7f4e4fe",
   "metadata": {},
   "outputs": [],
   "source": [
    "# The DataOperations class is used to read in data, process data, and visualize data\n",
    "class DataOperations:\n",
    "   \n",
    "    def __init__(self,atr=None):\n",
    "        '''\n",
    "        The __init__ method is the constructor for a class. \n",
    "        \n",
    "        :param atr: The attribute to be tested\n",
    "        '''\n",
    "        self.atr = atr\n",
    "\n",
    "    def Process(self):\n",
    "        '''\n",
    "        The Process function takes in a file path, a pandas dataframe, or a numpy array and returns a\n",
    "        pandas dataframe\n",
    "        :return: A pandas dataframe\n",
    "        '''\n",
    "       \n",
    "        if isinstance(self.atr,np.ndarray):\n",
    "            self.df = pd.DataFrame(self.atr)\n",
    "            return self.df\n",
    "\n",
    "        elif isinstance(self.atr,str):\n",
    "            name, ext = os.path.splitext(self.atr)\n",
    "            if ext == \".csv\":\n",
    "                self.df = pd.read_csv(self.atr)\n",
    "                return self.df\n",
    "            elif ext == \".json\":\n",
    "                self.df = pd.read_json(self.atr) \n",
    "                return self.df \n",
    "            else:\n",
    "                raise ValueError(\"Invalid file type\")  \n",
    "\n",
    "        elif isinstance(self.atr,pd.DataFrame):\n",
    "            self.df = self.atr\n",
    "            return self.df\n",
    "\n",
    "        elif type(self.atr==type(None)):\n",
    "            new_rnd_data = {\"a\":np.random.randn(10),\n",
    "                            \"b\":np.random.randn(10),\n",
    "                            \"c\":np.random.randn(10)}\n",
    "\n",
    "            self.df = pd.DataFrame(new_rnd_data,columns=new_rnd_data.keys())\n",
    "            return self.df \n",
    "\n",
    "    def descriptive_statistics(self):\n",
    "        '''\n",
    "        The function prints the dataframe info and then the dataframe description\n",
    "        '''\n",
    "        \n",
    "        print(self.df.info())\n",
    "        print(\"*************************\")\n",
    "        print(self.df.describe().T)\n",
    "         \n",
    "    def visualization(self):\n",
    "        '''\n",
    "        This function is used to visualize the data\n",
    "        '''\n",
    "\n",
    "        for col in self.df.columns:\n",
    "            if self.df[col].dtypes != \"O\":\n",
    "                fig,ax = plt.subplots(figsize=(12,6))\n",
    "                ax.hist(self.df[col],facecolor=\"g\", alpha=0.75)\n",
    "                plt.xlabel(f\" {col}\")\n",
    "                plt.ylabel(\"Count\")\n",
    "                plt.title(f\"Histogram of {col}\")\n",
    "                plt.grid(True)\n",
    "                plt.show()"
   ]
  },
  {
   "cell_type": "markdown",
   "id": "5c821b0c-d26a-48a6-8a4d-313df3bf45a7",
   "metadata": {},
   "source": [
    "### With numpy.array"
   ]
  },
  {
   "cell_type": "code",
   "execution_count": 12,
   "id": "72e5dea5-5ba4-406c-bf2c-1fb8208bcbb5",
   "metadata": {},
   "outputs": [
    {
     "data": {
      "text/html": [
       "<div>\n",
       "<style scoped>\n",
       "    .dataframe tbody tr th:only-of-type {\n",
       "        vertical-align: middle;\n",
       "    }\n",
       "\n",
       "    .dataframe tbody tr th {\n",
       "        vertical-align: top;\n",
       "    }\n",
       "\n",
       "    .dataframe thead th {\n",
       "        text-align: right;\n",
       "    }\n",
       "</style>\n",
       "<table border=\"1\" class=\"dataframe\">\n",
       "  <thead>\n",
       "    <tr style=\"text-align: right;\">\n",
       "      <th></th>\n",
       "      <th>0</th>\n",
       "    </tr>\n",
       "  </thead>\n",
       "  <tbody>\n",
       "    <tr>\n",
       "      <th>0</th>\n",
       "      <td>0.823612</td>\n",
       "    </tr>\n",
       "    <tr>\n",
       "      <th>1</th>\n",
       "      <td>-1.469919</td>\n",
       "    </tr>\n",
       "    <tr>\n",
       "      <th>2</th>\n",
       "      <td>0.336173</td>\n",
       "    </tr>\n",
       "    <tr>\n",
       "      <th>3</th>\n",
       "      <td>0.603369</td>\n",
       "    </tr>\n",
       "    <tr>\n",
       "      <th>4</th>\n",
       "      <td>0.043020</td>\n",
       "    </tr>\n",
       "    <tr>\n",
       "      <th>5</th>\n",
       "      <td>-1.190447</td>\n",
       "    </tr>\n",
       "    <tr>\n",
       "      <th>6</th>\n",
       "      <td>1.338900</td>\n",
       "    </tr>\n",
       "    <tr>\n",
       "      <th>7</th>\n",
       "      <td>-0.080630</td>\n",
       "    </tr>\n",
       "    <tr>\n",
       "      <th>8</th>\n",
       "      <td>-0.761790</td>\n",
       "    </tr>\n",
       "    <tr>\n",
       "      <th>9</th>\n",
       "      <td>0.014936</td>\n",
       "    </tr>\n",
       "  </tbody>\n",
       "</table>\n",
       "</div>"
      ],
      "text/plain": [
       "          0\n",
       "0  0.823612\n",
       "1 -1.469919\n",
       "2  0.336173\n",
       "3  0.603369\n",
       "4  0.043020\n",
       "5 -1.190447\n",
       "6  1.338900\n",
       "7 -0.080630\n",
       "8 -0.761790\n",
       "9  0.014936"
      ]
     },
     "execution_count": 12,
     "metadata": {},
     "output_type": "execute_result"
    }
   ],
   "source": [
    "op_1 = DataOperations(np.random.randn(10))\n",
    "op_1.Process()"
   ]
  },
  {
   "cell_type": "code",
   "execution_count": 13,
   "id": "ac5ced51-3c33-4c2d-8fa8-50a58910b4c1",
   "metadata": {},
   "outputs": [
    {
     "name": "stdout",
     "output_type": "stream",
     "text": [
      "<class 'pandas.core.frame.DataFrame'>\n",
      "RangeIndex: 10 entries, 0 to 9\n",
      "Data columns (total 1 columns):\n",
      " #   Column  Non-Null Count  Dtype  \n",
      "---  ------  --------------  -----  \n",
      " 0   0       10 non-null     float64\n",
      "dtypes: float64(1)\n",
      "memory usage: 208.0 bytes\n",
      "None\n",
      "*************************\n",
      "   count      mean       std       min     25%       50%      75%     max\n",
      "0   10.0 -0.034277  0.888384 -1.469919 -0.5915  0.028978  0.53657  1.3389\n"
     ]
    }
   ],
   "source": [
    "op_1.descriptive_statistics()"
   ]
  },
  {
   "cell_type": "code",
   "execution_count": 16,
   "id": "de3da465-cacb-432f-b815-d2720b8a91bf",
   "metadata": {},
   "outputs": [
    {
     "data": {
      "image/png": "[encoded data removed]",
      "text/plain": [
       "<Figure size 864x432 with 1 Axes>"
      ]
     },
     "metadata": {
      "needs_background": "light"
     },
     "output_type": "display_data"
    }
   ],
   "source": [
    "op_1.visualization()"
   ]
  },
  {
   "cell_type": "markdown",
   "id": "4344d18f-995c-45a6-bed2-4b30db1ef5ec",
   "metadata": {},
   "source": [
    "### With path"
   ]
  },
  {
   "cell_type": "code",
   "execution_count": 6,
   "id": "f9b1726a-bcea-4186-8efd-92cd4292d8c8",
   "metadata": {},
   "outputs": [
    {
     "data": {
      "text/html": [
       "<div>\n",
       "<style scoped>\n",
       "    .dataframe tbody tr th:only-of-type {\n",
       "        vertical-align: middle;\n",
       "    }\n",
       "\n",
       "    .dataframe tbody tr th {\n",
       "        vertical-align: top;\n",
       "    }\n",
       "\n",
       "    .dataframe thead th {\n",
       "        text-align: right;\n",
       "    }\n",
       "</style>\n",
       "<table border=\"1\" class=\"dataframe\">\n",
       "  <thead>\n",
       "    <tr style=\"text-align: right;\">\n",
       "      <th></th>\n",
       "      <th>sepal_length</th>\n",
       "      <th>sepal_width</th>\n",
       "      <th>petal_length</th>\n",
       "      <th>petal_width</th>\n",
       "      <th>species</th>\n",
       "    </tr>\n",
       "  </thead>\n",
       "  <tbody>\n",
       "    <tr>\n",
       "      <th>0</th>\n",
       "      <td>5.1</td>\n",
       "      <td>3.5</td>\n",
       "      <td>1.4</td>\n",
       "      <td>0.2</td>\n",
       "      <td>setosa</td>\n",
       "    </tr>\n",
       "    <tr>\n",
       "      <th>1</th>\n",
       "      <td>4.9</td>\n",
       "      <td>3.0</td>\n",
       "      <td>1.4</td>\n",
       "      <td>0.2</td>\n",
       "      <td>setosa</td>\n",
       "    </tr>\n",
       "    <tr>\n",
       "      <th>2</th>\n",
       "      <td>4.7</td>\n",
       "      <td>3.2</td>\n",
       "      <td>1.3</td>\n",
       "      <td>0.2</td>\n",
       "      <td>setosa</td>\n",
       "    </tr>\n",
       "    <tr>\n",
       "      <th>3</th>\n",
       "      <td>4.6</td>\n",
       "      <td>3.1</td>\n",
       "      <td>1.5</td>\n",
       "      <td>0.2</td>\n",
       "      <td>setosa</td>\n",
       "    </tr>\n",
       "    <tr>\n",
       "      <th>4</th>\n",
       "      <td>5.0</td>\n",
       "      <td>3.6</td>\n",
       "      <td>1.4</td>\n",
       "      <td>0.2</td>\n",
       "      <td>setosa</td>\n",
       "    </tr>\n",
       "    <tr>\n",
       "      <th>...</th>\n",
       "      <td>...</td>\n",
       "      <td>...</td>\n",
       "      <td>...</td>\n",
       "      <td>...</td>\n",
       "      <td>...</td>\n",
       "    </tr>\n",
       "    <tr>\n",
       "      <th>145</th>\n",
       "      <td>6.7</td>\n",
       "      <td>3.0</td>\n",
       "      <td>5.2</td>\n",
       "      <td>2.3</td>\n",
       "      <td>virginica</td>\n",
       "    </tr>\n",
       "    <tr>\n",
       "      <th>146</th>\n",
       "      <td>6.3</td>\n",
       "      <td>2.5</td>\n",
       "      <td>5.0</td>\n",
       "      <td>1.9</td>\n",
       "      <td>virginica</td>\n",
       "    </tr>\n",
       "    <tr>\n",
       "      <th>147</th>\n",
       "      <td>6.5</td>\n",
       "      <td>3.0</td>\n",
       "      <td>5.2</td>\n",
       "      <td>2.0</td>\n",
       "      <td>virginica</td>\n",
       "    </tr>\n",
       "    <tr>\n",
       "      <th>148</th>\n",
       "      <td>6.2</td>\n",
       "      <td>3.4</td>\n",
       "      <td>5.4</td>\n",
       "      <td>2.3</td>\n",
       "      <td>virginica</td>\n",
       "    </tr>\n",
       "    <tr>\n",
       "      <th>149</th>\n",
       "      <td>5.9</td>\n",
       "      <td>3.0</td>\n",
       "      <td>5.1</td>\n",
       "      <td>1.8</td>\n",
       "      <td>virginica</td>\n",
       "    </tr>\n",
       "  </tbody>\n",
       "</table>\n",
       "<p>150 rows × 5 columns</p>\n",
       "</div>"
      ],
      "text/plain": [
       "     sepal_length  sepal_width  petal_length  petal_width    species\n",
       "0             5.1          3.5           1.4          0.2     setosa\n",
       "1             4.9          3.0           1.4          0.2     setosa\n",
       "2             4.7          3.2           1.3          0.2     setosa\n",
       "3             4.6          3.1           1.5          0.2     setosa\n",
       "4             5.0          3.6           1.4          0.2     setosa\n",
       "..            ...          ...           ...          ...        ...\n",
       "145           6.7          3.0           5.2          2.3  virginica\n",
       "146           6.3          2.5           5.0          1.9  virginica\n",
       "147           6.5          3.0           5.2          2.0  virginica\n",
       "148           6.2          3.4           5.4          2.3  virginica\n",
       "149           5.9          3.0           5.1          1.8  virginica\n",
       "\n",
       "[150 rows x 5 columns]"
      ]
     },
     "execution_count": 6,
     "metadata": {},
     "output_type": "execute_result"
    }
   ],
   "source": [
    "op_2 = DataOperations(\"C:/Users/emirh/OneDrive/Belgeler/trial_dataset.csv\")\n",
    "op_2.Process()"
   ]
  },
  {
   "cell_type": "code",
   "execution_count": 7,
   "id": "0db5f392-d8a0-4b16-9f2e-2b66a33b3d99",
   "metadata": {},
   "outputs": [
    {
     "name": "stdout",
     "output_type": "stream",
     "text": [
      "Variable: sepal_length, dtype: float64, count: 150, mean: 5.84, std: 0.83, min: 4.3, Q1: 5.1, median: 5.8, Q3: 6.4, max: 7.9\n",
      "Variable: sepal_width, dtype: float64, count: 150, mean: 3.06, std: 0.44, min: 2.0, Q1: 2.8, median: 3.0, Q3: 3.3, max: 4.4\n",
      "Variable: petal_length, dtype: float64, count: 150, mean: 3.76, std: 1.77, min: 1.0, Q1: 1.6, median: 4.35, Q3: 5.1, max: 6.9\n",
      "Variable: petal_width, dtype: float64, count: 150, mean: 1.2, std: 0.76, min: 0.1, Q1: 0.3, median: 1.3, Q3: 1.8, max: 2.5\n",
      "Variable: species, dtype: object, count: 150, number of unique: 3\n"
     ]
    }
   ],
   "source": [
    "op_2.descriptive_statistics()"
   ]
  },
  {
   "cell_type": "code",
   "execution_count": 8,
   "id": "795f1c6a-f445-4954-a1de-b3513cd7f82c",
   "metadata": {},
   "outputs": [
    {
     "data": {
      "image/png": "[encoded data removed]",
      "text/plain": [
       "<Figure size 864x432 with 1 Axes>"
      ]
     },
     "metadata": {
      "needs_background": "light"
     },
     "output_type": "display_data"
    },
    {
     "data": {
      "image/png": "[encoded data removed]",
      "text/plain": [
       "<Figure size 864x432 with 1 Axes>"
      ]
     },
     "metadata": {
      "needs_background": "light"
     },
     "output_type": "display_data"
    },
    {
     "data": {
      "image/png": "[encoded data removed]",
      "text/plain": [
       "<Figure size 864x432 with 1 Axes>"
      ]
     },
     "metadata": {
      "needs_background": "light"
     },
     "output_type": "display_data"
    },
    {
     "data": {
      "image/png": "[encoded data removed]",
      "text/plain": [
       "<Figure size 864x432 with 1 Axes>"
      ]
     },
     "metadata": {
      "needs_background": "light"
     },
     "output_type": "display_data"
    }
   ],
   "source": [
    "op_2.visualization()"
   ]
  },
  {
   "cell_type": "markdown",
   "id": "bc1c6e91-3a32-4716-91bf-43dc554b4b78",
   "metadata": {},
   "source": [
    "### With Dataframe"
   ]
  },
  {
   "cell_type": "code",
   "execution_count": 9,
   "id": "b71a297e-4453-4d11-b9ed-ba704ff5c7ad",
   "metadata": {},
   "outputs": [],
   "source": [
    "df_1 = pd.DataFrame(np.array([[1, 2, 3], [4, 5, 6], [7, 8, 9]]),\n",
    "                   columns=['a', 'b', 'c'])"
   ]
  },
  {
   "cell_type": "code",
   "execution_count": 10,
   "id": "391a9cee-edd1-40f3-aa45-d64892470047",
   "metadata": {},
   "outputs": [
    {
     "data": {
      "text/html": [
       "<div>\n",
       "<style scoped>\n",
       "    .dataframe tbody tr th:only-of-type {\n",
       "        vertical-align: middle;\n",
       "    }\n",
       "\n",
       "    .dataframe tbody tr th {\n",
       "        vertical-align: top;\n",
       "    }\n",
       "\n",
       "    .dataframe thead th {\n",
       "        text-align: right;\n",
       "    }\n",
       "</style>\n",
       "<table border=\"1\" class=\"dataframe\">\n",
       "  <thead>\n",
       "    <tr style=\"text-align: right;\">\n",
       "      <th></th>\n",
       "      <th>a</th>\n",
       "      <th>b</th>\n",
       "      <th>c</th>\n",
       "    </tr>\n",
       "  </thead>\n",
       "  <tbody>\n",
       "    <tr>\n",
       "      <th>0</th>\n",
       "      <td>1</td>\n",
       "      <td>2</td>\n",
       "      <td>3</td>\n",
       "    </tr>\n",
       "    <tr>\n",
       "      <th>1</th>\n",
       "      <td>4</td>\n",
       "      <td>5</td>\n",
       "      <td>6</td>\n",
       "    </tr>\n",
       "    <tr>\n",
       "      <th>2</th>\n",
       "      <td>7</td>\n",
       "      <td>8</td>\n",
       "      <td>9</td>\n",
       "    </tr>\n",
       "  </tbody>\n",
       "</table>\n",
       "</div>"
      ],
      "text/plain": [
       "   a  b  c\n",
       "0  1  2  3\n",
       "1  4  5  6\n",
       "2  7  8  9"
      ]
     },
     "execution_count": 10,
     "metadata": {},
     "output_type": "execute_result"
    }
   ],
   "source": [
    "op_3 = DataOperations(df_1)\n",
    "op_3.Process()"
   ]
  },
  {
   "cell_type": "code",
   "execution_count": 11,
   "id": "124d6599-78ea-434a-b29a-21160bcb675d",
   "metadata": {},
   "outputs": [
    {
     "name": "stdout",
     "output_type": "stream",
     "text": [
      "Variable: a, dtype: int32, count: 3, mean: 4.0, std: 3.0, min: 1, Q1: 2.5, median: 4.0, Q3: 5.5, max: 7\n",
      "Variable: b, dtype: int32, count: 3, mean: 5.0, std: 3.0, min: 2, Q1: 3.5, median: 5.0, Q3: 6.5, max: 8\n",
      "Variable: c, dtype: int32, count: 3, mean: 6.0, std: 3.0, min: 3, Q1: 4.5, median: 6.0, Q3: 7.5, max: 9\n"
     ]
    }
   ],
   "source": [
    "op_3.descriptive_statistics()"
   ]
  },
  {
   "cell_type": "code",
   "execution_count": 12,
   "id": "fef39924-dd3c-428a-b73e-9abf901189b8",
   "metadata": {},
   "outputs": [
    {
     "data": {
      "image/png": "[encoded data removed]",
      "text/plain": [
       "<Figure size 864x432 with 1 Axes>"
      ]
     },
     "metadata": {
      "needs_background": "light"
     },
     "output_type": "display_data"
    },
    {
     "data": {
      "image/png": "[encoded data removed]",
      "text/plain": [
       "<Figure size 864x432 with 1 Axes>"
      ]
     },
     "metadata": {
      "needs_background": "light"
     },
     "output_type": "display_data"
    },
    {
     "data": {
      "image/png": "[encoded data removed]",
      "text/plain": [
       "<Figure size 864x432 with 1 Axes>"
      ]
     },
     "metadata": {
      "needs_background": "light"
     },
     "output_type": "display_data"
    }
   ],
   "source": [
    "op_3.visualization()"
   ]
  },
  {
   "cell_type": "markdown",
   "id": "38ed4720-37c0-4e29-bce4-bf4e8e544aa7",
   "metadata": {},
   "source": [
    "### With (Not given)"
   ]
  },
  {
   "cell_type": "code",
   "execution_count": 13,
   "id": "94da5edb-b15c-4c4b-bf89-09e5cbf7a789",
   "metadata": {},
   "outputs": [
    {
     "data": {
      "text/html": [
       "<div>\n",
       "<style scoped>\n",
       "    .dataframe tbody tr th:only-of-type {\n",
       "        vertical-align: middle;\n",
       "    }\n",
       "\n",
       "    .dataframe tbody tr th {\n",
       "        vertical-align: top;\n",
       "    }\n",
       "\n",
       "    .dataframe thead th {\n",
       "        text-align: right;\n",
       "    }\n",
       "</style>\n",
       "<table border=\"1\" class=\"dataframe\">\n",
       "  <thead>\n",
       "    <tr style=\"text-align: right;\">\n",
       "      <th></th>\n",
       "      <th>a</th>\n",
       "      <th>b</th>\n",
       "      <th>c</th>\n",
       "    </tr>\n",
       "  </thead>\n",
       "  <tbody>\n",
       "    <tr>\n",
       "      <th>0</th>\n",
       "      <td>0.428282</td>\n",
       "      <td>1.056679</td>\n",
       "      <td>1.183857</td>\n",
       "    </tr>\n",
       "    <tr>\n",
       "      <th>1</th>\n",
       "      <td>-1.545434</td>\n",
       "      <td>-1.634806</td>\n",
       "      <td>-0.739025</td>\n",
       "    </tr>\n",
       "    <tr>\n",
       "      <th>2</th>\n",
       "      <td>0.779632</td>\n",
       "      <td>-0.553309</td>\n",
       "      <td>0.697017</td>\n",
       "    </tr>\n",
       "    <tr>\n",
       "      <th>3</th>\n",
       "      <td>-0.147892</td>\n",
       "      <td>0.536339</td>\n",
       "      <td>0.121246</td>\n",
       "    </tr>\n",
       "    <tr>\n",
       "      <th>4</th>\n",
       "      <td>-2.191828</td>\n",
       "      <td>-0.587651</td>\n",
       "      <td>-3.343445</td>\n",
       "    </tr>\n",
       "    <tr>\n",
       "      <th>5</th>\n",
       "      <td>2.018208</td>\n",
       "      <td>-0.918680</td>\n",
       "      <td>2.486829</td>\n",
       "    </tr>\n",
       "    <tr>\n",
       "      <th>6</th>\n",
       "      <td>0.068211</td>\n",
       "      <td>-0.210918</td>\n",
       "      <td>-0.460464</td>\n",
       "    </tr>\n",
       "    <tr>\n",
       "      <th>7</th>\n",
       "      <td>-0.675684</td>\n",
       "      <td>0.092352</td>\n",
       "      <td>0.371727</td>\n",
       "    </tr>\n",
       "    <tr>\n",
       "      <th>8</th>\n",
       "      <td>-0.163637</td>\n",
       "      <td>0.359163</td>\n",
       "      <td>-1.058372</td>\n",
       "    </tr>\n",
       "    <tr>\n",
       "      <th>9</th>\n",
       "      <td>0.924973</td>\n",
       "      <td>0.302260</td>\n",
       "      <td>1.558811</td>\n",
       "    </tr>\n",
       "  </tbody>\n",
       "</table>\n",
       "</div>"
      ],
      "text/plain": [
       "          a         b         c\n",
       "0  0.428282  1.056679  1.183857\n",
       "1 -1.545434 -1.634806 -0.739025\n",
       "2  0.779632 -0.553309  0.697017\n",
       "3 -0.147892  0.536339  0.121246\n",
       "4 -2.191828 -0.587651 -3.343445\n",
       "5  2.018208 -0.918680  2.486829\n",
       "6  0.068211 -0.210918 -0.460464\n",
       "7 -0.675684  0.092352  0.371727\n",
       "8 -0.163637  0.359163 -1.058372\n",
       "9  0.924973  0.302260  1.558811"
      ]
     },
     "execution_count": 13,
     "metadata": {},
     "output_type": "execute_result"
    }
   ],
   "source": [
    "op_4 = DataOperations()\n",
    "op_4.Process()"
   ]
  },
  {
   "cell_type": "code",
   "execution_count": 14,
   "id": "79b6dfa5-38b8-4aac-83e7-d6fc27386783",
   "metadata": {},
   "outputs": [
    {
     "name": "stdout",
     "output_type": "stream",
     "text": [
      "Variable: a, dtype: float64, count: 10, mean: 0.07, std: 1.42, min: -2.07, Q1: -0.97, median: -0.18, Q3: 0.89, max: 2.43\n",
      "Variable: b, dtype: float64, count: 10, mean: 0.42, std: 1.26, min: -1.16, Q1: -0.75, median: 0.5, Q3: 1.19, max: 2.41\n",
      "Variable: c, dtype: float64, count: 10, mean: 0.14, std: 1.09, min: -1.6, Q1: -0.12, median: 0.17, Q3: 0.61, max: 2.18\n"
     ]
    }
   ],
   "source": [
    "op_4.descriptive_statistics()"
   ]
  },
  {
   "cell_type": "code",
   "execution_count": 15,
   "id": "db3b1490-4678-416a-b2ef-17c4f32ac71f",
   "metadata": {},
   "outputs": [
    {
     "data": {
      "image/png": "[encoded data removed]",
      "text/plain": [
       "<Figure size 864x432 with 1 Axes>"
      ]
     },
     "metadata": {
      "needs_background": "light"
     },
     "output_type": "display_data"
    },
    {
     "data": {
      "image/png": "[encoded data removed]",
      "text/plain": [
       "<Figure size 864x432 with 1 Axes>"
      ]
     },
     "metadata": {
      "needs_background": "light"
     },
     "output_type": "display_data"
    },
    {
     "data": {
      "image/png": "[encoded data removed]",
      "text/plain": [
       "<Figure size 864x432 with 1 Axes>"
      ]
     },
     "metadata": {
      "needs_background": "light"
     },
     "output_type": "display_data"
    }
   ],
   "source": [
    "op_4.visualization()"
   ]
  }
 ],
 "metadata": {
  "kernelspec": {
   "display_name": "Python 3",
   "language": "python",
   "name": "python3"
  },
  "language_info": {
   "codemirror_mode": {
    "name": "ipython",
    "version": 3
   },
   "file_extension": ".py",
   "mimetype": "text/x-python",
   "name": "python",
   "nbconvert_exporter": "python",
   "pygments_lexer": "ipython3",
   "version": "3.8.8"
  }
 },
 "nbformat": 4,
 "nbformat_minor": 5
}
