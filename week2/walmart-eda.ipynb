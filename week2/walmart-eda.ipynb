{
 "cells": [
  {
   "cell_type": "code",
   "execution_count": 1,
   "id": "ba3f9ae6",
   "metadata": {
    "execution": {
     "iopub.execute_input": "2022-02-13T18:05:50.464820Z",
     "iopub.status.busy": "2022-02-13T18:05:50.464128Z",
     "iopub.status.idle": "2022-02-13T18:05:51.626174Z",
     "shell.execute_reply": "2022-02-13T18:05:51.626782Z",
     "shell.execute_reply.started": "2022-02-13T18:05:07.502129Z"
    },
    "id": "CNd6Z75ma7Ua",
    "papermill": {
     "duration": 1.212619,
     "end_time": "2022-02-13T18:05:51.627123",
     "exception": false,
     "start_time": "2022-02-13T18:05:50.414504",
     "status": "completed"
    },
    "tags": []
   },
   "outputs": [
    {
     "name": "stdout",
     "output_type": "stream",
     "text": [
      "/kaggle/input/walmart-dataset/Walmart.csv\n"
     ]
    }
   ],
   "source": [
    "import pandas as pd\n",
    "import numpy as np\n",
    "import matplotlib.pyplot as plt\n",
    "import seaborn as sns\n",
    "import datetime as dt\n",
    "import scipy.stats as stats\n",
    "\n",
    "import os\n",
    "for dirname, _, filenames in os.walk('/kaggle/input'):\n",
    "    for filename in filenames:\n",
    "        print(os.path.join(dirname, filename))\n",
    "data = pd.read_csv('../input/walmart-dataset/Walmart.csv')\n",
    "df = data.copy()        "
   ]
  },
  {
   "cell_type": "markdown",
   "id": "b9095c6b",
   "metadata": {
    "id": "LCfu6C32dEHt",
    "papermill": {
     "duration": 0.039033,
     "end_time": "2022-02-13T18:05:51.707440",
     "exception": false,
     "start_time": "2022-02-13T18:05:51.668407",
     "status": "completed"
    },
    "tags": []
   },
   "source": [
    "**Features**\n",
    "* Store - the store number\n",
    "* Date - the week of sales\n",
    "* Weekly_Sales - sales for the given store\n",
    "* Holiday_Flag - whether the week is a special holiday week 1 – Holiday week 0 – Non-holiday week\n",
    "* Temperature - Temperature on the day of sale\n",
    "* Fuel_Price - Cost of fuel in the region\n",
    "* CPI – Prevailing consumer price index\n",
    "* Unemployment - Prevailing unemployment rate\n",
    "* Holiday Events\\\n",
    " * Super Bowl: 12-Feb-10, 11-Feb-11, 10-Feb-12, 8-Feb-13\\\n",
    " * Labour Day: 10-Sep-10, 9-Sep-11, 7-Sep-12, 6-Sep-13\\ \n",
    " * Thanksgiving: 26-Nov-10, 25-Nov-11, 23-Nov-12, 29-Nov-13\\\n",
    " * Christmas: 31-Dec-10, 30-Dec-11, 28-Dec-12, 27-Dec-13\n",
    "\n",
    "\n",
    "\n"
   ]
  },
  {
   "cell_type": "code",
   "execution_count": 2,
   "id": "0d519311",
   "metadata": {
    "execution": {
     "iopub.execute_input": "2022-02-13T18:05:51.791775Z",
     "iopub.status.busy": "2022-02-13T18:05:51.791118Z",
     "iopub.status.idle": "2022-02-13T18:05:51.815508Z",
     "shell.execute_reply": "2022-02-13T18:05:51.816142Z",
     "shell.execute_reply.started": "2022-02-13T18:05:08.056205Z"
    },
    "id": "uHDq4Linbe3J",
    "outputId": "f39d567c-ed59-4291-b505-711371f99cdc",
    "papermill": {
     "duration": 0.068972,
     "end_time": "2022-02-13T18:05:51.816314",
     "exception": false,
     "start_time": "2022-02-13T18:05:51.747342",
     "status": "completed"
    },
    "tags": []
   },
   "outputs": [
    {
     "data": {
      "text/html": [
       "<div>\n",
       "<style scoped>\n",
       "    .dataframe tbody tr th:only-of-type {\n",
       "        vertical-align: middle;\n",
       "    }\n",
       "\n",
       "    .dataframe tbody tr th {\n",
       "        vertical-align: top;\n",
       "    }\n",
       "\n",
       "    .dataframe thead th {\n",
       "        text-align: right;\n",
       "    }\n",
       "</style>\n",
       "<table border=\"1\" class=\"dataframe\">\n",
       "  <thead>\n",
       "    <tr style=\"text-align: right;\">\n",
       "      <th></th>\n",
       "      <th>Store</th>\n",
       "      <th>Date</th>\n",
       "      <th>Weekly_Sales</th>\n",
       "      <th>Holiday_Flag</th>\n",
       "      <th>Temperature</th>\n",
       "      <th>Fuel_Price</th>\n",
       "      <th>CPI</th>\n",
       "      <th>Unemployment</th>\n",
       "    </tr>\n",
       "  </thead>\n",
       "  <tbody>\n",
       "    <tr>\n",
       "      <th>0</th>\n",
       "      <td>1</td>\n",
       "      <td>05-02-2010</td>\n",
       "      <td>1643690.90</td>\n",
       "      <td>0</td>\n",
       "      <td>42.31</td>\n",
       "      <td>2.572</td>\n",
       "      <td>211.096358</td>\n",
       "      <td>8.106</td>\n",
       "    </tr>\n",
       "    <tr>\n",
       "      <th>1</th>\n",
       "      <td>1</td>\n",
       "      <td>12-02-2010</td>\n",
       "      <td>1641957.44</td>\n",
       "      <td>1</td>\n",
       "      <td>38.51</td>\n",
       "      <td>2.548</td>\n",
       "      <td>211.242170</td>\n",
       "      <td>8.106</td>\n",
       "    </tr>\n",
       "    <tr>\n",
       "      <th>2</th>\n",
       "      <td>1</td>\n",
       "      <td>19-02-2010</td>\n",
       "      <td>1611968.17</td>\n",
       "      <td>0</td>\n",
       "      <td>39.93</td>\n",
       "      <td>2.514</td>\n",
       "      <td>211.289143</td>\n",
       "      <td>8.106</td>\n",
       "    </tr>\n",
       "    <tr>\n",
       "      <th>3</th>\n",
       "      <td>1</td>\n",
       "      <td>26-02-2010</td>\n",
       "      <td>1409727.59</td>\n",
       "      <td>0</td>\n",
       "      <td>46.63</td>\n",
       "      <td>2.561</td>\n",
       "      <td>211.319643</td>\n",
       "      <td>8.106</td>\n",
       "    </tr>\n",
       "    <tr>\n",
       "      <th>4</th>\n",
       "      <td>1</td>\n",
       "      <td>05-03-2010</td>\n",
       "      <td>1554806.68</td>\n",
       "      <td>0</td>\n",
       "      <td>46.50</td>\n",
       "      <td>2.625</td>\n",
       "      <td>211.350143</td>\n",
       "      <td>8.106</td>\n",
       "    </tr>\n",
       "  </tbody>\n",
       "</table>\n",
       "</div>"
      ],
      "text/plain": [
       "   Store        Date  Weekly_Sales  Holiday_Flag  Temperature  Fuel_Price  \\\n",
       "0      1  05-02-2010    1643690.90             0        42.31       2.572   \n",
       "1      1  12-02-2010    1641957.44             1        38.51       2.548   \n",
       "2      1  19-02-2010    1611968.17             0        39.93       2.514   \n",
       "3      1  26-02-2010    1409727.59             0        46.63       2.561   \n",
       "4      1  05-03-2010    1554806.68             0        46.50       2.625   \n",
       "\n",
       "          CPI  Unemployment  \n",
       "0  211.096358         8.106  \n",
       "1  211.242170         8.106  \n",
       "2  211.289143         8.106  \n",
       "3  211.319643         8.106  \n",
       "4  211.350143         8.106  "
      ]
     },
     "execution_count": 2,
     "metadata": {},
     "output_type": "execute_result"
    }
   ],
   "source": [
    "df.head()"
   ]
  },
  {
   "cell_type": "code",
   "execution_count": 3,
   "id": "27ee5dc6",
   "metadata": {
    "execution": {
     "iopub.execute_input": "2022-02-13T18:05:51.900047Z",
     "iopub.status.busy": "2022-02-13T18:05:51.899368Z",
     "iopub.status.idle": "2022-02-13T18:05:51.926006Z",
     "shell.execute_reply": "2022-02-13T18:05:51.926517Z",
     "shell.execute_reply.started": "2022-02-13T18:05:08.080198Z"
    },
    "id": "WYu3JI6jcjSB",
    "outputId": "a57d8f0d-580f-44bd-e2b6-9e09a747fd52",
    "papermill": {
     "duration": 0.070734,
     "end_time": "2022-02-13T18:05:51.926733",
     "exception": false,
     "start_time": "2022-02-13T18:05:51.855999",
     "status": "completed"
    },
    "tags": []
   },
   "outputs": [
    {
     "name": "stdout",
     "output_type": "stream",
     "text": [
      "<class 'pandas.core.frame.DataFrame'>\n",
      "RangeIndex: 6435 entries, 0 to 6434\n",
      "Data columns (total 8 columns):\n",
      " #   Column        Non-Null Count  Dtype  \n",
      "---  ------        --------------  -----  \n",
      " 0   Store         6435 non-null   int64  \n",
      " 1   Date          6435 non-null   object \n",
      " 2   Weekly_Sales  6435 non-null   float64\n",
      " 3   Holiday_Flag  6435 non-null   int64  \n",
      " 4   Temperature   6435 non-null   float64\n",
      " 5   Fuel_Price    6435 non-null   float64\n",
      " 6   CPI           6435 non-null   float64\n",
      " 7   Unemployment  6435 non-null   float64\n",
      "dtypes: float64(5), int64(2), object(1)\n",
      "memory usage: 402.3+ KB\n"
     ]
    }
   ],
   "source": [
    "df.info()"
   ]
  },
  {
   "cell_type": "code",
   "execution_count": 4,
   "id": "5231c348",
   "metadata": {
    "execution": {
     "iopub.execute_input": "2022-02-13T18:05:52.016241Z",
     "iopub.status.busy": "2022-02-13T18:05:52.012784Z",
     "iopub.status.idle": "2022-02-13T18:05:52.023457Z",
     "shell.execute_reply": "2022-02-13T18:05:52.023953Z",
     "shell.execute_reply.started": "2022-02-13T18:05:08.099259Z"
    },
    "id": "O-Mv_AfOiy3x",
    "papermill": {
     "duration": 0.054916,
     "end_time": "2022-02-13T18:05:52.024140",
     "exception": false,
     "start_time": "2022-02-13T18:05:51.969224",
     "status": "completed"
    },
    "tags": []
   },
   "outputs": [],
   "source": [
    "df['Date'] = pd.to_datetime(df['Date'])"
   ]
  },
  {
   "cell_type": "code",
   "execution_count": 5,
   "id": "229775b3",
   "metadata": {
    "execution": {
     "iopub.execute_input": "2022-02-13T18:05:52.109739Z",
     "iopub.status.busy": "2022-02-13T18:05:52.109063Z",
     "iopub.status.idle": "2022-02-13T18:05:52.122936Z",
     "shell.execute_reply": "2022-02-13T18:05:52.123487Z",
     "shell.execute_reply.started": "2022-02-13T18:05:08.109131Z"
    },
    "id": "RGSfMkbMk6HE",
    "papermill": {
     "duration": 0.05841,
     "end_time": "2022-02-13T18:05:52.123676",
     "exception": false,
     "start_time": "2022-02-13T18:05:52.065266",
     "status": "completed"
    },
    "tags": []
   },
   "outputs": [],
   "source": [
    "df['Year'] = df['Date'].dt.year\n",
    "df['Month'] = df['Date'].dt.month\n",
    "df['Day'] = df['Date'].dt.day\n",
    "df.drop('Date',axis=1,inplace=True)"
   ]
  },
  {
   "cell_type": "code",
   "execution_count": 6,
   "id": "1be56bc9",
   "metadata": {
    "execution": {
     "iopub.execute_input": "2022-02-13T18:05:52.220674Z",
     "iopub.status.busy": "2022-02-13T18:05:52.219954Z",
     "iopub.status.idle": "2022-02-13T18:05:52.222722Z",
     "shell.execute_reply": "2022-02-13T18:05:52.223314Z",
     "shell.execute_reply.started": "2022-02-13T18:05:08.127495Z"
    },
    "id": "9Ct0jgahjoO8",
    "outputId": "6f447f7c-6e0b-412f-9df8-f2ad18ca498b",
    "papermill": {
     "duration": 0.059293,
     "end_time": "2022-02-13T18:05:52.223478",
     "exception": false,
     "start_time": "2022-02-13T18:05:52.164185",
     "status": "completed"
    },
    "tags": []
   },
   "outputs": [
    {
     "data": {
      "text/html": [
       "<div>\n",
       "<style scoped>\n",
       "    .dataframe tbody tr th:only-of-type {\n",
       "        vertical-align: middle;\n",
       "    }\n",
       "\n",
       "    .dataframe tbody tr th {\n",
       "        vertical-align: top;\n",
       "    }\n",
       "\n",
       "    .dataframe thead th {\n",
       "        text-align: right;\n",
       "    }\n",
       "</style>\n",
       "<table border=\"1\" class=\"dataframe\">\n",
       "  <thead>\n",
       "    <tr style=\"text-align: right;\">\n",
       "      <th></th>\n",
       "      <th>Store</th>\n",
       "      <th>Weekly_Sales</th>\n",
       "      <th>Holiday_Flag</th>\n",
       "      <th>Temperature</th>\n",
       "      <th>Fuel_Price</th>\n",
       "      <th>CPI</th>\n",
       "      <th>Unemployment</th>\n",
       "      <th>Year</th>\n",
       "      <th>Month</th>\n",
       "      <th>Day</th>\n",
       "    </tr>\n",
       "  </thead>\n",
       "  <tbody>\n",
       "    <tr>\n",
       "      <th>0</th>\n",
       "      <td>1</td>\n",
       "      <td>1643690.90</td>\n",
       "      <td>0</td>\n",
       "      <td>42.31</td>\n",
       "      <td>2.572</td>\n",
       "      <td>211.096358</td>\n",
       "      <td>8.106</td>\n",
       "      <td>2010</td>\n",
       "      <td>5</td>\n",
       "      <td>2</td>\n",
       "    </tr>\n",
       "    <tr>\n",
       "      <th>1</th>\n",
       "      <td>1</td>\n",
       "      <td>1641957.44</td>\n",
       "      <td>1</td>\n",
       "      <td>38.51</td>\n",
       "      <td>2.548</td>\n",
       "      <td>211.242170</td>\n",
       "      <td>8.106</td>\n",
       "      <td>2010</td>\n",
       "      <td>12</td>\n",
       "      <td>2</td>\n",
       "    </tr>\n",
       "    <tr>\n",
       "      <th>2</th>\n",
       "      <td>1</td>\n",
       "      <td>1611968.17</td>\n",
       "      <td>0</td>\n",
       "      <td>39.93</td>\n",
       "      <td>2.514</td>\n",
       "      <td>211.289143</td>\n",
       "      <td>8.106</td>\n",
       "      <td>2010</td>\n",
       "      <td>2</td>\n",
       "      <td>19</td>\n",
       "    </tr>\n",
       "    <tr>\n",
       "      <th>3</th>\n",
       "      <td>1</td>\n",
       "      <td>1409727.59</td>\n",
       "      <td>0</td>\n",
       "      <td>46.63</td>\n",
       "      <td>2.561</td>\n",
       "      <td>211.319643</td>\n",
       "      <td>8.106</td>\n",
       "      <td>2010</td>\n",
       "      <td>2</td>\n",
       "      <td>26</td>\n",
       "    </tr>\n",
       "    <tr>\n",
       "      <th>4</th>\n",
       "      <td>1</td>\n",
       "      <td>1554806.68</td>\n",
       "      <td>0</td>\n",
       "      <td>46.50</td>\n",
       "      <td>2.625</td>\n",
       "      <td>211.350143</td>\n",
       "      <td>8.106</td>\n",
       "      <td>2010</td>\n",
       "      <td>5</td>\n",
       "      <td>3</td>\n",
       "    </tr>\n",
       "  </tbody>\n",
       "</table>\n",
       "</div>"
      ],
      "text/plain": [
       "   Store  Weekly_Sales  Holiday_Flag  Temperature  Fuel_Price         CPI  \\\n",
       "0      1    1643690.90             0        42.31       2.572  211.096358   \n",
       "1      1    1641957.44             1        38.51       2.548  211.242170   \n",
       "2      1    1611968.17             0        39.93       2.514  211.289143   \n",
       "3      1    1409727.59             0        46.63       2.561  211.319643   \n",
       "4      1    1554806.68             0        46.50       2.625  211.350143   \n",
       "\n",
       "   Unemployment  Year  Month  Day  \n",
       "0         8.106  2010      5    2  \n",
       "1         8.106  2010     12    2  \n",
       "2         8.106  2010      2   19  \n",
       "3         8.106  2010      2   26  \n",
       "4         8.106  2010      5    3  "
      ]
     },
     "execution_count": 6,
     "metadata": {},
     "output_type": "execute_result"
    }
   ],
   "source": [
    "df.head()"
   ]
  },
  {
   "cell_type": "code",
   "execution_count": 7,
   "id": "9ee523d0",
   "metadata": {
    "execution": {
     "iopub.execute_input": "2022-02-13T18:05:52.311136Z",
     "iopub.status.busy": "2022-02-13T18:05:52.310450Z",
     "iopub.status.idle": "2022-02-13T18:05:52.318314Z",
     "shell.execute_reply": "2022-02-13T18:05:52.318914Z",
     "shell.execute_reply.started": "2022-02-13T18:05:08.144350Z"
    },
    "id": "EwZMM2czitlt",
    "outputId": "2ceb617f-c9c4-48ab-ff58-4a7784117eb8",
    "papermill": {
     "duration": 0.053624,
     "end_time": "2022-02-13T18:05:52.319087",
     "exception": false,
     "start_time": "2022-02-13T18:05:52.265463",
     "status": "completed"
    },
    "tags": []
   },
   "outputs": [
    {
     "data": {
      "text/plain": [
       "Store           0\n",
       "Weekly_Sales    0\n",
       "Holiday_Flag    0\n",
       "Temperature     0\n",
       "Fuel_Price      0\n",
       "CPI             0\n",
       "Unemployment    0\n",
       "Year            0\n",
       "Month           0\n",
       "Day             0\n",
       "dtype: int64"
      ]
     },
     "execution_count": 7,
     "metadata": {},
     "output_type": "execute_result"
    }
   ],
   "source": [
    "df.isnull().sum()"
   ]
  },
  {
   "cell_type": "code",
   "execution_count": 8,
   "id": "34732c17",
   "metadata": {
    "execution": {
     "iopub.execute_input": "2022-02-13T18:05:52.410671Z",
     "iopub.status.busy": "2022-02-13T18:05:52.409938Z",
     "iopub.status.idle": "2022-02-13T18:05:52.453006Z",
     "shell.execute_reply": "2022-02-13T18:05:52.453481Z",
     "shell.execute_reply.started": "2022-02-13T18:05:08.159379Z"
    },
    "id": "YWhH5dRqlcUy",
    "outputId": "54c444bd-569c-49ba-bd24-cb9d62f246d1",
    "papermill": {
     "duration": 0.092938,
     "end_time": "2022-02-13T18:05:52.453672",
     "exception": false,
     "start_time": "2022-02-13T18:05:52.360734",
     "status": "completed"
    },
    "tags": []
   },
   "outputs": [
    {
     "data": {
      "text/html": [
       "<div>\n",
       "<style scoped>\n",
       "    .dataframe tbody tr th:only-of-type {\n",
       "        vertical-align: middle;\n",
       "    }\n",
       "\n",
       "    .dataframe tbody tr th {\n",
       "        vertical-align: top;\n",
       "    }\n",
       "\n",
       "    .dataframe thead th {\n",
       "        text-align: right;\n",
       "    }\n",
       "</style>\n",
       "<table border=\"1\" class=\"dataframe\">\n",
       "  <thead>\n",
       "    <tr style=\"text-align: right;\">\n",
       "      <th></th>\n",
       "      <th>count</th>\n",
       "      <th>mean</th>\n",
       "      <th>std</th>\n",
       "      <th>min</th>\n",
       "      <th>25%</th>\n",
       "      <th>50%</th>\n",
       "      <th>75%</th>\n",
       "      <th>max</th>\n",
       "    </tr>\n",
       "  </thead>\n",
       "  <tbody>\n",
       "    <tr>\n",
       "      <th>Store</th>\n",
       "      <td>6435.0</td>\n",
       "      <td>23.00</td>\n",
       "      <td>12.99</td>\n",
       "      <td>1.00</td>\n",
       "      <td>12.00</td>\n",
       "      <td>23.00</td>\n",
       "      <td>34.00</td>\n",
       "      <td>45.00</td>\n",
       "    </tr>\n",
       "    <tr>\n",
       "      <th>Weekly_Sales</th>\n",
       "      <td>6435.0</td>\n",
       "      <td>1046964.88</td>\n",
       "      <td>564366.62</td>\n",
       "      <td>209986.25</td>\n",
       "      <td>553350.10</td>\n",
       "      <td>960746.04</td>\n",
       "      <td>1420158.66</td>\n",
       "      <td>3818686.45</td>\n",
       "    </tr>\n",
       "    <tr>\n",
       "      <th>Holiday_Flag</th>\n",
       "      <td>6435.0</td>\n",
       "      <td>0.07</td>\n",
       "      <td>0.26</td>\n",
       "      <td>0.00</td>\n",
       "      <td>0.00</td>\n",
       "      <td>0.00</td>\n",
       "      <td>0.00</td>\n",
       "      <td>1.00</td>\n",
       "    </tr>\n",
       "    <tr>\n",
       "      <th>Temperature</th>\n",
       "      <td>6435.0</td>\n",
       "      <td>60.66</td>\n",
       "      <td>18.44</td>\n",
       "      <td>-2.06</td>\n",
       "      <td>47.46</td>\n",
       "      <td>62.67</td>\n",
       "      <td>74.94</td>\n",
       "      <td>100.14</td>\n",
       "    </tr>\n",
       "    <tr>\n",
       "      <th>Fuel_Price</th>\n",
       "      <td>6435.0</td>\n",
       "      <td>3.36</td>\n",
       "      <td>0.46</td>\n",
       "      <td>2.47</td>\n",
       "      <td>2.93</td>\n",
       "      <td>3.44</td>\n",
       "      <td>3.74</td>\n",
       "      <td>4.47</td>\n",
       "    </tr>\n",
       "    <tr>\n",
       "      <th>CPI</th>\n",
       "      <td>6435.0</td>\n",
       "      <td>171.58</td>\n",
       "      <td>39.36</td>\n",
       "      <td>126.06</td>\n",
       "      <td>131.74</td>\n",
       "      <td>182.62</td>\n",
       "      <td>212.74</td>\n",
       "      <td>227.23</td>\n",
       "    </tr>\n",
       "    <tr>\n",
       "      <th>Unemployment</th>\n",
       "      <td>6435.0</td>\n",
       "      <td>8.00</td>\n",
       "      <td>1.88</td>\n",
       "      <td>3.88</td>\n",
       "      <td>6.89</td>\n",
       "      <td>7.87</td>\n",
       "      <td>8.62</td>\n",
       "      <td>14.31</td>\n",
       "    </tr>\n",
       "    <tr>\n",
       "      <th>Year</th>\n",
       "      <td>6435.0</td>\n",
       "      <td>2010.97</td>\n",
       "      <td>0.80</td>\n",
       "      <td>2010.00</td>\n",
       "      <td>2010.00</td>\n",
       "      <td>2011.00</td>\n",
       "      <td>2012.00</td>\n",
       "      <td>2012.00</td>\n",
       "    </tr>\n",
       "    <tr>\n",
       "      <th>Month</th>\n",
       "      <td>6435.0</td>\n",
       "      <td>6.48</td>\n",
       "      <td>3.32</td>\n",
       "      <td>1.00</td>\n",
       "      <td>4.00</td>\n",
       "      <td>6.00</td>\n",
       "      <td>9.00</td>\n",
       "      <td>12.00</td>\n",
       "    </tr>\n",
       "    <tr>\n",
       "      <th>Day</th>\n",
       "      <td>6435.0</td>\n",
       "      <td>15.65</td>\n",
       "      <td>8.75</td>\n",
       "      <td>1.00</td>\n",
       "      <td>8.00</td>\n",
       "      <td>16.00</td>\n",
       "      <td>23.00</td>\n",
       "      <td>31.00</td>\n",
       "    </tr>\n",
       "  </tbody>\n",
       "</table>\n",
       "</div>"
      ],
      "text/plain": [
       "               count        mean        std        min        25%        50%  \\\n",
       "Store         6435.0       23.00      12.99       1.00      12.00      23.00   \n",
       "Weekly_Sales  6435.0  1046964.88  564366.62  209986.25  553350.10  960746.04   \n",
       "Holiday_Flag  6435.0        0.07       0.26       0.00       0.00       0.00   \n",
       "Temperature   6435.0       60.66      18.44      -2.06      47.46      62.67   \n",
       "Fuel_Price    6435.0        3.36       0.46       2.47       2.93       3.44   \n",
       "CPI           6435.0      171.58      39.36     126.06     131.74     182.62   \n",
       "Unemployment  6435.0        8.00       1.88       3.88       6.89       7.87   \n",
       "Year          6435.0     2010.97       0.80    2010.00    2010.00    2011.00   \n",
       "Month         6435.0        6.48       3.32       1.00       4.00       6.00   \n",
       "Day           6435.0       15.65       8.75       1.00       8.00      16.00   \n",
       "\n",
       "                     75%         max  \n",
       "Store              34.00       45.00  \n",
       "Weekly_Sales  1420158.66  3818686.45  \n",
       "Holiday_Flag        0.00        1.00  \n",
       "Temperature        74.94      100.14  \n",
       "Fuel_Price          3.74        4.47  \n",
       "CPI               212.74      227.23  \n",
       "Unemployment        8.62       14.31  \n",
       "Year             2012.00     2012.00  \n",
       "Month               9.00       12.00  \n",
       "Day                23.00       31.00  "
      ]
     },
     "execution_count": 8,
     "metadata": {},
     "output_type": "execute_result"
    }
   ],
   "source": [
    "round(df.describe().T,2)"
   ]
  },
  {
   "cell_type": "code",
   "execution_count": 9,
   "id": "5485cf58",
   "metadata": {
    "execution": {
     "iopub.execute_input": "2022-02-13T18:05:52.541495Z",
     "iopub.status.busy": "2022-02-13T18:05:52.540848Z",
     "iopub.status.idle": "2022-02-13T18:05:52.548810Z",
     "shell.execute_reply": "2022-02-13T18:05:52.548138Z",
     "shell.execute_reply.started": "2022-02-13T18:05:08.213097Z"
    },
    "id": "s7Ybk2f4mc6o",
    "outputId": "55dc8907-8d87-4f17-f07c-b13bc0036957",
    "papermill": {
     "duration": 0.053141,
     "end_time": "2022-02-13T18:05:52.548953",
     "exception": false,
     "start_time": "2022-02-13T18:05:52.495812",
     "status": "completed"
    },
    "tags": []
   },
   "outputs": [
    {
     "data": {
      "text/plain": [
       "array([0, 1])"
      ]
     },
     "execution_count": 9,
     "metadata": {},
     "output_type": "execute_result"
    }
   ],
   "source": [
    "df['Holiday_Flag'].unique()"
   ]
  },
  {
   "cell_type": "code",
   "execution_count": 10,
   "id": "4a71bc48",
   "metadata": {
    "execution": {
     "iopub.execute_input": "2022-02-13T18:05:52.645055Z",
     "iopub.status.busy": "2022-02-13T18:05:52.644301Z",
     "iopub.status.idle": "2022-02-13T18:05:52.648364Z",
     "shell.execute_reply": "2022-02-13T18:05:52.647836Z",
     "shell.execute_reply.started": "2022-02-13T18:05:08.221453Z"
    },
    "id": "46TUgASioE9h",
    "outputId": "62bf07ed-e8ea-4452-8d65-e33973f56899",
    "papermill": {
     "duration": 0.056816,
     "end_time": "2022-02-13T18:05:52.648521",
     "exception": false,
     "start_time": "2022-02-13T18:05:52.591705",
     "status": "completed"
    },
    "tags": []
   },
   "outputs": [
    {
     "data": {
      "text/plain": [
       "0    5985\n",
       "1     450\n",
       "Name: Holiday_Flag, dtype: int64"
      ]
     },
     "execution_count": 10,
     "metadata": {},
     "output_type": "execute_result"
    }
   ],
   "source": [
    "df['Holiday_Flag'].value_counts()"
   ]
  },
  {
   "cell_type": "code",
   "execution_count": 11,
   "id": "4678592d",
   "metadata": {
    "execution": {
     "iopub.execute_input": "2022-02-13T18:05:52.741417Z",
     "iopub.status.busy": "2022-02-13T18:05:52.740191Z",
     "iopub.status.idle": "2022-02-13T18:05:55.501100Z",
     "shell.execute_reply": "2022-02-13T18:05:55.501614Z",
     "shell.execute_reply.started": "2022-02-13T18:05:08.239379Z"
    },
    "papermill": {
     "duration": 2.809402,
     "end_time": "2022-02-13T18:05:55.501846",
     "exception": false,
     "start_time": "2022-02-13T18:05:52.692444",
     "status": "completed"
    },
    "tags": []
   },
   "outputs": [
    {
     "data": {
      "image/png": "[encoded data removed]",
      "text/plain": [
       "<Figure size 1152x288 with 3 Axes>"
      ]
     },
     "metadata": {
      "needs_background": "light"
     },
     "output_type": "display_data"
    },
    {
     "data": {
      "image/png": "[encoded data removed]",
      "text/plain": [
       "<Figure size 1152x288 with 3 Axes>"
      ]
     },
     "metadata": {
      "needs_background": "light"
     },
     "output_type": "display_data"
    },
    {
     "data": {
      "image/png": "[encoded data removed]",
      "text/plain": [
       "<Figure size 1152x288 with 3 Axes>"
      ]
     },
     "metadata": {
      "needs_background": "light"
     },
     "output_type": "display_data"
    },
    {
     "data": {
      "image/png": "[encoded data removed]",
      "text/plain": [
       "<Figure size 1152x288 with 3 Axes>"
      ]
     },
     "metadata": {
      "needs_background": "light"
     },
     "output_type": "display_data"
    },
    {
     "data": {
      "image/png": "[encoded data removed]",
      "text/plain": [
       "<Figure size 1152x288 with 3 Axes>"
      ]
     },
     "metadata": {
      "needs_background": "light"
     },
     "output_type": "display_data"
    }
   ],
   "source": [
    "for col in df.columns:\n",
    "    if df[col].dtype !=\"O\" and df[col].dtype !=\"int64\":\n",
    "        plt.figure(figsize=(16,4))\n",
    "        \n",
    "        plt.subplot(1,3,1)\n",
    "        sns.histplot(data=df[col],bins=30)\n",
    "        plt.title(\"Histogram\")\n",
    "        \n",
    "        plt.subplot(1,3,2)\n",
    "        stats.probplot(df[col], dist=\"norm\", plot=plt)\n",
    "        plt.ylabel('Variable quantiles')\n",
    "        \n",
    "        plt.subplot(1,3,3)\n",
    "        sns.boxplot(y=df[col])\n",
    "        plt.title(\"Boxplot\")\n",
    "        plt.show()"
   ]
  },
  {
   "cell_type": "code",
   "execution_count": 12,
   "id": "bc18ffcd",
   "metadata": {
    "execution": {
     "iopub.execute_input": "2022-02-13T18:05:55.607477Z",
     "iopub.status.busy": "2022-02-13T18:05:55.606403Z",
     "iopub.status.idle": "2022-02-13T18:05:55.982975Z",
     "shell.execute_reply": "2022-02-13T18:05:55.983466Z",
     "shell.execute_reply.started": "2022-02-13T18:05:10.743321Z"
    },
    "papermill": {
     "duration": 0.431704,
     "end_time": "2022-02-13T18:05:55.983691",
     "exception": false,
     "start_time": "2022-02-13T18:05:55.551987",
     "status": "completed"
    },
    "tags": []
   },
   "outputs": [
    {
     "data": {
      "text/plain": [
       "<AxesSubplot:xlabel='variable', ylabel='value'>"
      ]
     },
     "execution_count": 12,
     "metadata": {},
     "output_type": "execute_result"
    },
    {
     "data": {
      "image/png": "[encoded data removed]",
      "text/plain": [
       "<Figure size 864x432 with 1 Axes>"
      ]
     },
     "metadata": {},
     "output_type": "display_data"
    }
   ],
   "source": [
    "sns.set(rc = {'figure.figsize':(12,6)})\n",
    "sns.boxplot(data=df.melt(value_vars=['Weekly_Sales','Temperature','Fuel_Price','CPI','Unemployment','Holiday_Flag']),\n",
    "           x='variable',y='value')"
   ]
  },
  {
   "cell_type": "markdown",
   "id": "7b0d4fef",
   "metadata": {
    "papermill": {
     "duration": 0.050968,
     "end_time": "2022-02-13T18:05:56.085948",
     "exception": false,
     "start_time": "2022-02-13T18:05:56.034980",
     "status": "completed"
    },
    "tags": []
   },
   "source": [
    "**Outlier Engineering**\n",
    "\n",
    "**Capping IQR proximity rule**"
   ]
  },
  {
   "cell_type": "code",
   "execution_count": 13,
   "id": "8f451e47",
   "metadata": {
    "execution": {
     "iopub.execute_input": "2022-02-13T18:05:56.194673Z",
     "iopub.status.busy": "2022-02-13T18:05:56.193603Z",
     "iopub.status.idle": "2022-02-13T18:05:56.199356Z",
     "shell.execute_reply": "2022-02-13T18:05:56.199972Z",
     "shell.execute_reply.started": "2022-02-13T18:05:11.115089Z"
    },
    "papermill": {
     "duration": 0.062269,
     "end_time": "2022-02-13T18:05:56.200168",
     "exception": false,
     "start_time": "2022-02-13T18:05:56.137899",
     "status": "completed"
    },
    "tags": []
   },
   "outputs": [],
   "source": [
    "def skewed_boundaries(df, variable):\n",
    "\n",
    "    IQR = df[variable].quantile(0.75) - df[variable].quantile(0.25)\n",
    "\n",
    "    lower_boundary = df[variable].quantile(0.25) - (IQR * 1.5)\n",
    "    upper_boundary = df[variable].quantile(0.75) + (IQR * 1.5)\n",
    "\n",
    "    return upper_boundary, lower_boundary"
   ]
  },
  {
   "cell_type": "code",
   "execution_count": 14,
   "id": "cc04d126",
   "metadata": {
    "execution": {
     "iopub.execute_input": "2022-02-13T18:05:56.306973Z",
     "iopub.status.busy": "2022-02-13T18:05:56.305931Z",
     "iopub.status.idle": "2022-02-13T18:05:56.316371Z",
     "shell.execute_reply": "2022-02-13T18:05:56.316973Z",
     "shell.execute_reply.started": "2022-02-13T18:05:11.123074Z"
    },
    "papermill": {
     "duration": 0.065787,
     "end_time": "2022-02-13T18:05:56.317165",
     "exception": false,
     "start_time": "2022-02-13T18:05:56.251378",
     "status": "completed"
    },
    "tags": []
   },
   "outputs": [
    {
     "data": {
      "text/plain": [
       "(2720371.4924999997, -746862.7275)"
      ]
     },
     "execution_count": 14,
     "metadata": {},
     "output_type": "execute_result"
    }
   ],
   "source": [
    "ws_upper_limit,ws_lower_limit = skewed_boundaries(df,'Weekly_Sales')\n",
    "ws_upper_limit,ws_lower_limit"
   ]
  },
  {
   "cell_type": "code",
   "execution_count": 15,
   "id": "7bf055c7",
   "metadata": {
    "execution": {
     "iopub.execute_input": "2022-02-13T18:05:56.425111Z",
     "iopub.status.busy": "2022-02-13T18:05:56.424061Z",
     "iopub.status.idle": "2022-02-13T18:05:56.429997Z",
     "shell.execute_reply": "2022-02-13T18:05:56.430517Z",
     "shell.execute_reply.started": "2022-02-13T18:05:11.141981Z"
    },
    "papermill": {
     "duration": 0.06177,
     "end_time": "2022-02-13T18:05:56.430729",
     "exception": false,
     "start_time": "2022-02-13T18:05:56.368959",
     "status": "completed"
    },
    "tags": []
   },
   "outputs": [],
   "source": [
    "df['Weekly_Sales']= np.where(df['Weekly_Sales'] > ws_upper_limit, ws_upper_limit,\n",
    "                       np.where(df['Weekly_Sales'] < ws_lower_limit, ws_lower_limit, df['Weekly_Sales']))"
   ]
  },
  {
   "cell_type": "code",
   "execution_count": 16,
   "id": "d3b7e52f",
   "metadata": {
    "execution": {
     "iopub.execute_input": "2022-02-13T18:05:56.538572Z",
     "iopub.status.busy": "2022-02-13T18:05:56.537462Z",
     "iopub.status.idle": "2022-02-13T18:05:56.547667Z",
     "shell.execute_reply": "2022-02-13T18:05:56.548265Z",
     "shell.execute_reply.started": "2022-02-13T18:05:11.148826Z"
    },
    "papermill": {
     "duration": 0.066169,
     "end_time": "2022-02-13T18:05:56.548460",
     "exception": false,
     "start_time": "2022-02-13T18:05:56.482291",
     "status": "completed"
    },
    "tags": []
   },
   "outputs": [
    {
     "data": {
      "text/plain": [
       "(11.218499999999999, 4.2945)"
      ]
     },
     "execution_count": 16,
     "metadata": {},
     "output_type": "execute_result"
    }
   ],
   "source": [
    "un_upper_limit, un_lower_limit = skewed_boundaries(df,'Unemployment')\n",
    "un_upper_limit, un_lower_limit"
   ]
  },
  {
   "cell_type": "code",
   "execution_count": 17,
   "id": "9830d951",
   "metadata": {
    "execution": {
     "iopub.execute_input": "2022-02-13T18:05:56.660597Z",
     "iopub.status.busy": "2022-02-13T18:05:56.659446Z",
     "iopub.status.idle": "2022-02-13T18:05:56.661984Z",
     "shell.execute_reply": "2022-02-13T18:05:56.662686Z",
     "shell.execute_reply.started": "2022-02-13T18:05:11.167907Z"
    },
    "papermill": {
     "duration": 0.062059,
     "end_time": "2022-02-13T18:05:56.662892",
     "exception": false,
     "start_time": "2022-02-13T18:05:56.600833",
     "status": "completed"
    },
    "tags": []
   },
   "outputs": [],
   "source": [
    "df['Unemployment']= np.where(df['Unemployment'] > un_upper_limit, un_upper_limit,\n",
    "                       np.where(df['Unemployment'] < un_lower_limit, un_lower_limit, df['Unemployment']))"
   ]
  },
  {
   "cell_type": "code",
   "execution_count": 18,
   "id": "8038ff1e",
   "metadata": {
    "execution": {
     "iopub.execute_input": "2022-02-13T18:05:56.785238Z",
     "iopub.status.busy": "2022-02-13T18:05:56.784072Z",
     "iopub.status.idle": "2022-02-13T18:05:57.026757Z",
     "shell.execute_reply": "2022-02-13T18:05:57.027337Z",
     "shell.execute_reply.started": "2022-02-13T18:05:11.175067Z"
    },
    "papermill": {
     "duration": 0.306363,
     "end_time": "2022-02-13T18:05:57.027539",
     "exception": false,
     "start_time": "2022-02-13T18:05:56.721176",
     "status": "completed"
    },
    "tags": []
   },
   "outputs": [
    {
     "data": {
      "text/plain": [
       "<AxesSubplot:xlabel='variable', ylabel='value'>"
      ]
     },
     "execution_count": 18,
     "metadata": {},
     "output_type": "execute_result"
    },
    {
     "data": {
      "image/png": "[encoded data removed]",
      "text/plain": [
       "<Figure size 864x432 with 1 Axes>"
      ]
     },
     "metadata": {},
     "output_type": "display_data"
    }
   ],
   "source": [
    "sns.set(rc = {'figure.figsize':(12,6)})\n",
    "sns.boxplot(data=df.melt(value_vars=['Weekly_Sales','Unemployment']),\n",
    "           x='variable',y='value')"
   ]
  },
  {
   "cell_type": "code",
   "execution_count": 19,
   "id": "290a3dd3",
   "metadata": {
    "execution": {
     "iopub.execute_input": "2022-02-13T18:05:57.144755Z",
     "iopub.status.busy": "2022-02-13T18:05:57.143555Z",
     "iopub.status.idle": "2022-02-13T18:05:58.050416Z",
     "shell.execute_reply": "2022-02-13T18:05:58.050955Z",
     "shell.execute_reply.started": "2022-02-13T18:05:11.411669Z"
    },
    "id": "1jvIGDj0oms1",
    "outputId": "579147b3-ddc6-4c83-c107-7a0b8b7815bb",
    "papermill": {
     "duration": 0.969063,
     "end_time": "2022-02-13T18:05:58.051160",
     "exception": false,
     "start_time": "2022-02-13T18:05:57.082097",
     "status": "completed"
    },
    "tags": []
   },
   "outputs": [
    {
     "data": {
      "text/plain": [
       "<AxesSubplot:>"
      ]
     },
     "execution_count": 19,
     "metadata": {},
     "output_type": "execute_result"
    },
    {
     "data": {
      "image/png": "[encoded data removed]",
      "text/plain": [
       "<Figure size 864x432 with 2 Axes>"
      ]
     },
     "metadata": {},
     "output_type": "display_data"
    }
   ],
   "source": [
    "fig, ax = plt.subplots(figsize=(12,6))\n",
    "corr=df.corr()\n",
    "sns.heatmap(corr, annot=True, cmap=\"RdBu\",vmin=-1,vmax=1,fmt=\".2f\")"
   ]
  },
  {
   "cell_type": "markdown",
   "id": "f15dd458",
   "metadata": {
    "id": "DJE1kIDCwPVA",
    "papermill": {
     "duration": 0.056644,
     "end_time": "2022-02-13T18:05:58.165914",
     "exception": false,
     "start_time": "2022-02-13T18:05:58.109270",
     "status": "completed"
    },
    "tags": []
   },
   "source": [
    "**Which months have the highest weekly sales?**"
   ]
  },
  {
   "cell_type": "code",
   "execution_count": 20,
   "id": "8b853aff",
   "metadata": {
    "execution": {
     "iopub.execute_input": "2022-02-13T18:05:58.284194Z",
     "iopub.status.busy": "2022-02-13T18:05:58.283391Z",
     "iopub.status.idle": "2022-02-13T18:05:58.631019Z",
     "shell.execute_reply": "2022-02-13T18:05:58.631546Z",
     "shell.execute_reply.started": "2022-02-13T18:05:12.300985Z"
    },
    "id": "nBhTzhBbqVVq",
    "outputId": "dab9ccda-5b84-43d8-d37e-2cd62fa65863",
    "papermill": {
     "duration": 0.409281,
     "end_time": "2022-02-13T18:05:58.631782",
     "exception": false,
     "start_time": "2022-02-13T18:05:58.222501",
     "status": "completed"
    },
    "tags": []
   },
   "outputs": [
    {
     "data": {
      "text/plain": [
       "Text(0.5, 1.0, 'Average Weekly Sales by Month for Three Years')"
      ]
     },
     "execution_count": 20,
     "metadata": {},
     "output_type": "execute_result"
    },
    {
     "data": {
      "image/png": "[encoded data removed]",
      "text/plain": [
       "<Figure size 864x432 with 1 Axes>"
      ]
     },
     "metadata": {},
     "output_type": "display_data"
    }
   ],
   "source": [
    "result = df.groupby('Month')['Weekly_Sales'].mean()\n",
    "sns.set(rc = {'figure.figsize':(12,6)})\n",
    "sns.barplot(x = result.index, y = result.values,palette='Blues_d').set_title('Average Weekly Sales by Month for Three Years')"
   ]
  },
  {
   "cell_type": "markdown",
   "id": "8d071c1e",
   "metadata": {
    "id": "b9faXSo1wio2",
    "papermill": {
     "duration": 0.057609,
     "end_time": "2022-02-13T18:05:58.747684",
     "exception": false,
     "start_time": "2022-02-13T18:05:58.690075",
     "status": "completed"
    },
    "tags": []
   },
   "source": [
    "**How are sales during holiday weeks compared to non-holiday weeks?**"
   ]
  },
  {
   "cell_type": "code",
   "execution_count": 21,
   "id": "6c71dca0",
   "metadata": {
    "execution": {
     "iopub.execute_input": "2022-02-13T18:05:58.874689Z",
     "iopub.status.busy": "2022-02-13T18:05:58.873920Z",
     "iopub.status.idle": "2022-02-13T18:05:58.876851Z",
     "shell.execute_reply": "2022-02-13T18:05:58.877704Z",
     "shell.execute_reply.started": "2022-02-13T18:05:12.640943Z"
    },
    "id": "4OSRf_9zuu-O",
    "papermill": {
     "duration": 0.071548,
     "end_time": "2022-02-13T18:05:58.877939",
     "exception": false,
     "start_time": "2022-02-13T18:05:58.806391",
     "status": "completed"
    },
    "tags": []
   },
   "outputs": [],
   "source": [
    "df['Holiday_Flag']=df['Holiday_Flag'].map({1:'Special Holiday',0:'Non-Holiday'})"
   ]
  },
  {
   "cell_type": "code",
   "execution_count": 22,
   "id": "c6b14e98",
   "metadata": {
    "execution": {
     "iopub.execute_input": "2022-02-13T18:05:58.998617Z",
     "iopub.status.busy": "2022-02-13T18:05:58.997957Z",
     "iopub.status.idle": "2022-02-13T18:05:59.205777Z",
     "shell.execute_reply": "2022-02-13T18:05:59.205152Z",
     "shell.execute_reply.started": "2022-02-13T18:05:12.648916Z"
    },
    "id": "txLWA31CtBjr",
    "outputId": "af65022f-9b3a-4d15-bbd7-8e1bece09b31",
    "papermill": {
     "duration": 0.269346,
     "end_time": "2022-02-13T18:05:59.205948",
     "exception": false,
     "start_time": "2022-02-13T18:05:58.936602",
     "status": "completed"
    },
    "tags": []
   },
   "outputs": [
    {
     "data": {
      "text/plain": [
       "Text(0.5, 1.0, 'Weekly Sales by Special Holiday')"
      ]
     },
     "execution_count": 22,
     "metadata": {},
     "output_type": "execute_result"
    },
    {
     "data": {
      "image/png": "[encoded data removed]",
      "text/plain": [
       "<Figure size 864x432 with 1 Axes>"
      ]
     },
     "metadata": {},
     "output_type": "display_data"
    }
   ],
   "source": [
    "result1=df.groupby('Holiday_Flag')['Weekly_Sales'].mean()\n",
    "sns.set(rc = {'figure.figsize':(12,6)})\n",
    "sns.barplot(x = result1.index, y = result1.values,palette='Blues_d').set_title('Weekly Sales by Special Holiday')"
   ]
  },
  {
   "cell_type": "markdown",
   "id": "70c6ba78",
   "metadata": {
    "papermill": {
     "duration": 0.059084,
     "end_time": "2022-02-13T18:05:59.324382",
     "exception": false,
     "start_time": "2022-02-13T18:05:59.265298",
     "status": "completed"
    },
    "tags": []
   },
   "source": [
    "**How are the average weekly sales by years?**"
   ]
  },
  {
   "cell_type": "code",
   "execution_count": 23,
   "id": "2025a266",
   "metadata": {
    "execution": {
     "iopub.execute_input": "2022-02-13T18:05:59.446585Z",
     "iopub.status.busy": "2022-02-13T18:05:59.445906Z",
     "iopub.status.idle": "2022-02-13T18:05:59.666151Z",
     "shell.execute_reply": "2022-02-13T18:05:59.666698Z",
     "shell.execute_reply.started": "2022-02-13T18:05:12.865381Z"
    },
    "id": "21YYWjnstGpb",
    "papermill": {
     "duration": 0.283093,
     "end_time": "2022-02-13T18:05:59.666906",
     "exception": false,
     "start_time": "2022-02-13T18:05:59.383813",
     "status": "completed"
    },
    "tags": []
   },
   "outputs": [
    {
     "data": {
      "text/plain": [
       "Text(0.5, 1.0, 'Average Weekly Sales by Year')"
      ]
     },
     "execution_count": 23,
     "metadata": {},
     "output_type": "execute_result"
    },
    {
     "data": {
      "image/png": "[encoded data removed]",
      "text/plain": [
       "<Figure size 864x432 with 1 Axes>"
      ]
     },
     "metadata": {},
     "output_type": "display_data"
    }
   ],
   "source": [
    "result2 = df.groupby('Year')['Weekly_Sales'].mean()\n",
    "sns.barplot(x = result2.index, y = result2.values,palette=\"Blues_d\").set_title('Average Weekly Sales by Year')"
   ]
  },
  {
   "cell_type": "markdown",
   "id": "e15647ea",
   "metadata": {
    "papermill": {
     "duration": 0.061058,
     "end_time": "2022-02-13T18:05:59.788437",
     "exception": false,
     "start_time": "2022-02-13T18:05:59.727379",
     "status": "completed"
    },
    "tags": []
   },
   "source": [
    "**Which store had the highest weekly sales in 2010?**"
   ]
  },
  {
   "cell_type": "code",
   "execution_count": 24,
   "id": "31152891",
   "metadata": {
    "execution": {
     "iopub.execute_input": "2022-02-13T18:05:59.916030Z",
     "iopub.status.busy": "2022-02-13T18:05:59.914983Z",
     "iopub.status.idle": "2022-02-13T18:05:59.940804Z",
     "shell.execute_reply": "2022-02-13T18:05:59.941325Z",
     "shell.execute_reply.started": "2022-02-13T18:05:13.086006Z"
    },
    "papermill": {
     "duration": 0.092198,
     "end_time": "2022-02-13T18:05:59.941521",
     "exception": false,
     "start_time": "2022-02-13T18:05:59.849323",
     "status": "completed"
    },
    "tags": []
   },
   "outputs": [
    {
     "data": {
      "text/html": [
       "<div>\n",
       "<style scoped>\n",
       "    .dataframe tbody tr th:only-of-type {\n",
       "        vertical-align: middle;\n",
       "    }\n",
       "\n",
       "    .dataframe tbody tr th {\n",
       "        vertical-align: top;\n",
       "    }\n",
       "\n",
       "    .dataframe thead th {\n",
       "        text-align: right;\n",
       "    }\n",
       "</style>\n",
       "<table border=\"1\" class=\"dataframe\">\n",
       "  <thead>\n",
       "    <tr style=\"text-align: right;\">\n",
       "      <th></th>\n",
       "      <th>Store</th>\n",
       "      <th>Weekly_Sales</th>\n",
       "      <th>Holiday_Flag</th>\n",
       "      <th>Temperature</th>\n",
       "      <th>Fuel_Price</th>\n",
       "      <th>CPI</th>\n",
       "      <th>Unemployment</th>\n",
       "      <th>Year</th>\n",
       "      <th>Month</th>\n",
       "      <th>Day</th>\n",
       "    </tr>\n",
       "  </thead>\n",
       "  <tbody>\n",
       "    <tr>\n",
       "      <th>189</th>\n",
       "      <td>2</td>\n",
       "      <td>2.720371e+06</td>\n",
       "      <td>Non-Holiday</td>\n",
       "      <td>49.97</td>\n",
       "      <td>2.886</td>\n",
       "      <td>211.064660</td>\n",
       "      <td>8.163</td>\n",
       "      <td>2010</td>\n",
       "      <td>12</td>\n",
       "      <td>24</td>\n",
       "    </tr>\n",
       "    <tr>\n",
       "      <th>471</th>\n",
       "      <td>4</td>\n",
       "      <td>2.720371e+06</td>\n",
       "      <td>Special Holiday</td>\n",
       "      <td>48.08</td>\n",
       "      <td>2.752</td>\n",
       "      <td>126.669267</td>\n",
       "      <td>7.127</td>\n",
       "      <td>2010</td>\n",
       "      <td>11</td>\n",
       "      <td>26</td>\n",
       "    </tr>\n",
       "    <tr>\n",
       "      <th>474</th>\n",
       "      <td>4</td>\n",
       "      <td>2.720371e+06</td>\n",
       "      <td>Non-Holiday</td>\n",
       "      <td>46.57</td>\n",
       "      <td>2.884</td>\n",
       "      <td>126.879484</td>\n",
       "      <td>7.127</td>\n",
       "      <td>2010</td>\n",
       "      <td>12</td>\n",
       "      <td>17</td>\n",
       "    </tr>\n",
       "    <tr>\n",
       "      <th>475</th>\n",
       "      <td>4</td>\n",
       "      <td>2.720371e+06</td>\n",
       "      <td>Non-Holiday</td>\n",
       "      <td>43.21</td>\n",
       "      <td>2.887</td>\n",
       "      <td>126.983581</td>\n",
       "      <td>7.127</td>\n",
       "      <td>2010</td>\n",
       "      <td>12</td>\n",
       "      <td>24</td>\n",
       "    </tr>\n",
       "    <tr>\n",
       "      <th>761</th>\n",
       "      <td>6</td>\n",
       "      <td>2.720371e+06</td>\n",
       "      <td>Non-Holiday</td>\n",
       "      <td>55.07</td>\n",
       "      <td>2.886</td>\n",
       "      <td>212.916508</td>\n",
       "      <td>7.007</td>\n",
       "      <td>2010</td>\n",
       "      <td>12</td>\n",
       "      <td>24</td>\n",
       "    </tr>\n",
       "    <tr>\n",
       "      <th>1329</th>\n",
       "      <td>10</td>\n",
       "      <td>2.720371e+06</td>\n",
       "      <td>Special Holiday</td>\n",
       "      <td>55.33</td>\n",
       "      <td>3.162</td>\n",
       "      <td>126.669267</td>\n",
       "      <td>9.003</td>\n",
       "      <td>2010</td>\n",
       "      <td>11</td>\n",
       "      <td>26</td>\n",
       "    </tr>\n",
       "    <tr>\n",
       "      <th>1332</th>\n",
       "      <td>10</td>\n",
       "      <td>2.720371e+06</td>\n",
       "      <td>Non-Holiday</td>\n",
       "      <td>59.15</td>\n",
       "      <td>3.125</td>\n",
       "      <td>126.879484</td>\n",
       "      <td>9.003</td>\n",
       "      <td>2010</td>\n",
       "      <td>12</td>\n",
       "      <td>17</td>\n",
       "    </tr>\n",
       "    <tr>\n",
       "      <th>1333</th>\n",
       "      <td>10</td>\n",
       "      <td>2.720371e+06</td>\n",
       "      <td>Non-Holiday</td>\n",
       "      <td>57.06</td>\n",
       "      <td>3.236</td>\n",
       "      <td>126.983581</td>\n",
       "      <td>9.003</td>\n",
       "      <td>2010</td>\n",
       "      <td>12</td>\n",
       "      <td>24</td>\n",
       "    </tr>\n",
       "    <tr>\n",
       "      <th>1758</th>\n",
       "      <td>13</td>\n",
       "      <td>2.720371e+06</td>\n",
       "      <td>Special Holiday</td>\n",
       "      <td>28.22</td>\n",
       "      <td>2.830</td>\n",
       "      <td>126.669267</td>\n",
       "      <td>7.795</td>\n",
       "      <td>2010</td>\n",
       "      <td>11</td>\n",
       "      <td>26</td>\n",
       "    </tr>\n",
       "    <tr>\n",
       "      <th>1761</th>\n",
       "      <td>13</td>\n",
       "      <td>2.720371e+06</td>\n",
       "      <td>Non-Holiday</td>\n",
       "      <td>35.21</td>\n",
       "      <td>2.842</td>\n",
       "      <td>126.879484</td>\n",
       "      <td>7.795</td>\n",
       "      <td>2010</td>\n",
       "      <td>12</td>\n",
       "      <td>17</td>\n",
       "    </tr>\n",
       "    <tr>\n",
       "      <th>1762</th>\n",
       "      <td>13</td>\n",
       "      <td>2.720371e+06</td>\n",
       "      <td>Non-Holiday</td>\n",
       "      <td>34.90</td>\n",
       "      <td>2.846</td>\n",
       "      <td>126.983581</td>\n",
       "      <td>7.795</td>\n",
       "      <td>2010</td>\n",
       "      <td>12</td>\n",
       "      <td>24</td>\n",
       "    </tr>\n",
       "    <tr>\n",
       "      <th>1901</th>\n",
       "      <td>14</td>\n",
       "      <td>2.720371e+06</td>\n",
       "      <td>Special Holiday</td>\n",
       "      <td>46.15</td>\n",
       "      <td>3.039</td>\n",
       "      <td>182.783277</td>\n",
       "      <td>8.724</td>\n",
       "      <td>2010</td>\n",
       "      <td>11</td>\n",
       "      <td>26</td>\n",
       "    </tr>\n",
       "    <tr>\n",
       "      <th>1904</th>\n",
       "      <td>14</td>\n",
       "      <td>2.720371e+06</td>\n",
       "      <td>Non-Holiday</td>\n",
       "      <td>30.51</td>\n",
       "      <td>3.140</td>\n",
       "      <td>182.517732</td>\n",
       "      <td>8.724</td>\n",
       "      <td>2010</td>\n",
       "      <td>12</td>\n",
       "      <td>17</td>\n",
       "    </tr>\n",
       "    <tr>\n",
       "      <th>1905</th>\n",
       "      <td>14</td>\n",
       "      <td>2.720371e+06</td>\n",
       "      <td>Non-Holiday</td>\n",
       "      <td>30.59</td>\n",
       "      <td>3.141</td>\n",
       "      <td>182.544590</td>\n",
       "      <td>8.724</td>\n",
       "      <td>2010</td>\n",
       "      <td>12</td>\n",
       "      <td>24</td>\n",
       "    </tr>\n",
       "    <tr>\n",
       "      <th>2759</th>\n",
       "      <td>20</td>\n",
       "      <td>2.720371e+06</td>\n",
       "      <td>Special Holiday</td>\n",
       "      <td>46.66</td>\n",
       "      <td>3.039</td>\n",
       "      <td>204.962100</td>\n",
       "      <td>7.484</td>\n",
       "      <td>2010</td>\n",
       "      <td>11</td>\n",
       "      <td>26</td>\n",
       "    </tr>\n",
       "    <tr>\n",
       "      <th>2761</th>\n",
       "      <td>20</td>\n",
       "      <td>2.720371e+06</td>\n",
       "      <td>Non-Holiday</td>\n",
       "      <td>24.27</td>\n",
       "      <td>3.109</td>\n",
       "      <td>204.687738</td>\n",
       "      <td>7.484</td>\n",
       "      <td>2010</td>\n",
       "      <td>10</td>\n",
       "      <td>12</td>\n",
       "    </tr>\n",
       "    <tr>\n",
       "      <th>2762</th>\n",
       "      <td>20</td>\n",
       "      <td>2.720371e+06</td>\n",
       "      <td>Non-Holiday</td>\n",
       "      <td>24.07</td>\n",
       "      <td>3.140</td>\n",
       "      <td>204.632119</td>\n",
       "      <td>7.484</td>\n",
       "      <td>2010</td>\n",
       "      <td>12</td>\n",
       "      <td>17</td>\n",
       "    </tr>\n",
       "    <tr>\n",
       "      <th>2763</th>\n",
       "      <td>20</td>\n",
       "      <td>2.720371e+06</td>\n",
       "      <td>Non-Holiday</td>\n",
       "      <td>25.17</td>\n",
       "      <td>3.141</td>\n",
       "      <td>204.637673</td>\n",
       "      <td>7.484</td>\n",
       "      <td>2010</td>\n",
       "      <td>12</td>\n",
       "      <td>24</td>\n",
       "    </tr>\n",
       "    <tr>\n",
       "      <th>3192</th>\n",
       "      <td>23</td>\n",
       "      <td>2.720371e+06</td>\n",
       "      <td>Non-Holiday</td>\n",
       "      <td>22.96</td>\n",
       "      <td>3.150</td>\n",
       "      <td>132.747742</td>\n",
       "      <td>5.287</td>\n",
       "      <td>2010</td>\n",
       "      <td>12</td>\n",
       "      <td>24</td>\n",
       "    </tr>\n",
       "    <tr>\n",
       "      <th>3764</th>\n",
       "      <td>27</td>\n",
       "      <td>2.720371e+06</td>\n",
       "      <td>Non-Holiday</td>\n",
       "      <td>31.34</td>\n",
       "      <td>3.309</td>\n",
       "      <td>136.597273</td>\n",
       "      <td>8.021</td>\n",
       "      <td>2010</td>\n",
       "      <td>12</td>\n",
       "      <td>24</td>\n",
       "    </tr>\n",
       "  </tbody>\n",
       "</table>\n",
       "</div>"
      ],
      "text/plain": [
       "      Store  Weekly_Sales     Holiday_Flag  Temperature  Fuel_Price  \\\n",
       "189       2  2.720371e+06      Non-Holiday        49.97       2.886   \n",
       "471       4  2.720371e+06  Special Holiday        48.08       2.752   \n",
       "474       4  2.720371e+06      Non-Holiday        46.57       2.884   \n",
       "475       4  2.720371e+06      Non-Holiday        43.21       2.887   \n",
       "761       6  2.720371e+06      Non-Holiday        55.07       2.886   \n",
       "1329     10  2.720371e+06  Special Holiday        55.33       3.162   \n",
       "1332     10  2.720371e+06      Non-Holiday        59.15       3.125   \n",
       "1333     10  2.720371e+06      Non-Holiday        57.06       3.236   \n",
       "1758     13  2.720371e+06  Special Holiday        28.22       2.830   \n",
       "1761     13  2.720371e+06      Non-Holiday        35.21       2.842   \n",
       "1762     13  2.720371e+06      Non-Holiday        34.90       2.846   \n",
       "1901     14  2.720371e+06  Special Holiday        46.15       3.039   \n",
       "1904     14  2.720371e+06      Non-Holiday        30.51       3.140   \n",
       "1905     14  2.720371e+06      Non-Holiday        30.59       3.141   \n",
       "2759     20  2.720371e+06  Special Holiday        46.66       3.039   \n",
       "2761     20  2.720371e+06      Non-Holiday        24.27       3.109   \n",
       "2762     20  2.720371e+06      Non-Holiday        24.07       3.140   \n",
       "2763     20  2.720371e+06      Non-Holiday        25.17       3.141   \n",
       "3192     23  2.720371e+06      Non-Holiday        22.96       3.150   \n",
       "3764     27  2.720371e+06      Non-Holiday        31.34       3.309   \n",
       "\n",
       "             CPI  Unemployment  Year  Month  Day  \n",
       "189   211.064660         8.163  2010     12   24  \n",
       "471   126.669267         7.127  2010     11   26  \n",
       "474   126.879484         7.127  2010     12   17  \n",
       "475   126.983581         7.127  2010     12   24  \n",
       "761   212.916508         7.007  2010     12   24  \n",
       "1329  126.669267         9.003  2010     11   26  \n",
       "1332  126.879484         9.003  2010     12   17  \n",
       "1333  126.983581         9.003  2010     12   24  \n",
       "1758  126.669267         7.795  2010     11   26  \n",
       "1761  126.879484         7.795  2010     12   17  \n",
       "1762  126.983581         7.795  2010     12   24  \n",
       "1901  182.783277         8.724  2010     11   26  \n",
       "1904  182.517732         8.724  2010     12   17  \n",
       "1905  182.544590         8.724  2010     12   24  \n",
       "2759  204.962100         7.484  2010     11   26  \n",
       "2761  204.687738         7.484  2010     10   12  \n",
       "2762  204.632119         7.484  2010     12   17  \n",
       "2763  204.637673         7.484  2010     12   24  \n",
       "3192  132.747742         5.287  2010     12   24  \n",
       "3764  136.597273         8.021  2010     12   24  "
      ]
     },
     "execution_count": 24,
     "metadata": {},
     "output_type": "execute_result"
    }
   ],
   "source": [
    "df2010 = df[df.Year==2010]\n",
    "df2010[df2010.Weekly_Sales == df2010.Weekly_Sales.max()]"
   ]
  },
  {
   "cell_type": "markdown",
   "id": "6919b1b2",
   "metadata": {
    "papermill": {
     "duration": 0.063693,
     "end_time": "2022-02-13T18:06:00.069075",
     "exception": false,
     "start_time": "2022-02-13T18:06:00.005382",
     "status": "completed"
    },
    "tags": []
   },
   "source": [
    "**Which store had the highest weekly sales in 2011?**"
   ]
  },
  {
   "cell_type": "code",
   "execution_count": 25,
   "id": "40608dac",
   "metadata": {
    "execution": {
     "iopub.execute_input": "2022-02-13T18:06:00.223471Z",
     "iopub.status.busy": "2022-02-13T18:06:00.222829Z",
     "iopub.status.idle": "2022-02-13T18:06:00.243496Z",
     "shell.execute_reply": "2022-02-13T18:06:00.244037Z",
     "shell.execute_reply.started": "2022-02-13T18:05:13.115989Z"
    },
    "papermill": {
     "duration": 0.102865,
     "end_time": "2022-02-13T18:06:00.244240",
     "exception": false,
     "start_time": "2022-02-13T18:06:00.141375",
     "status": "completed"
    },
    "tags": []
   },
   "outputs": [
    {
     "data": {
      "text/html": [
       "<div>\n",
       "<style scoped>\n",
       "    .dataframe tbody tr th:only-of-type {\n",
       "        vertical-align: middle;\n",
       "    }\n",
       "\n",
       "    .dataframe tbody tr th {\n",
       "        vertical-align: top;\n",
       "    }\n",
       "\n",
       "    .dataframe thead th {\n",
       "        text-align: right;\n",
       "    }\n",
       "</style>\n",
       "<table border=\"1\" class=\"dataframe\">\n",
       "  <thead>\n",
       "    <tr style=\"text-align: right;\">\n",
       "      <th></th>\n",
       "      <th>Store</th>\n",
       "      <th>Weekly_Sales</th>\n",
       "      <th>Holiday_Flag</th>\n",
       "      <th>Temperature</th>\n",
       "      <th>Fuel_Price</th>\n",
       "      <th>CPI</th>\n",
       "      <th>Unemployment</th>\n",
       "      <th>Year</th>\n",
       "      <th>Month</th>\n",
       "      <th>Day</th>\n",
       "    </tr>\n",
       "  </thead>\n",
       "  <tbody>\n",
       "    <tr>\n",
       "      <th>241</th>\n",
       "      <td>2</td>\n",
       "      <td>2.720371e+06</td>\n",
       "      <td>Non-Holiday</td>\n",
       "      <td>46.66</td>\n",
       "      <td>3.112</td>\n",
       "      <td>218.999550</td>\n",
       "      <td>7.441</td>\n",
       "      <td>2011</td>\n",
       "      <td>12</td>\n",
       "      <td>23</td>\n",
       "    </tr>\n",
       "    <tr>\n",
       "      <th>523</th>\n",
       "      <td>4</td>\n",
       "      <td>2.720371e+06</td>\n",
       "      <td>Special Holiday</td>\n",
       "      <td>47.96</td>\n",
       "      <td>3.225</td>\n",
       "      <td>129.836400</td>\n",
       "      <td>5.143</td>\n",
       "      <td>2011</td>\n",
       "      <td>11</td>\n",
       "      <td>25</td>\n",
       "    </tr>\n",
       "    <tr>\n",
       "      <th>526</th>\n",
       "      <td>4</td>\n",
       "      <td>2.720371e+06</td>\n",
       "      <td>Non-Holiday</td>\n",
       "      <td>36.44</td>\n",
       "      <td>3.149</td>\n",
       "      <td>129.898065</td>\n",
       "      <td>5.143</td>\n",
       "      <td>2011</td>\n",
       "      <td>12</td>\n",
       "      <td>16</td>\n",
       "    </tr>\n",
       "    <tr>\n",
       "      <th>527</th>\n",
       "      <td>4</td>\n",
       "      <td>2.720371e+06</td>\n",
       "      <td>Non-Holiday</td>\n",
       "      <td>35.92</td>\n",
       "      <td>3.103</td>\n",
       "      <td>129.984548</td>\n",
       "      <td>5.143</td>\n",
       "      <td>2011</td>\n",
       "      <td>12</td>\n",
       "      <td>23</td>\n",
       "    </tr>\n",
       "    <tr>\n",
       "      <th>1381</th>\n",
       "      <td>10</td>\n",
       "      <td>2.720371e+06</td>\n",
       "      <td>Special Holiday</td>\n",
       "      <td>60.68</td>\n",
       "      <td>3.760</td>\n",
       "      <td>129.836400</td>\n",
       "      <td>7.874</td>\n",
       "      <td>2011</td>\n",
       "      <td>11</td>\n",
       "      <td>25</td>\n",
       "    </tr>\n",
       "    <tr>\n",
       "      <th>1385</th>\n",
       "      <td>10</td>\n",
       "      <td>2.720371e+06</td>\n",
       "      <td>Non-Holiday</td>\n",
       "      <td>48.36</td>\n",
       "      <td>3.541</td>\n",
       "      <td>129.984548</td>\n",
       "      <td>7.874</td>\n",
       "      <td>2011</td>\n",
       "      <td>12</td>\n",
       "      <td>23</td>\n",
       "    </tr>\n",
       "    <tr>\n",
       "      <th>1810</th>\n",
       "      <td>13</td>\n",
       "      <td>2.720371e+06</td>\n",
       "      <td>Special Holiday</td>\n",
       "      <td>38.89</td>\n",
       "      <td>3.445</td>\n",
       "      <td>129.836400</td>\n",
       "      <td>6.392</td>\n",
       "      <td>2011</td>\n",
       "      <td>11</td>\n",
       "      <td>25</td>\n",
       "    </tr>\n",
       "    <tr>\n",
       "      <th>1813</th>\n",
       "      <td>13</td>\n",
       "      <td>2.720371e+06</td>\n",
       "      <td>Non-Holiday</td>\n",
       "      <td>27.85</td>\n",
       "      <td>3.282</td>\n",
       "      <td>129.898065</td>\n",
       "      <td>6.392</td>\n",
       "      <td>2011</td>\n",
       "      <td>12</td>\n",
       "      <td>16</td>\n",
       "    </tr>\n",
       "    <tr>\n",
       "      <th>1814</th>\n",
       "      <td>13</td>\n",
       "      <td>2.720371e+06</td>\n",
       "      <td>Non-Holiday</td>\n",
       "      <td>24.76</td>\n",
       "      <td>3.186</td>\n",
       "      <td>129.984548</td>\n",
       "      <td>6.392</td>\n",
       "      <td>2011</td>\n",
       "      <td>12</td>\n",
       "      <td>23</td>\n",
       "    </tr>\n",
       "    <tr>\n",
       "      <th>1957</th>\n",
       "      <td>14</td>\n",
       "      <td>2.720371e+06</td>\n",
       "      <td>Non-Holiday</td>\n",
       "      <td>42.27</td>\n",
       "      <td>3.389</td>\n",
       "      <td>188.929975</td>\n",
       "      <td>8.523</td>\n",
       "      <td>2011</td>\n",
       "      <td>12</td>\n",
       "      <td>23</td>\n",
       "    </tr>\n",
       "    <tr>\n",
       "      <th>2811</th>\n",
       "      <td>20</td>\n",
       "      <td>2.720371e+06</td>\n",
       "      <td>Special Holiday</td>\n",
       "      <td>46.38</td>\n",
       "      <td>3.492</td>\n",
       "      <td>211.412076</td>\n",
       "      <td>7.082</td>\n",
       "      <td>2011</td>\n",
       "      <td>11</td>\n",
       "      <td>25</td>\n",
       "    </tr>\n",
       "    <tr>\n",
       "      <th>2814</th>\n",
       "      <td>20</td>\n",
       "      <td>2.720371e+06</td>\n",
       "      <td>Non-Holiday</td>\n",
       "      <td>37.16</td>\n",
       "      <td>3.413</td>\n",
       "      <td>212.068504</td>\n",
       "      <td>7.082</td>\n",
       "      <td>2011</td>\n",
       "      <td>12</td>\n",
       "      <td>16</td>\n",
       "    </tr>\n",
       "    <tr>\n",
       "      <th>2815</th>\n",
       "      <td>20</td>\n",
       "      <td>2.720371e+06</td>\n",
       "      <td>Non-Holiday</td>\n",
       "      <td>40.19</td>\n",
       "      <td>3.389</td>\n",
       "      <td>212.236040</td>\n",
       "      <td>7.082</td>\n",
       "      <td>2011</td>\n",
       "      <td>12</td>\n",
       "      <td>23</td>\n",
       "    </tr>\n",
       "    <tr>\n",
       "      <th>3816</th>\n",
       "      <td>27</td>\n",
       "      <td>2.720371e+06</td>\n",
       "      <td>Non-Holiday</td>\n",
       "      <td>41.59</td>\n",
       "      <td>3.587</td>\n",
       "      <td>140.528765</td>\n",
       "      <td>7.906</td>\n",
       "      <td>2011</td>\n",
       "      <td>12</td>\n",
       "      <td>23</td>\n",
       "    </tr>\n",
       "  </tbody>\n",
       "</table>\n",
       "</div>"
      ],
      "text/plain": [
       "      Store  Weekly_Sales     Holiday_Flag  Temperature  Fuel_Price  \\\n",
       "241       2  2.720371e+06      Non-Holiday        46.66       3.112   \n",
       "523       4  2.720371e+06  Special Holiday        47.96       3.225   \n",
       "526       4  2.720371e+06      Non-Holiday        36.44       3.149   \n",
       "527       4  2.720371e+06      Non-Holiday        35.92       3.103   \n",
       "1381     10  2.720371e+06  Special Holiday        60.68       3.760   \n",
       "1385     10  2.720371e+06      Non-Holiday        48.36       3.541   \n",
       "1810     13  2.720371e+06  Special Holiday        38.89       3.445   \n",
       "1813     13  2.720371e+06      Non-Holiday        27.85       3.282   \n",
       "1814     13  2.720371e+06      Non-Holiday        24.76       3.186   \n",
       "1957     14  2.720371e+06      Non-Holiday        42.27       3.389   \n",
       "2811     20  2.720371e+06  Special Holiday        46.38       3.492   \n",
       "2814     20  2.720371e+06      Non-Holiday        37.16       3.413   \n",
       "2815     20  2.720371e+06      Non-Holiday        40.19       3.389   \n",
       "3816     27  2.720371e+06      Non-Holiday        41.59       3.587   \n",
       "\n",
       "             CPI  Unemployment  Year  Month  Day  \n",
       "241   218.999550         7.441  2011     12   23  \n",
       "523   129.836400         5.143  2011     11   25  \n",
       "526   129.898065         5.143  2011     12   16  \n",
       "527   129.984548         5.143  2011     12   23  \n",
       "1381  129.836400         7.874  2011     11   25  \n",
       "1385  129.984548         7.874  2011     12   23  \n",
       "1810  129.836400         6.392  2011     11   25  \n",
       "1813  129.898065         6.392  2011     12   16  \n",
       "1814  129.984548         6.392  2011     12   23  \n",
       "1957  188.929975         8.523  2011     12   23  \n",
       "2811  211.412076         7.082  2011     11   25  \n",
       "2814  212.068504         7.082  2011     12   16  \n",
       "2815  212.236040         7.082  2011     12   23  \n",
       "3816  140.528765         7.906  2011     12   23  "
      ]
     },
     "execution_count": 25,
     "metadata": {},
     "output_type": "execute_result"
    }
   ],
   "source": [
    "df2011 = df[df.Year==2011]\n",
    "df2011[df2011.Weekly_Sales == df2011.Weekly_Sales.max()]"
   ]
  },
  {
   "cell_type": "markdown",
   "id": "b81ea56b",
   "metadata": {
    "papermill": {
     "duration": 0.062156,
     "end_time": "2022-02-13T18:06:00.369147",
     "exception": false,
     "start_time": "2022-02-13T18:06:00.306991",
     "status": "completed"
    },
    "tags": []
   },
   "source": [
    "**Which store had the highest weekly sales in 2012?**"
   ]
  },
  {
   "cell_type": "code",
   "execution_count": 26,
   "id": "47ad7af9",
   "metadata": {
    "execution": {
     "iopub.execute_input": "2022-02-13T18:06:00.498009Z",
     "iopub.status.busy": "2022-02-13T18:06:00.497226Z",
     "iopub.status.idle": "2022-02-13T18:06:00.510678Z",
     "shell.execute_reply": "2022-02-13T18:06:00.511789Z",
     "shell.execute_reply.started": "2022-02-13T18:05:13.140607Z"
    },
    "papermill": {
     "duration": 0.080158,
     "end_time": "2022-02-13T18:06:00.511994",
     "exception": false,
     "start_time": "2022-02-13T18:06:00.431836",
     "status": "completed"
    },
    "tags": []
   },
   "outputs": [
    {
     "data": {
      "text/html": [
       "<div>\n",
       "<style scoped>\n",
       "    .dataframe tbody tr th:only-of-type {\n",
       "        vertical-align: middle;\n",
       "    }\n",
       "\n",
       "    .dataframe tbody tr th {\n",
       "        vertical-align: top;\n",
       "    }\n",
       "\n",
       "    .dataframe thead th {\n",
       "        text-align: right;\n",
       "    }\n",
       "</style>\n",
       "<table border=\"1\" class=\"dataframe\">\n",
       "  <thead>\n",
       "    <tr style=\"text-align: right;\">\n",
       "      <th></th>\n",
       "      <th>Store</th>\n",
       "      <th>Weekly_Sales</th>\n",
       "      <th>Holiday_Flag</th>\n",
       "      <th>Temperature</th>\n",
       "      <th>Fuel_Price</th>\n",
       "      <th>CPI</th>\n",
       "      <th>Unemployment</th>\n",
       "      <th>Year</th>\n",
       "      <th>Month</th>\n",
       "      <th>Day</th>\n",
       "    </tr>\n",
       "  </thead>\n",
       "  <tbody>\n",
       "    <tr>\n",
       "      <th>2830</th>\n",
       "      <td>20</td>\n",
       "      <td>2565259.92</td>\n",
       "      <td>Non-Holiday</td>\n",
       "      <td>50.06</td>\n",
       "      <td>3.996</td>\n",
       "      <td>214.238705</td>\n",
       "      <td>7.139</td>\n",
       "      <td>2012</td>\n",
       "      <td>6</td>\n",
       "      <td>4</td>\n",
       "    </tr>\n",
       "  </tbody>\n",
       "</table>\n",
       "</div>"
      ],
      "text/plain": [
       "      Store  Weekly_Sales Holiday_Flag  Temperature  Fuel_Price         CPI  \\\n",
       "2830     20    2565259.92  Non-Holiday        50.06       3.996  214.238705   \n",
       "\n",
       "      Unemployment  Year  Month  Day  \n",
       "2830         7.139  2012      6    4  "
      ]
     },
     "execution_count": 26,
     "metadata": {},
     "output_type": "execute_result"
    }
   ],
   "source": [
    "df2012 = df[df.Year==2012]\n",
    "df2012[df2012.Weekly_Sales == df2012.Weekly_Sales.max()]"
   ]
  },
  {
   "cell_type": "markdown",
   "id": "c6e2ef00",
   "metadata": {
    "papermill": {
     "duration": 0.066241,
     "end_time": "2022-02-13T18:06:00.642367",
     "exception": false,
     "start_time": "2022-02-13T18:06:00.576126",
     "status": "completed"
    },
    "tags": []
   },
   "source": [
    "**Which store had the lowest weekly sales in 2010?**"
   ]
  },
  {
   "cell_type": "code",
   "execution_count": 27,
   "id": "4a212353",
   "metadata": {
    "execution": {
     "iopub.execute_input": "2022-02-13T18:06:00.774565Z",
     "iopub.status.busy": "2022-02-13T18:06:00.773858Z",
     "iopub.status.idle": "2022-02-13T18:06:00.786336Z",
     "shell.execute_reply": "2022-02-13T18:06:00.786947Z",
     "shell.execute_reply.started": "2022-02-13T18:05:13.163048Z"
    },
    "papermill": {
     "duration": 0.081474,
     "end_time": "2022-02-13T18:06:00.787142",
     "exception": false,
     "start_time": "2022-02-13T18:06:00.705668",
     "status": "completed"
    },
    "tags": []
   },
   "outputs": [
    {
     "data": {
      "text/html": [
       "<div>\n",
       "<style scoped>\n",
       "    .dataframe tbody tr th:only-of-type {\n",
       "        vertical-align: middle;\n",
       "    }\n",
       "\n",
       "    .dataframe tbody tr th {\n",
       "        vertical-align: top;\n",
       "    }\n",
       "\n",
       "    .dataframe thead th {\n",
       "        text-align: right;\n",
       "    }\n",
       "</style>\n",
       "<table border=\"1\" class=\"dataframe\">\n",
       "  <thead>\n",
       "    <tr style=\"text-align: right;\">\n",
       "      <th></th>\n",
       "      <th>Store</th>\n",
       "      <th>Weekly_Sales</th>\n",
       "      <th>Holiday_Flag</th>\n",
       "      <th>Temperature</th>\n",
       "      <th>Fuel_Price</th>\n",
       "      <th>CPI</th>\n",
       "      <th>Unemployment</th>\n",
       "      <th>Year</th>\n",
       "      <th>Month</th>\n",
       "      <th>Day</th>\n",
       "    </tr>\n",
       "  </thead>\n",
       "  <tbody>\n",
       "    <tr>\n",
       "      <th>4619</th>\n",
       "      <td>33</td>\n",
       "      <td>209986.25</td>\n",
       "      <td>Non-Holiday</td>\n",
       "      <td>52.82</td>\n",
       "      <td>3.041</td>\n",
       "      <td>126.731333</td>\n",
       "      <td>9.265</td>\n",
       "      <td>2010</td>\n",
       "      <td>3</td>\n",
       "      <td>12</td>\n",
       "    </tr>\n",
       "  </tbody>\n",
       "</table>\n",
       "</div>"
      ],
      "text/plain": [
       "      Store  Weekly_Sales Holiday_Flag  Temperature  Fuel_Price         CPI  \\\n",
       "4619     33     209986.25  Non-Holiday        52.82       3.041  126.731333   \n",
       "\n",
       "      Unemployment  Year  Month  Day  \n",
       "4619         9.265  2010      3   12  "
      ]
     },
     "execution_count": 27,
     "metadata": {},
     "output_type": "execute_result"
    }
   ],
   "source": [
    "df2010[df2010.Weekly_Sales == df2010.Weekly_Sales.min()]"
   ]
  },
  {
   "cell_type": "markdown",
   "id": "67556005",
   "metadata": {
    "papermill": {
     "duration": 0.063885,
     "end_time": "2022-02-13T18:06:00.916860",
     "exception": false,
     "start_time": "2022-02-13T18:06:00.852975",
     "status": "completed"
    },
    "tags": []
   },
   "source": [
    "**Which store had the lowest weekly sales in 2011?**"
   ]
  },
  {
   "cell_type": "code",
   "execution_count": 28,
   "id": "59f7b500",
   "metadata": {
    "execution": {
     "iopub.execute_input": "2022-02-13T18:06:01.050357Z",
     "iopub.status.busy": "2022-02-13T18:06:01.049686Z",
     "iopub.status.idle": "2022-02-13T18:06:01.063167Z",
     "shell.execute_reply": "2022-02-13T18:06:01.063734Z",
     "shell.execute_reply.started": "2022-02-13T18:05:13.178450Z"
    },
    "papermill": {
     "duration": 0.08245,
     "end_time": "2022-02-13T18:06:01.063938",
     "exception": false,
     "start_time": "2022-02-13T18:06:00.981488",
     "status": "completed"
    },
    "tags": []
   },
   "outputs": [
    {
     "data": {
      "text/html": [
       "<div>\n",
       "<style scoped>\n",
       "    .dataframe tbody tr th:only-of-type {\n",
       "        vertical-align: middle;\n",
       "    }\n",
       "\n",
       "    .dataframe tbody tr th {\n",
       "        vertical-align: top;\n",
       "    }\n",
       "\n",
       "    .dataframe thead th {\n",
       "        text-align: right;\n",
       "    }\n",
       "</style>\n",
       "<table border=\"1\" class=\"dataframe\">\n",
       "  <thead>\n",
       "    <tr style=\"text-align: right;\">\n",
       "      <th></th>\n",
       "      <th>Store</th>\n",
       "      <th>Weekly_Sales</th>\n",
       "      <th>Holiday_Flag</th>\n",
       "      <th>Temperature</th>\n",
       "      <th>Fuel_Price</th>\n",
       "      <th>CPI</th>\n",
       "      <th>Unemployment</th>\n",
       "      <th>Year</th>\n",
       "      <th>Month</th>\n",
       "      <th>Day</th>\n",
       "    </tr>\n",
       "  </thead>\n",
       "  <tbody>\n",
       "    <tr>\n",
       "      <th>4675</th>\n",
       "      <td>33</td>\n",
       "      <td>215359.21</td>\n",
       "      <td>Special Holiday</td>\n",
       "      <td>51.6</td>\n",
       "      <td>3.428</td>\n",
       "      <td>130.071032</td>\n",
       "      <td>8.01</td>\n",
       "      <td>2011</td>\n",
       "      <td>12</td>\n",
       "      <td>30</td>\n",
       "    </tr>\n",
       "  </tbody>\n",
       "</table>\n",
       "</div>"
      ],
      "text/plain": [
       "      Store  Weekly_Sales     Holiday_Flag  Temperature  Fuel_Price  \\\n",
       "4675     33     215359.21  Special Holiday         51.6       3.428   \n",
       "\n",
       "             CPI  Unemployment  Year  Month  Day  \n",
       "4675  130.071032          8.01  2011     12   30  "
      ]
     },
     "execution_count": 28,
     "metadata": {},
     "output_type": "execute_result"
    }
   ],
   "source": [
    "df2011[df2011.Weekly_Sales == df2011.Weekly_Sales.min()]"
   ]
  },
  {
   "cell_type": "markdown",
   "id": "8244b7f5",
   "metadata": {
    "papermill": {
     "duration": 0.064032,
     "end_time": "2022-02-13T18:06:01.192844",
     "exception": false,
     "start_time": "2022-02-13T18:06:01.128812",
     "status": "completed"
    },
    "tags": []
   },
   "source": [
    "**Which store had the lowest weekly sales in 2012?**"
   ]
  },
  {
   "cell_type": "code",
   "execution_count": 29,
   "id": "c0726374",
   "metadata": {
    "execution": {
     "iopub.execute_input": "2022-02-13T18:06:01.324785Z",
     "iopub.status.busy": "2022-02-13T18:06:01.324122Z",
     "iopub.status.idle": "2022-02-13T18:06:01.336731Z",
     "shell.execute_reply": "2022-02-13T18:06:01.337331Z",
     "shell.execute_reply.started": "2022-02-13T18:05:13.204057Z"
    },
    "papermill": {
     "duration": 0.079958,
     "end_time": "2022-02-13T18:06:01.337522",
     "exception": false,
     "start_time": "2022-02-13T18:06:01.257564",
     "status": "completed"
    },
    "tags": []
   },
   "outputs": [
    {
     "data": {
      "text/html": [
       "<div>\n",
       "<style scoped>\n",
       "    .dataframe tbody tr th:only-of-type {\n",
       "        vertical-align: middle;\n",
       "    }\n",
       "\n",
       "    .dataframe tbody tr th {\n",
       "        vertical-align: top;\n",
       "    }\n",
       "\n",
       "    .dataframe thead th {\n",
       "        text-align: right;\n",
       "    }\n",
       "</style>\n",
       "<table border=\"1\" class=\"dataframe\">\n",
       "  <thead>\n",
       "    <tr style=\"text-align: right;\">\n",
       "      <th></th>\n",
       "      <th>Store</th>\n",
       "      <th>Weekly_Sales</th>\n",
       "      <th>Holiday_Flag</th>\n",
       "      <th>Temperature</th>\n",
       "      <th>Fuel_Price</th>\n",
       "      <th>CPI</th>\n",
       "      <th>Unemployment</th>\n",
       "      <th>Year</th>\n",
       "      <th>Month</th>\n",
       "      <th>Day</th>\n",
       "    </tr>\n",
       "  </thead>\n",
       "  <tbody>\n",
       "    <tr>\n",
       "      <th>4679</th>\n",
       "      <td>33</td>\n",
       "      <td>236920.49</td>\n",
       "      <td>Non-Holiday</td>\n",
       "      <td>56.33</td>\n",
       "      <td>3.675</td>\n",
       "      <td>130.314452</td>\n",
       "      <td>7.603</td>\n",
       "      <td>2012</td>\n",
       "      <td>1</td>\n",
       "      <td>27</td>\n",
       "    </tr>\n",
       "  </tbody>\n",
       "</table>\n",
       "</div>"
      ],
      "text/plain": [
       "      Store  Weekly_Sales Holiday_Flag  Temperature  Fuel_Price         CPI  \\\n",
       "4679     33     236920.49  Non-Holiday        56.33       3.675  130.314452   \n",
       "\n",
       "      Unemployment  Year  Month  Day  \n",
       "4679         7.603  2012      1   27  "
      ]
     },
     "execution_count": 29,
     "metadata": {},
     "output_type": "execute_result"
    }
   ],
   "source": [
    "df2012[df2012.Weekly_Sales == df2012.Weekly_Sales.min()]"
   ]
  },
  {
   "cell_type": "markdown",
   "id": "2e93493a",
   "metadata": {
    "papermill": {
     "duration": 0.06424,
     "end_time": "2022-02-13T18:06:01.466643",
     "exception": false,
     "start_time": "2022-02-13T18:06:01.402403",
     "status": "completed"
    },
    "tags": []
   },
   "source": [
    "**Weekly Sales by Year**"
   ]
  },
  {
   "cell_type": "code",
   "execution_count": 30,
   "id": "e3f52632",
   "metadata": {
    "execution": {
     "iopub.execute_input": "2022-02-13T18:06:01.600514Z",
     "iopub.status.busy": "2022-02-13T18:06:01.599760Z",
     "iopub.status.idle": "2022-02-13T18:06:01.892481Z",
     "shell.execute_reply": "2022-02-13T18:06:01.893042Z",
     "shell.execute_reply.started": "2022-02-13T18:05:13.225055Z"
    },
    "papermill": {
     "duration": 0.361138,
     "end_time": "2022-02-13T18:06:01.893242",
     "exception": false,
     "start_time": "2022-02-13T18:06:01.532104",
     "status": "completed"
    },
    "tags": []
   },
   "outputs": [
    {
     "data": {
      "text/plain": [
       "Text(0.5, 1.0, 'Weekly Sales by 2010')"
      ]
     },
     "execution_count": 30,
     "metadata": {},
     "output_type": "execute_result"
    },
    {
     "data": {
      "image/png": "[encoded data removed]",
      "text/plain": [
       "<Figure size 864x432 with 1 Axes>"
      ]
     },
     "metadata": {},
     "output_type": "display_data"
    }
   ],
   "source": [
    "df2010.groupby('Month')[\"Weekly_Sales\"].mean().plot(linewidth=2,style='--o').set_title('Weekly Sales by 2010')"
   ]
  },
  {
   "cell_type": "code",
   "execution_count": 31,
   "id": "ea192baf",
   "metadata": {
    "execution": {
     "iopub.execute_input": "2022-02-13T18:06:02.029044Z",
     "iopub.status.busy": "2022-02-13T18:06:02.028338Z",
     "iopub.status.idle": "2022-02-13T18:06:02.325219Z",
     "shell.execute_reply": "2022-02-13T18:06:02.325746Z",
     "shell.execute_reply.started": "2022-02-13T18:05:13.518926Z"
    },
    "papermill": {
     "duration": 0.367023,
     "end_time": "2022-02-13T18:06:02.325945",
     "exception": false,
     "start_time": "2022-02-13T18:06:01.958922",
     "status": "completed"
    },
    "tags": []
   },
   "outputs": [
    {
     "data": {
      "text/plain": [
       "Text(0.5, 1.0, 'Weekly Sales by 2011')"
      ]
     },
     "execution_count": 31,
     "metadata": {},
     "output_type": "execute_result"
    },
    {
     "data": {
      "image/png": "[encoded data removed]",
      "text/plain": [
       "<Figure size 864x432 with 1 Axes>"
      ]
     },
     "metadata": {},
     "output_type": "display_data"
    }
   ],
   "source": [
    "df2011.groupby('Month')['Weekly_Sales'].mean().plot(linewidth=2,style='--o').set_title('Weekly Sales by 2011')"
   ]
  },
  {
   "cell_type": "code",
   "execution_count": 32,
   "id": "f75a4caf",
   "metadata": {
    "execution": {
     "iopub.execute_input": "2022-02-13T18:06:02.468309Z",
     "iopub.status.busy": "2022-02-13T18:06:02.467542Z",
     "iopub.status.idle": "2022-02-13T18:06:02.760574Z",
     "shell.execute_reply": "2022-02-13T18:06:02.759922Z",
     "shell.execute_reply.started": "2022-02-13T18:05:13.817229Z"
    },
    "papermill": {
     "duration": 0.365369,
     "end_time": "2022-02-13T18:06:02.760758",
     "exception": false,
     "start_time": "2022-02-13T18:06:02.395389",
     "status": "completed"
    },
    "tags": []
   },
   "outputs": [
    {
     "data": {
      "text/plain": [
       "Text(0.5, 1.0, 'Weekly Sales by 2012')"
      ]
     },
     "execution_count": 32,
     "metadata": {},
     "output_type": "execute_result"
    },
    {
     "data": {
      "image/png": "[encoded data removed]",
      "text/plain": [
       "<Figure size 864x432 with 1 Axes>"
      ]
     },
     "metadata": {},
     "output_type": "display_data"
    }
   ],
   "source": [
    "df2012.groupby('Month')['Weekly_Sales'].mean().plot(linewidth=2,style='--o').set_title('Weekly Sales by 2012')"
   ]
  }
 ],
 "metadata": {
  "kernelspec": {
   "display_name": "Python 3",
   "language": "python",
   "name": "python3"
  },
  "language_info": {
   "codemirror_mode": {
    "name": "ipython",
    "version": 3
   },
   "file_extension": ".py",
   "mimetype": "text/x-python",
   "name": "python",
   "nbconvert_exporter": "python",
   "pygments_lexer": "ipython3",
   "version": "3.7.12"
  },
  "papermill": {
   "default_parameters": {},
   "duration": 23.568466,
   "end_time": "2022-02-13T18:06:03.644790",
   "environment_variables": {},
   "exception": null,
   "input_path": "__notebook__.ipynb",
   "output_path": "__notebook__.ipynb",
   "parameters": {},
   "start_time": "2022-02-13T18:05:40.076324",
   "version": "2.3.3"
  }
 },
 "nbformat": 4,
 "nbformat_minor": 5
}
