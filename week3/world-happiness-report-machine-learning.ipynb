{
 "cells": [
  {
   "cell_type": "code",
   "execution_count": 1,
   "id": "d58063b4",
   "metadata": {
    "execution": {
     "iopub.execute_input": "2022-02-23T17:16:24.880369Z",
     "iopub.status.busy": "2022-02-23T17:16:24.878370Z",
     "iopub.status.idle": "2022-02-23T17:16:27.650836Z",
     "shell.execute_reply": "2022-02-23T17:16:27.650111Z",
     "shell.execute_reply.started": "2022-02-23T16:46:40.333092Z"
    },
    "id": "61gpPBSVfeRn",
    "papermill": {
     "duration": 2.865395,
     "end_time": "2022-02-23T17:16:27.651100",
     "exception": false,
     "start_time": "2022-02-23T17:16:24.785705",
     "status": "completed"
    },
    "tags": []
   },
   "outputs": [],
   "source": [
    "import pandas as pd\n",
    "import numpy as np\n",
    "import seaborn as sns\n",
    "import matplotlib.pyplot as plt\n",
    "import plotly.express as px\n",
    "from sklearn.preprocessing import StandardScaler\n",
    "from sklearn.model_selection import train_test_split\n",
    "from sklearn.linear_model import LinearRegression\n",
    "from sklearn.ensemble import RandomForestRegressor\n",
    "from sklearn.tree import DecisionTreeRegressor\n",
    "from sklearn.metrics import r2_score,mean_squared_error\n",
    "from sklearn.model_selection import cross_val_score\n",
    "from sklearn.model_selection import GridSearchCV\n"
   ]
  },
  {
   "cell_type": "markdown",
   "id": "dfedb18d",
   "metadata": {
    "papermill": {
     "duration": 0.085381,
     "end_time": "2022-02-23T17:16:27.824927",
     "exception": false,
     "start_time": "2022-02-23T17:16:27.739546",
     "status": "completed"
    },
    "tags": []
   },
   "source": [
    "> The World Happiness Report is a landmark survey of the state of global happiness. The first report was published in 2012, the second in 2013, the third in 2015, and the fourth in the 2016 Update. The World Happiness 2017, which ranks 155 countries by their happiness levels, was released at the United Nations at an event celebrating International Day of Happiness on March 20th. The report continues to gain global recognition as governments, organizations and civil society increasingly use happiness indicators to inform their policy-making decisions. Leading experts across fields – economics, psychology, survey analysis, national statistics, health, public policy and more – describe how measurements of well-being can be used effectively to assess the progress of nations. The reports review the state of happiness in the world today and show how the new science of happiness explains personal and national variations in happiness."
   ]
  },
  {
   "cell_type": "code",
   "execution_count": 2,
   "id": "cb9acbcf",
   "metadata": {
    "execution": {
     "iopub.execute_input": "2022-02-23T17:16:28.002397Z",
     "iopub.status.busy": "2022-02-23T17:16:28.001647Z",
     "iopub.status.idle": "2022-02-23T17:16:28.028381Z",
     "shell.execute_reply": "2022-02-23T17:16:28.029002Z",
     "shell.execute_reply.started": "2022-02-23T16:46:41.947133Z"
    },
    "id": "2_LVf8Q1ueB3",
    "papermill": {
     "duration": 0.118334,
     "end_time": "2022-02-23T17:16:28.029199",
     "exception": false,
     "start_time": "2022-02-23T17:16:27.910865",
     "status": "completed"
    },
    "tags": []
   },
   "outputs": [],
   "source": [
    "df15=(pd.read_csv(\"../input/world-happiness/2015.csv\").drop(columns=[\"Standard Error\",\"Dystopia Residual\",\"Region\"])\n",
    ".rename(columns={\"Economy (GDP per Capita)\": \"GDP\",\n",
    "                     \"Health (Life Expectancy)\": \"Life\",\n",
    "                     \"Trust (Government Corruption)\": \"Trust\"}))"
   ]
  },
  {
   "cell_type": "code",
   "execution_count": 3,
   "id": "9f9a88de",
   "metadata": {
    "execution": {
     "iopub.execute_input": "2022-02-23T17:16:28.207086Z",
     "iopub.status.busy": "2022-02-23T17:16:28.206301Z",
     "iopub.status.idle": "2022-02-23T17:16:28.209848Z",
     "shell.execute_reply": "2022-02-23T17:16:28.209241Z",
     "shell.execute_reply.started": "2022-02-23T16:46:41.962394Z"
    },
    "id": "cAAfioacMMid",
    "papermill": {
     "duration": 0.094774,
     "end_time": "2022-02-23T17:16:28.210025",
     "exception": false,
     "start_time": "2022-02-23T17:16:28.115251",
     "status": "completed"
    },
    "tags": []
   },
   "outputs": [],
   "source": [
    "df15.insert(2,\"Year\",2015)"
   ]
  },
  {
   "cell_type": "code",
   "execution_count": 4,
   "id": "787be64c",
   "metadata": {
    "execution": {
     "iopub.execute_input": "2022-02-23T17:16:28.385389Z",
     "iopub.status.busy": "2022-02-23T17:16:28.384698Z",
     "iopub.status.idle": "2022-02-23T17:16:28.398859Z",
     "shell.execute_reply": "2022-02-23T17:16:28.399425Z",
     "shell.execute_reply.started": "2022-02-23T16:46:41.972004Z"
    },
    "id": "pTX8wC8Eu4CH",
    "papermill": {
     "duration": 0.104832,
     "end_time": "2022-02-23T17:16:28.399619",
     "exception": false,
     "start_time": "2022-02-23T17:16:28.294787",
     "status": "completed"
    },
    "tags": []
   },
   "outputs": [],
   "source": [
    "df16 = (pd.read_csv(\"../input/world-happiness/2016.csv\").drop(columns=[\"Lower Confidence Interval\",\"Upper Confidence Interval\",\"Dystopia Residual\",\"Region\"])\n",
    ".rename(columns={\"Economy (GDP per Capita)\": \"GDP\",\n",
    "                     \"Health (Life Expectancy)\": \"Life\",\n",
    "                     \"Trust (Government Corruption)\": \"Trust\"}))"
   ]
  },
  {
   "cell_type": "code",
   "execution_count": 5,
   "id": "1b64da28",
   "metadata": {
    "execution": {
     "iopub.execute_input": "2022-02-23T17:16:28.576284Z",
     "iopub.status.busy": "2022-02-23T17:16:28.575584Z",
     "iopub.status.idle": "2022-02-23T17:16:28.579743Z",
     "shell.execute_reply": "2022-02-23T17:16:28.580455Z",
     "shell.execute_reply.started": "2022-02-23T16:46:41.997573Z"
    },
    "id": "mcvvMxpML1jY",
    "papermill": {
     "duration": 0.094076,
     "end_time": "2022-02-23T17:16:28.580631",
     "exception": false,
     "start_time": "2022-02-23T17:16:28.486555",
     "status": "completed"
    },
    "tags": []
   },
   "outputs": [],
   "source": [
    "df16.insert(2,\"Year\",2016)"
   ]
  },
  {
   "cell_type": "code",
   "execution_count": 6,
   "id": "5ba24834",
   "metadata": {
    "execution": {
     "iopub.execute_input": "2022-02-23T17:16:28.758745Z",
     "iopub.status.busy": "2022-02-23T17:16:28.758019Z",
     "iopub.status.idle": "2022-02-23T17:16:28.772698Z",
     "shell.execute_reply": "2022-02-23T17:16:28.773345Z",
     "shell.execute_reply.started": "2022-02-23T16:46:42.006930Z"
    },
    "id": "jBsKkjlNu_8n",
    "papermill": {
     "duration": 0.10705,
     "end_time": "2022-02-23T17:16:28.773539",
     "exception": false,
     "start_time": "2022-02-23T17:16:28.666489",
     "status": "completed"
    },
    "tags": []
   },
   "outputs": [],
   "source": [
    "df17 = (pd.read_csv(\"../input/world-happiness/2017.csv\").drop(columns=[\"Whisker.high\",\"Whisker.low\",\"Dystopia.Residual\"])\n",
    ".rename(columns={\"Happiness.Rank\": \"Happiness Rank\",\n",
    "                 \"Happiness.Score\": \"Happiness Score\",\n",
    "                 \"Economy..GDP.per.Capita.\": \"GDP\",\n",
    "                     \"Health..Life.Expectancy.\": \"Life\",\n",
    "                     \"Trust..Government.Corruption.\": \"Trust\"}))"
   ]
  },
  {
   "cell_type": "code",
   "execution_count": 7,
   "id": "75d8804e",
   "metadata": {
    "execution": {
     "iopub.execute_input": "2022-02-23T17:16:28.948288Z",
     "iopub.status.busy": "2022-02-23T17:16:28.947544Z",
     "iopub.status.idle": "2022-02-23T17:16:28.952180Z",
     "shell.execute_reply": "2022-02-23T17:16:28.952801Z",
     "shell.execute_reply.started": "2022-02-23T16:46:42.028739Z"
    },
    "id": "8Rs4ucQ2SjQM",
    "papermill": {
     "duration": 0.091965,
     "end_time": "2022-02-23T17:16:28.952981",
     "exception": false,
     "start_time": "2022-02-23T17:16:28.861016",
     "status": "completed"
    },
    "tags": []
   },
   "outputs": [],
   "source": [
    "df17.insert(2,\"Year\",2017)"
   ]
  },
  {
   "cell_type": "code",
   "execution_count": 8,
   "id": "d0d1d178",
   "metadata": {
    "execution": {
     "iopub.execute_input": "2022-02-23T17:16:29.127104Z",
     "iopub.status.busy": "2022-02-23T17:16:29.126383Z",
     "iopub.status.idle": "2022-02-23T17:16:29.141488Z",
     "shell.execute_reply": "2022-02-23T17:16:29.142166Z",
     "shell.execute_reply.started": "2022-02-23T16:46:42.042935Z"
    },
    "id": "sK3YEm5zynEz",
    "papermill": {
     "duration": 0.103537,
     "end_time": "2022-02-23T17:16:29.142351",
     "exception": false,
     "start_time": "2022-02-23T17:16:29.038814",
     "status": "completed"
    },
    "tags": []
   },
   "outputs": [],
   "source": [
    "df18 = (pd.read_csv(\"../input/world-happiness/2018.csv\").rename(columns={\"Overall rank\": \"Happiness Rank\",\n",
    "                                               \"Country or region\": \"Country\",\n",
    "                                               \"Score\": \"Happiness Score\",\n",
    "                                               \"GDP per capita\": \"GDP\",\n",
    "                                               \"Social support\": \"Family\",\n",
    "                                               \"Healthy life expectancy\": \"Life\",\n",
    "                                               \"Freedom to make life choices\": \"Freedom\",\n",
    "                                               \"Perceptions of corruption\": \"Trust\"}))\n"
   ]
  },
  {
   "cell_type": "code",
   "execution_count": 9,
   "id": "7ea3716b",
   "metadata": {
    "execution": {
     "iopub.execute_input": "2022-02-23T17:16:29.317957Z",
     "iopub.status.busy": "2022-02-23T17:16:29.317321Z",
     "iopub.status.idle": "2022-02-23T17:16:29.321698Z",
     "shell.execute_reply": "2022-02-23T17:16:29.322399Z",
     "shell.execute_reply.started": "2022-02-23T16:46:42.066500Z"
    },
    "id": "fxjUyXMkUHZ-",
    "papermill": {
     "duration": 0.09393,
     "end_time": "2022-02-23T17:16:29.322577",
     "exception": false,
     "start_time": "2022-02-23T17:16:29.228647",
     "status": "completed"
    },
    "tags": []
   },
   "outputs": [],
   "source": [
    "df18.insert(2,\"Year\",2018)"
   ]
  },
  {
   "cell_type": "code",
   "execution_count": 10,
   "id": "5fd208f6",
   "metadata": {
    "execution": {
     "iopub.execute_input": "2022-02-23T17:16:29.498369Z",
     "iopub.status.busy": "2022-02-23T17:16:29.497643Z",
     "iopub.status.idle": "2022-02-23T17:16:29.513249Z",
     "shell.execute_reply": "2022-02-23T17:16:29.513844Z",
     "shell.execute_reply.started": "2022-02-23T16:46:42.085857Z"
    },
    "id": "QDrj2IqOyp-8",
    "papermill": {
     "duration": 0.10557,
     "end_time": "2022-02-23T17:16:29.514058",
     "exception": false,
     "start_time": "2022-02-23T17:16:29.408488",
     "status": "completed"
    },
    "tags": []
   },
   "outputs": [],
   "source": [
    "df19 = (pd.read_csv(\"../input/world-happiness/2019.csv\").rename(columns={\"Overall rank\": \"Happiness Rank\",\n",
    "                                               \"Country or region\": \"Country\",\n",
    "                                               \"Score\": \"Happiness Score\",\n",
    "                                               \"GDP per capita\": \"GDP\",\n",
    "                                               \"Social support\": \"Family\",\n",
    "                                               \"Healthy life expectancy\": \"Life\",\n",
    "                                               \"Freedom to make life choices\": \"Freedom\",\n",
    "                                               \"Perceptions of corruption\": \"Trust\"}))"
   ]
  },
  {
   "cell_type": "code",
   "execution_count": 11,
   "id": "e7221741",
   "metadata": {
    "execution": {
     "iopub.execute_input": "2022-02-23T17:16:29.690564Z",
     "iopub.status.busy": "2022-02-23T17:16:29.689853Z",
     "iopub.status.idle": "2022-02-23T17:16:29.694138Z",
     "shell.execute_reply": "2022-02-23T17:16:29.694714Z",
     "shell.execute_reply.started": "2022-02-23T16:46:42.102460Z"
    },
    "id": "w_SO2HmhUf6T",
    "papermill": {
     "duration": 0.093758,
     "end_time": "2022-02-23T17:16:29.694891",
     "exception": false,
     "start_time": "2022-02-23T17:16:29.601133",
     "status": "completed"
    },
    "tags": []
   },
   "outputs": [],
   "source": [
    "df19.insert(2,\"Year\",2019)"
   ]
  },
  {
   "cell_type": "code",
   "execution_count": 12,
   "id": "ec7fe4cf",
   "metadata": {
    "execution": {
     "iopub.execute_input": "2022-02-23T17:16:29.869857Z",
     "iopub.status.busy": "2022-02-23T17:16:29.869216Z",
     "iopub.status.idle": "2022-02-23T17:16:29.875694Z",
     "shell.execute_reply": "2022-02-23T17:16:29.876300Z",
     "shell.execute_reply.started": "2022-02-23T16:46:42.114941Z"
    },
    "id": "KK9EPGQpF6g2",
    "papermill": {
     "duration": 0.095806,
     "end_time": "2022-02-23T17:16:29.876478",
     "exception": false,
     "start_time": "2022-02-23T17:16:29.780672",
     "status": "completed"
    },
    "tags": []
   },
   "outputs": [],
   "source": [
    "df = pd.concat([df15,df16,df17,df18,df19])"
   ]
  },
  {
   "cell_type": "code",
   "execution_count": 13,
   "id": "94f8f09b",
   "metadata": {
    "execution": {
     "iopub.execute_input": "2022-02-23T17:16:30.052395Z",
     "iopub.status.busy": "2022-02-23T17:16:30.051725Z",
     "iopub.status.idle": "2022-02-23T17:16:30.074103Z",
     "shell.execute_reply": "2022-02-23T17:16:30.074664Z",
     "shell.execute_reply.started": "2022-02-23T16:46:42.130117Z"
    },
    "papermill": {
     "duration": 0.112123,
     "end_time": "2022-02-23T17:16:30.074848",
     "exception": false,
     "start_time": "2022-02-23T17:16:29.962725",
     "status": "completed"
    },
    "tags": []
   },
   "outputs": [
    {
     "data": {
      "text/html": [
       "<div>\n",
       "<style scoped>\n",
       "    .dataframe tbody tr th:only-of-type {\n",
       "        vertical-align: middle;\n",
       "    }\n",
       "\n",
       "    .dataframe tbody tr th {\n",
       "        vertical-align: top;\n",
       "    }\n",
       "\n",
       "    .dataframe thead th {\n",
       "        text-align: right;\n",
       "    }\n",
       "</style>\n",
       "<table border=\"1\" class=\"dataframe\">\n",
       "  <thead>\n",
       "    <tr style=\"text-align: right;\">\n",
       "      <th></th>\n",
       "      <th>Country</th>\n",
       "      <th>Happiness Rank</th>\n",
       "      <th>Year</th>\n",
       "      <th>Happiness Score</th>\n",
       "      <th>GDP</th>\n",
       "      <th>Family</th>\n",
       "      <th>Life</th>\n",
       "      <th>Freedom</th>\n",
       "      <th>Trust</th>\n",
       "      <th>Generosity</th>\n",
       "    </tr>\n",
       "  </thead>\n",
       "  <tbody>\n",
       "    <tr>\n",
       "      <th>0</th>\n",
       "      <td>Switzerland</td>\n",
       "      <td>1</td>\n",
       "      <td>2015</td>\n",
       "      <td>7.587</td>\n",
       "      <td>1.39651</td>\n",
       "      <td>1.34951</td>\n",
       "      <td>0.94143</td>\n",
       "      <td>0.66557</td>\n",
       "      <td>0.41978</td>\n",
       "      <td>0.29678</td>\n",
       "    </tr>\n",
       "    <tr>\n",
       "      <th>1</th>\n",
       "      <td>Iceland</td>\n",
       "      <td>2</td>\n",
       "      <td>2015</td>\n",
       "      <td>7.561</td>\n",
       "      <td>1.30232</td>\n",
       "      <td>1.40223</td>\n",
       "      <td>0.94784</td>\n",
       "      <td>0.62877</td>\n",
       "      <td>0.14145</td>\n",
       "      <td>0.43630</td>\n",
       "    </tr>\n",
       "    <tr>\n",
       "      <th>2</th>\n",
       "      <td>Denmark</td>\n",
       "      <td>3</td>\n",
       "      <td>2015</td>\n",
       "      <td>7.527</td>\n",
       "      <td>1.32548</td>\n",
       "      <td>1.36058</td>\n",
       "      <td>0.87464</td>\n",
       "      <td>0.64938</td>\n",
       "      <td>0.48357</td>\n",
       "      <td>0.34139</td>\n",
       "    </tr>\n",
       "    <tr>\n",
       "      <th>3</th>\n",
       "      <td>Norway</td>\n",
       "      <td>4</td>\n",
       "      <td>2015</td>\n",
       "      <td>7.522</td>\n",
       "      <td>1.45900</td>\n",
       "      <td>1.33095</td>\n",
       "      <td>0.88521</td>\n",
       "      <td>0.66973</td>\n",
       "      <td>0.36503</td>\n",
       "      <td>0.34699</td>\n",
       "    </tr>\n",
       "    <tr>\n",
       "      <th>4</th>\n",
       "      <td>Canada</td>\n",
       "      <td>5</td>\n",
       "      <td>2015</td>\n",
       "      <td>7.427</td>\n",
       "      <td>1.32629</td>\n",
       "      <td>1.32261</td>\n",
       "      <td>0.90563</td>\n",
       "      <td>0.63297</td>\n",
       "      <td>0.32957</td>\n",
       "      <td>0.45811</td>\n",
       "    </tr>\n",
       "  </tbody>\n",
       "</table>\n",
       "</div>"
      ],
      "text/plain": [
       "       Country  Happiness Rank  Year  Happiness Score      GDP   Family  \\\n",
       "0  Switzerland               1  2015            7.587  1.39651  1.34951   \n",
       "1      Iceland               2  2015            7.561  1.30232  1.40223   \n",
       "2      Denmark               3  2015            7.527  1.32548  1.36058   \n",
       "3       Norway               4  2015            7.522  1.45900  1.33095   \n",
       "4       Canada               5  2015            7.427  1.32629  1.32261   \n",
       "\n",
       "      Life  Freedom    Trust  Generosity  \n",
       "0  0.94143  0.66557  0.41978     0.29678  \n",
       "1  0.94784  0.62877  0.14145     0.43630  \n",
       "2  0.87464  0.64938  0.48357     0.34139  \n",
       "3  0.88521  0.66973  0.36503     0.34699  \n",
       "4  0.90563  0.63297  0.32957     0.45811  "
      ]
     },
     "execution_count": 13,
     "metadata": {},
     "output_type": "execute_result"
    }
   ],
   "source": [
    "df.head()"
   ]
  },
  {
   "cell_type": "code",
   "execution_count": 14,
   "id": "906f9137",
   "metadata": {
    "execution": {
     "iopub.execute_input": "2022-02-23T17:16:30.253867Z",
     "iopub.status.busy": "2022-02-23T17:16:30.252766Z",
     "iopub.status.idle": "2022-02-23T17:16:30.274321Z",
     "shell.execute_reply": "2022-02-23T17:16:30.273151Z",
     "shell.execute_reply.started": "2022-02-23T16:46:42.162947Z"
    },
    "papermill": {
     "duration": 0.112525,
     "end_time": "2022-02-23T17:16:30.274558",
     "exception": false,
     "start_time": "2022-02-23T17:16:30.162033",
     "status": "completed"
    },
    "tags": []
   },
   "outputs": [
    {
     "name": "stdout",
     "output_type": "stream",
     "text": [
      "<class 'pandas.core.frame.DataFrame'>\n",
      "Int64Index: 782 entries, 0 to 155\n",
      "Data columns (total 10 columns):\n",
      " #   Column           Non-Null Count  Dtype  \n",
      "---  ------           --------------  -----  \n",
      " 0   Country          782 non-null    object \n",
      " 1   Happiness Rank   782 non-null    int64  \n",
      " 2   Year             782 non-null    int64  \n",
      " 3   Happiness Score  782 non-null    float64\n",
      " 4   GDP              782 non-null    float64\n",
      " 5   Family           782 non-null    float64\n",
      " 6   Life             782 non-null    float64\n",
      " 7   Freedom          782 non-null    float64\n",
      " 8   Trust            781 non-null    float64\n",
      " 9   Generosity       782 non-null    float64\n",
      "dtypes: float64(7), int64(2), object(1)\n",
      "memory usage: 67.2+ KB\n"
     ]
    }
   ],
   "source": [
    "df.info()"
   ]
  },
  {
   "cell_type": "code",
   "execution_count": 15,
   "id": "ae17dc8c",
   "metadata": {
    "execution": {
     "iopub.execute_input": "2022-02-23T17:16:30.457132Z",
     "iopub.status.busy": "2022-02-23T17:16:30.456426Z",
     "iopub.status.idle": "2022-02-23T17:16:30.491088Z",
     "shell.execute_reply": "2022-02-23T17:16:30.491679Z",
     "shell.execute_reply.started": "2022-02-23T16:46:42.179207Z"
    },
    "id": "xZKA0PaqVZnd",
    "outputId": "a7283e1d-5f5d-4d18-aa3c-ccaa5c4882ce",
    "papermill": {
     "duration": 0.128516,
     "end_time": "2022-02-23T17:16:30.491862",
     "exception": false,
     "start_time": "2022-02-23T17:16:30.363346",
     "status": "completed"
    },
    "tags": []
   },
   "outputs": [
    {
     "data": {
      "text/html": [
       "<div>\n",
       "<style scoped>\n",
       "    .dataframe tbody tr th:only-of-type {\n",
       "        vertical-align: middle;\n",
       "    }\n",
       "\n",
       "    .dataframe tbody tr th {\n",
       "        vertical-align: top;\n",
       "    }\n",
       "\n",
       "    .dataframe thead th {\n",
       "        text-align: right;\n",
       "    }\n",
       "</style>\n",
       "<table border=\"1\" class=\"dataframe\">\n",
       "  <thead>\n",
       "    <tr style=\"text-align: right;\">\n",
       "      <th></th>\n",
       "      <th>count</th>\n",
       "      <th>mean</th>\n",
       "      <th>std</th>\n",
       "      <th>min</th>\n",
       "      <th>25%</th>\n",
       "      <th>50%</th>\n",
       "      <th>75%</th>\n",
       "      <th>max</th>\n",
       "    </tr>\n",
       "  </thead>\n",
       "  <tbody>\n",
       "    <tr>\n",
       "      <th>Happiness Rank</th>\n",
       "      <td>782.0</td>\n",
       "      <td>78.698210</td>\n",
       "      <td>45.182384</td>\n",
       "      <td>1.000</td>\n",
       "      <td>40.000000</td>\n",
       "      <td>79.000000</td>\n",
       "      <td>118.000000</td>\n",
       "      <td>158.000000</td>\n",
       "    </tr>\n",
       "    <tr>\n",
       "      <th>Year</th>\n",
       "      <td>782.0</td>\n",
       "      <td>2016.993606</td>\n",
       "      <td>1.417364</td>\n",
       "      <td>2015.000</td>\n",
       "      <td>2016.000000</td>\n",
       "      <td>2017.000000</td>\n",
       "      <td>2018.000000</td>\n",
       "      <td>2019.000000</td>\n",
       "    </tr>\n",
       "    <tr>\n",
       "      <th>Happiness Score</th>\n",
       "      <td>782.0</td>\n",
       "      <td>5.379018</td>\n",
       "      <td>1.127456</td>\n",
       "      <td>2.693</td>\n",
       "      <td>4.509750</td>\n",
       "      <td>5.322000</td>\n",
       "      <td>6.189500</td>\n",
       "      <td>7.769000</td>\n",
       "    </tr>\n",
       "    <tr>\n",
       "      <th>GDP</th>\n",
       "      <td>782.0</td>\n",
       "      <td>0.916047</td>\n",
       "      <td>0.407340</td>\n",
       "      <td>0.000</td>\n",
       "      <td>0.606500</td>\n",
       "      <td>0.982205</td>\n",
       "      <td>1.236187</td>\n",
       "      <td>2.096000</td>\n",
       "    </tr>\n",
       "    <tr>\n",
       "      <th>Family</th>\n",
       "      <td>782.0</td>\n",
       "      <td>1.078392</td>\n",
       "      <td>0.329548</td>\n",
       "      <td>0.000</td>\n",
       "      <td>0.869363</td>\n",
       "      <td>1.124735</td>\n",
       "      <td>1.327250</td>\n",
       "      <td>1.644000</td>\n",
       "    </tr>\n",
       "    <tr>\n",
       "      <th>Life</th>\n",
       "      <td>782.0</td>\n",
       "      <td>0.612416</td>\n",
       "      <td>0.248309</td>\n",
       "      <td>0.000</td>\n",
       "      <td>0.440183</td>\n",
       "      <td>0.647310</td>\n",
       "      <td>0.808000</td>\n",
       "      <td>1.141000</td>\n",
       "    </tr>\n",
       "    <tr>\n",
       "      <th>Freedom</th>\n",
       "      <td>782.0</td>\n",
       "      <td>0.411091</td>\n",
       "      <td>0.152880</td>\n",
       "      <td>0.000</td>\n",
       "      <td>0.309768</td>\n",
       "      <td>0.431000</td>\n",
       "      <td>0.531000</td>\n",
       "      <td>0.724000</td>\n",
       "    </tr>\n",
       "    <tr>\n",
       "      <th>Trust</th>\n",
       "      <td>781.0</td>\n",
       "      <td>0.125436</td>\n",
       "      <td>0.105816</td>\n",
       "      <td>0.000</td>\n",
       "      <td>0.054000</td>\n",
       "      <td>0.091000</td>\n",
       "      <td>0.156030</td>\n",
       "      <td>0.551910</td>\n",
       "    </tr>\n",
       "    <tr>\n",
       "      <th>Generosity</th>\n",
       "      <td>782.0</td>\n",
       "      <td>0.218576</td>\n",
       "      <td>0.122321</td>\n",
       "      <td>0.000</td>\n",
       "      <td>0.130000</td>\n",
       "      <td>0.201982</td>\n",
       "      <td>0.278832</td>\n",
       "      <td>0.838075</td>\n",
       "    </tr>\n",
       "  </tbody>\n",
       "</table>\n",
       "</div>"
      ],
      "text/plain": [
       "                 count         mean        std       min          25%  \\\n",
       "Happiness Rank   782.0    78.698210  45.182384     1.000    40.000000   \n",
       "Year             782.0  2016.993606   1.417364  2015.000  2016.000000   \n",
       "Happiness Score  782.0     5.379018   1.127456     2.693     4.509750   \n",
       "GDP              782.0     0.916047   0.407340     0.000     0.606500   \n",
       "Family           782.0     1.078392   0.329548     0.000     0.869363   \n",
       "Life             782.0     0.612416   0.248309     0.000     0.440183   \n",
       "Freedom          782.0     0.411091   0.152880     0.000     0.309768   \n",
       "Trust            781.0     0.125436   0.105816     0.000     0.054000   \n",
       "Generosity       782.0     0.218576   0.122321     0.000     0.130000   \n",
       "\n",
       "                         50%          75%          max  \n",
       "Happiness Rank     79.000000   118.000000   158.000000  \n",
       "Year             2017.000000  2018.000000  2019.000000  \n",
       "Happiness Score     5.322000     6.189500     7.769000  \n",
       "GDP                 0.982205     1.236187     2.096000  \n",
       "Family              1.124735     1.327250     1.644000  \n",
       "Life                0.647310     0.808000     1.141000  \n",
       "Freedom             0.431000     0.531000     0.724000  \n",
       "Trust               0.091000     0.156030     0.551910  \n",
       "Generosity          0.201982     0.278832     0.838075  "
      ]
     },
     "execution_count": 15,
     "metadata": {},
     "output_type": "execute_result"
    }
   ],
   "source": [
    "df.describe().T"
   ]
  },
  {
   "cell_type": "code",
   "execution_count": 16,
   "id": "4300dc5e",
   "metadata": {
    "execution": {
     "iopub.execute_input": "2022-02-23T17:16:30.669503Z",
     "iopub.status.busy": "2022-02-23T17:16:30.668772Z",
     "iopub.status.idle": "2022-02-23T17:16:31.521682Z",
     "shell.execute_reply": "2022-02-23T17:16:31.521099Z",
     "shell.execute_reply.started": "2022-02-23T16:46:42.218193Z"
    },
    "papermill": {
     "duration": 0.942513,
     "end_time": "2022-02-23T17:16:31.521836",
     "exception": false,
     "start_time": "2022-02-23T17:16:30.579323",
     "status": "completed"
    },
    "tags": []
   },
   "outputs": [
    {
     "data": {
      "text/plain": [
       "<AxesSubplot:>"
      ]
     },
     "execution_count": 16,
     "metadata": {},
     "output_type": "execute_result"
    },
    {
     "data": {
      "image/png": "[encoded data removed]",
      "text/plain": [
       "<Figure size 864x432 with 2 Axes>"
      ]
     },
     "metadata": {
      "needs_background": "light"
     },
     "output_type": "display_data"
    }
   ],
   "source": [
    "fig, ax = plt.subplots(figsize=(12,6))\n",
    "corr=df.corr()\n",
    "sns.heatmap(corr, annot=True, cmap=\"RdBu\",vmin=-1,vmax=1,fmt=\".2f\")"
   ]
  },
  {
   "cell_type": "code",
   "execution_count": 17,
   "id": "f42be884",
   "metadata": {
    "execution": {
     "iopub.execute_input": "2022-02-23T17:16:31.706771Z",
     "iopub.status.busy": "2022-02-23T17:16:31.706092Z",
     "iopub.status.idle": "2022-02-23T17:16:32.859107Z",
     "shell.execute_reply": "2022-02-23T17:16:32.859665Z",
     "shell.execute_reply.started": "2022-02-23T16:46:42.991042Z"
    },
    "id": "kj4B30neVg-v",
    "outputId": "a2f9f987-6f85-408c-f3a6-3d39c6d0ba09",
    "papermill": {
     "duration": 1.247271,
     "end_time": "2022-02-23T17:16:32.859854",
     "exception": false,
     "start_time": "2022-02-23T17:16:31.612583",
     "status": "completed"
    },
    "tags": []
   },
   "outputs": [
    {
     "data": {
      "image/png": "[encoded data removed]",
      "text/plain": [
       "<Figure size 432x288 with 1 Axes>"
      ]
     },
     "metadata": {
      "needs_background": "light"
     },
     "output_type": "display_data"
    },
    {
     "data": {
      "image/png": "[encoded data removed]",
      "text/plain": [
       "<Figure size 432x288 with 1 Axes>"
      ]
     },
     "metadata": {
      "needs_background": "light"
     },
     "output_type": "display_data"
    },
    {
     "data": {
      "image/png": "[encoded data removed]",
      "text/plain": [
       "<Figure size 432x288 with 1 Axes>"
      ]
     },
     "metadata": {
      "needs_background": "light"
     },
     "output_type": "display_data"
    },
    {
     "data": {
      "image/png": "[encoded data removed]",
      "text/plain": [
       "<Figure size 432x288 with 1 Axes>"
      ]
     },
     "metadata": {
      "needs_background": "light"
     },
     "output_type": "display_data"
    },
    {
     "data": {
      "image/png": "[encoded data removed]",
      "text/plain": [
       "<Figure size 432x288 with 1 Axes>"
      ]
     },
     "metadata": {
      "needs_background": "light"
     },
     "output_type": "display_data"
    },
    {
     "data": {
      "image/png": "[encoded data removed]",
      "text/plain": [
       "<Figure size 432x288 with 1 Axes>"
      ]
     },
     "metadata": {
      "needs_background": "light"
     },
     "output_type": "display_data"
    },
    {
     "data": {
      "image/png": "[encoded data removed]",
      "text/plain": [
       "<Figure size 432x288 with 1 Axes>"
      ]
     },
     "metadata": {
      "needs_background": "light"
     },
     "output_type": "display_data"
    }
   ],
   "source": [
    "column_list = [\"Happiness Score\",\"GDP\",\"Family\",\"Life\",\"Freedom\",\"Trust\",\"Generosity\"]\n",
    "for col in column_list:\n",
    "    sns.boxplot(x = df[col])\n",
    "    plt.xlabel(col)\n",
    "    plt.show()"
   ]
  },
  {
   "cell_type": "markdown",
   "id": "4f23f6b9",
   "metadata": {
    "papermill": {
     "duration": 0.096141,
     "end_time": "2022-02-23T17:16:33.051560",
     "exception": false,
     "start_time": "2022-02-23T17:16:32.955419",
     "status": "completed"
    },
    "tags": []
   },
   "source": [
    "# Outlier Engineering"
   ]
  },
  {
   "cell_type": "code",
   "execution_count": 18,
   "id": "00235ef9",
   "metadata": {
    "execution": {
     "iopub.execute_input": "2022-02-23T17:16:33.253306Z",
     "iopub.status.busy": "2022-02-23T17:16:33.252159Z",
     "iopub.status.idle": "2022-02-23T17:16:33.259634Z",
     "shell.execute_reply": "2022-02-23T17:16:33.260200Z",
     "shell.execute_reply.started": "2022-02-23T16:46:44.005512Z"
    },
    "papermill": {
     "duration": 0.111466,
     "end_time": "2022-02-23T17:16:33.260406",
     "exception": false,
     "start_time": "2022-02-23T17:16:33.148940",
     "status": "completed"
    },
    "tags": []
   },
   "outputs": [],
   "source": [
    "IQR = df[\"Trust\"].quantile(0.75) - df[\"Trust\"].quantile(0.25)\n",
    "\n",
    "lower_boundary = df[\"Trust\"].quantile(0.25) - (IQR * 1.5)\n",
    "upper_boundary = df[\"Trust\"].quantile(0.75) + (IQR * 1.5)\n",
    "        \n",
    "df[\"Trust\"]= np.where(df[\"Trust\"] > upper_boundary, upper_boundary,\n",
    "                       np.where(df[\"Trust\"] < lower_boundary, lower_boundary, df[\"Trust\"])) "
   ]
  },
  {
   "cell_type": "code",
   "execution_count": 19,
   "id": "2e151da3",
   "metadata": {
    "execution": {
     "iopub.execute_input": "2022-02-23T17:16:33.464544Z",
     "iopub.status.busy": "2022-02-23T17:16:33.463491Z",
     "iopub.status.idle": "2022-02-23T17:16:33.660836Z",
     "shell.execute_reply": "2022-02-23T17:16:33.661614Z",
     "shell.execute_reply.started": "2022-02-23T16:46:44.019813Z"
    },
    "papermill": {
     "duration": 0.298311,
     "end_time": "2022-02-23T17:16:33.661851",
     "exception": false,
     "start_time": "2022-02-23T17:16:33.363540",
     "status": "completed"
    },
    "tags": []
   },
   "outputs": [
    {
     "data": {
      "text/plain": [
       "<AxesSubplot:xlabel='Trust'>"
      ]
     },
     "execution_count": 19,
     "metadata": {},
     "output_type": "execute_result"
    },
    {
     "data": {
      "image/png": "[encoded data removed]",
      "text/plain": [
       "<Figure size 432x288 with 1 Axes>"
      ]
     },
     "metadata": {
      "needs_background": "light"
     },
     "output_type": "display_data"
    }
   ],
   "source": [
    "sns.boxplot(data=df,x=\"Trust\")"
   ]
  },
  {
   "cell_type": "code",
   "execution_count": 20,
   "id": "85e3e1ed",
   "metadata": {
    "execution": {
     "iopub.execute_input": "2022-02-23T17:16:33.871870Z",
     "iopub.status.busy": "2022-02-23T17:16:33.870563Z",
     "iopub.status.idle": "2022-02-23T17:16:33.877332Z",
     "shell.execute_reply": "2022-02-23T17:16:33.877900Z",
     "shell.execute_reply.started": "2022-02-23T16:46:44.201787Z"
    },
    "papermill": {
     "duration": 0.114448,
     "end_time": "2022-02-23T17:16:33.878108",
     "exception": false,
     "start_time": "2022-02-23T17:16:33.763660",
     "status": "completed"
    },
    "tags": []
   },
   "outputs": [],
   "source": [
    "IQR = df[\"Generosity\"].quantile(0.75) - df[\"Generosity\"].quantile(0.25)\n",
    "\n",
    "lower_boundary = df[\"Generosity\"].quantile(0.25) - (IQR * 1.5)\n",
    "upper_boundary = df[\"Generosity\"].quantile(0.75) + (IQR * 1.5)\n",
    "        \n",
    "df[\"Generosity\"]= np.where(df[\"Generosity\"] > upper_boundary, upper_boundary,\n",
    "                       np.where(df[\"Generosity\"] < lower_boundary, lower_boundary, df[\"Generosity\"])) "
   ]
  },
  {
   "cell_type": "code",
   "execution_count": 21,
   "id": "f6722717",
   "metadata": {
    "execution": {
     "iopub.execute_input": "2022-02-23T17:16:34.113736Z",
     "iopub.status.busy": "2022-02-23T17:16:34.113052Z",
     "iopub.status.idle": "2022-02-23T17:16:34.314971Z",
     "shell.execute_reply": "2022-02-23T17:16:34.314098Z",
     "shell.execute_reply.started": "2022-02-23T16:46:44.215901Z"
    },
    "papermill": {
     "duration": 0.341036,
     "end_time": "2022-02-23T17:16:34.315177",
     "exception": false,
     "start_time": "2022-02-23T17:16:33.974141",
     "status": "completed"
    },
    "tags": []
   },
   "outputs": [
    {
     "data": {
      "text/plain": [
       "<AxesSubplot:xlabel='Generosity'>"
      ]
     },
     "execution_count": 21,
     "metadata": {},
     "output_type": "execute_result"
    },
    {
     "data": {
      "image/png": "[encoded data removed]",
      "text/plain": [
       "<Figure size 432x288 with 1 Axes>"
      ]
     },
     "metadata": {
      "needs_background": "light"
     },
     "output_type": "display_data"
    }
   ],
   "source": [
    "sns.boxplot(data=df,x=\"Generosity\")"
   ]
  },
  {
   "cell_type": "code",
   "execution_count": 22,
   "id": "fdf273d3",
   "metadata": {
    "execution": {
     "iopub.execute_input": "2022-02-23T17:16:34.543788Z",
     "iopub.status.busy": "2022-02-23T17:16:34.542744Z",
     "iopub.status.idle": "2022-02-23T17:16:34.549485Z",
     "shell.execute_reply": "2022-02-23T17:16:34.550158Z",
     "shell.execute_reply.started": "2022-02-23T16:46:44.394138Z"
    },
    "id": "EPh-i-qWaTAW",
    "outputId": "3f84e799-4b1c-477b-b00f-e148c4be69c4",
    "papermill": {
     "duration": 0.110961,
     "end_time": "2022-02-23T17:16:34.550331",
     "exception": false,
     "start_time": "2022-02-23T17:16:34.439370",
     "status": "completed"
    },
    "tags": []
   },
   "outputs": [
    {
     "data": {
      "text/plain": [
       "Country            0\n",
       "Happiness Rank     0\n",
       "Year               0\n",
       "Happiness Score    0\n",
       "GDP                0\n",
       "Family             0\n",
       "Life               0\n",
       "Freedom            0\n",
       "Trust              1\n",
       "Generosity         0\n",
       "dtype: int64"
      ]
     },
     "execution_count": 22,
     "metadata": {},
     "output_type": "execute_result"
    }
   ],
   "source": [
    "df.isnull().sum()"
   ]
  },
  {
   "cell_type": "code",
   "execution_count": 23,
   "id": "8963844d",
   "metadata": {
    "execution": {
     "iopub.execute_input": "2022-02-23T17:16:34.757960Z",
     "iopub.status.busy": "2022-02-23T17:16:34.756929Z",
     "iopub.status.idle": "2022-02-23T17:16:34.761858Z",
     "shell.execute_reply": "2022-02-23T17:16:34.762540Z",
     "shell.execute_reply.started": "2022-02-23T16:46:44.406013Z"
    },
    "id": "Snn7ekdCbDNS",
    "papermill": {
     "duration": 0.111104,
     "end_time": "2022-02-23T17:16:34.762733",
     "exception": false,
     "start_time": "2022-02-23T17:16:34.651629",
     "status": "completed"
    },
    "tags": []
   },
   "outputs": [],
   "source": [
    "df[\"Trust\"].fillna(df[\"Trust\"].median(),inplace=True)"
   ]
  },
  {
   "cell_type": "code",
   "execution_count": 24,
   "id": "85be2d4d",
   "metadata": {
    "execution": {
     "iopub.execute_input": "2022-02-23T17:16:34.964669Z",
     "iopub.status.busy": "2022-02-23T17:16:34.963644Z",
     "iopub.status.idle": "2022-02-23T17:16:34.972130Z",
     "shell.execute_reply": "2022-02-23T17:16:34.972761Z",
     "shell.execute_reply.started": "2022-02-23T16:46:44.414834Z"
    },
    "id": "Cl00inFlbZ0m",
    "outputId": "3cc9b07a-01f6-405f-e28b-5266c0c8759d",
    "papermill": {
     "duration": 0.109486,
     "end_time": "2022-02-23T17:16:34.972939",
     "exception": false,
     "start_time": "2022-02-23T17:16:34.863453",
     "status": "completed"
    },
    "tags": []
   },
   "outputs": [
    {
     "data": {
      "text/plain": [
       "Country            0\n",
       "Happiness Rank     0\n",
       "Year               0\n",
       "Happiness Score    0\n",
       "GDP                0\n",
       "Family             0\n",
       "Life               0\n",
       "Freedom            0\n",
       "Trust              0\n",
       "Generosity         0\n",
       "dtype: int64"
      ]
     },
     "execution_count": 24,
     "metadata": {},
     "output_type": "execute_result"
    }
   ],
   "source": [
    "df.isnull().sum()"
   ]
  },
  {
   "cell_type": "code",
   "execution_count": 25,
   "id": "127f689e",
   "metadata": {
    "execution": {
     "iopub.execute_input": "2022-02-23T17:16:35.174151Z",
     "iopub.status.busy": "2022-02-23T17:16:35.173040Z",
     "iopub.status.idle": "2022-02-23T17:16:35.179283Z",
     "shell.execute_reply": "2022-02-23T17:16:35.178685Z",
     "shell.execute_reply.started": "2022-02-23T16:46:44.433561Z"
    },
    "id": "qVXzJs5-2fPN",
    "papermill": {
     "duration": 0.108921,
     "end_time": "2022-02-23T17:16:35.179445",
     "exception": false,
     "start_time": "2022-02-23T17:16:35.070524",
     "status": "completed"
    },
    "tags": []
   },
   "outputs": [],
   "source": [
    "ndf = df.drop(columns=[\"Country\",\"Happiness Rank\"],axis=1)"
   ]
  },
  {
   "cell_type": "code",
   "execution_count": 26,
   "id": "527449ee",
   "metadata": {
    "execution": {
     "iopub.execute_input": "2022-02-23T17:16:35.386557Z",
     "iopub.status.busy": "2022-02-23T17:16:35.385531Z",
     "iopub.status.idle": "2022-02-23T17:16:35.400455Z",
     "shell.execute_reply": "2022-02-23T17:16:35.401028Z",
     "shell.execute_reply.started": "2022-02-23T16:46:44.442661Z"
    },
    "id": "9TpeWhsx3Dgu",
    "outputId": "a29e8276-163f-4d90-8a30-c4a7d8005b27",
    "papermill": {
     "duration": 0.121963,
     "end_time": "2022-02-23T17:16:35.401215",
     "exception": false,
     "start_time": "2022-02-23T17:16:35.279252",
     "status": "completed"
    },
    "tags": []
   },
   "outputs": [
    {
     "data": {
      "text/html": [
       "<div>\n",
       "<style scoped>\n",
       "    .dataframe tbody tr th:only-of-type {\n",
       "        vertical-align: middle;\n",
       "    }\n",
       "\n",
       "    .dataframe tbody tr th {\n",
       "        vertical-align: top;\n",
       "    }\n",
       "\n",
       "    .dataframe thead th {\n",
       "        text-align: right;\n",
       "    }\n",
       "</style>\n",
       "<table border=\"1\" class=\"dataframe\">\n",
       "  <thead>\n",
       "    <tr style=\"text-align: right;\">\n",
       "      <th></th>\n",
       "      <th>Year</th>\n",
       "      <th>Happiness Score</th>\n",
       "      <th>GDP</th>\n",
       "      <th>Family</th>\n",
       "      <th>Life</th>\n",
       "      <th>Freedom</th>\n",
       "      <th>Trust</th>\n",
       "      <th>Generosity</th>\n",
       "    </tr>\n",
       "  </thead>\n",
       "  <tbody>\n",
       "    <tr>\n",
       "      <th>0</th>\n",
       "      <td>2015</td>\n",
       "      <td>7.587</td>\n",
       "      <td>1.39651</td>\n",
       "      <td>1.34951</td>\n",
       "      <td>0.94143</td>\n",
       "      <td>0.66557</td>\n",
       "      <td>0.309075</td>\n",
       "      <td>0.29678</td>\n",
       "    </tr>\n",
       "    <tr>\n",
       "      <th>1</th>\n",
       "      <td>2015</td>\n",
       "      <td>7.561</td>\n",
       "      <td>1.30232</td>\n",
       "      <td>1.40223</td>\n",
       "      <td>0.94784</td>\n",
       "      <td>0.62877</td>\n",
       "      <td>0.141450</td>\n",
       "      <td>0.43630</td>\n",
       "    </tr>\n",
       "    <tr>\n",
       "      <th>2</th>\n",
       "      <td>2015</td>\n",
       "      <td>7.527</td>\n",
       "      <td>1.32548</td>\n",
       "      <td>1.36058</td>\n",
       "      <td>0.87464</td>\n",
       "      <td>0.64938</td>\n",
       "      <td>0.309075</td>\n",
       "      <td>0.34139</td>\n",
       "    </tr>\n",
       "    <tr>\n",
       "      <th>3</th>\n",
       "      <td>2015</td>\n",
       "      <td>7.522</td>\n",
       "      <td>1.45900</td>\n",
       "      <td>1.33095</td>\n",
       "      <td>0.88521</td>\n",
       "      <td>0.66973</td>\n",
       "      <td>0.309075</td>\n",
       "      <td>0.34699</td>\n",
       "    </tr>\n",
       "    <tr>\n",
       "      <th>4</th>\n",
       "      <td>2015</td>\n",
       "      <td>7.427</td>\n",
       "      <td>1.32629</td>\n",
       "      <td>1.32261</td>\n",
       "      <td>0.90563</td>\n",
       "      <td>0.63297</td>\n",
       "      <td>0.309075</td>\n",
       "      <td>0.45811</td>\n",
       "    </tr>\n",
       "  </tbody>\n",
       "</table>\n",
       "</div>"
      ],
      "text/plain": [
       "   Year  Happiness Score      GDP   Family     Life  Freedom     Trust  \\\n",
       "0  2015            7.587  1.39651  1.34951  0.94143  0.66557  0.309075   \n",
       "1  2015            7.561  1.30232  1.40223  0.94784  0.62877  0.141450   \n",
       "2  2015            7.527  1.32548  1.36058  0.87464  0.64938  0.309075   \n",
       "3  2015            7.522  1.45900  1.33095  0.88521  0.66973  0.309075   \n",
       "4  2015            7.427  1.32629  1.32261  0.90563  0.63297  0.309075   \n",
       "\n",
       "   Generosity  \n",
       "0     0.29678  \n",
       "1     0.43630  \n",
       "2     0.34139  \n",
       "3     0.34699  \n",
       "4     0.45811  "
      ]
     },
     "execution_count": 26,
     "metadata": {},
     "output_type": "execute_result"
    }
   ],
   "source": [
    "ndf.head()"
   ]
  },
  {
   "cell_type": "code",
   "execution_count": 27,
   "id": "a56103fe",
   "metadata": {
    "execution": {
     "iopub.execute_input": "2022-02-23T17:16:35.604914Z",
     "iopub.status.busy": "2022-02-23T17:16:35.603893Z",
     "iopub.status.idle": "2022-02-23T17:16:35.609174Z",
     "shell.execute_reply": "2022-02-23T17:16:35.609783Z",
     "shell.execute_reply.started": "2022-02-23T16:46:44.470532Z"
    },
    "id": "FUIdWE2V4pby",
    "outputId": "c23baf4c-4aa5-4911-be0b-bde412698d6a",
    "papermill": {
     "duration": 0.109733,
     "end_time": "2022-02-23T17:16:35.609960",
     "exception": false,
     "start_time": "2022-02-23T17:16:35.500227",
     "status": "completed"
    },
    "tags": []
   },
   "outputs": [
    {
     "data": {
      "text/plain": [
       "(782, 8)"
      ]
     },
     "execution_count": 27,
     "metadata": {},
     "output_type": "execute_result"
    }
   ],
   "source": [
    "ndf.shape"
   ]
  },
  {
   "cell_type": "code",
   "execution_count": 28,
   "id": "bd82c09e",
   "metadata": {
    "execution": {
     "iopub.execute_input": "2022-02-23T17:16:35.810375Z",
     "iopub.status.busy": "2022-02-23T17:16:35.809696Z",
     "iopub.status.idle": "2022-02-23T17:16:36.433827Z",
     "shell.execute_reply": "2022-02-23T17:16:36.434407Z",
     "shell.execute_reply.started": "2022-02-23T16:46:44.485064Z"
    },
    "id": "-een0GRi4vHD",
    "outputId": "cff59bf2-15e1-441c-e132-a1cec049d1ca",
    "papermill": {
     "duration": 0.72576,
     "end_time": "2022-02-23T17:16:36.434608",
     "exception": false,
     "start_time": "2022-02-23T17:16:35.708848",
     "status": "completed"
    },
    "tags": []
   },
   "outputs": [],
   "source": [
    "from statsmodels.api import OLS"
   ]
  },
  {
   "cell_type": "code",
   "execution_count": 29,
   "id": "1f5e067e",
   "metadata": {
    "execution": {
     "iopub.execute_input": "2022-02-23T17:16:36.643133Z",
     "iopub.status.busy": "2022-02-23T17:16:36.642382Z",
     "iopub.status.idle": "2022-02-23T17:16:36.671130Z",
     "shell.execute_reply": "2022-02-23T17:16:36.670507Z",
     "shell.execute_reply.started": "2022-02-23T16:46:44.713356Z"
    },
    "id": "viPodg_u5L3D",
    "outputId": "63cf4906-7139-4e95-88d2-9617b5d4a884",
    "papermill": {
     "duration": 0.135996,
     "end_time": "2022-02-23T17:16:36.671286",
     "exception": false,
     "start_time": "2022-02-23T17:16:36.535290",
     "status": "completed"
    },
    "tags": []
   },
   "outputs": [
    {
     "name": "stdout",
     "output_type": "stream",
     "text": [
      "                                 OLS Regression Results                                \n",
      "=======================================================================================\n",
      "Dep. Variable:        Happiness Score   R-squared (uncentered):                   0.990\n",
      "Model:                            OLS   Adj. R-squared (uncentered):              0.990\n",
      "Method:                 Least Squares   F-statistic:                          1.116e+04\n",
      "Date:                Wed, 23 Feb 2022   Prob (F-statistic):                        0.00\n",
      "Time:                        17:16:36   Log-Likelihood:                         -634.69\n",
      "No. Observations:                 782   AIC:                                      1283.\n",
      "Df Residuals:                     775   BIC:                                      1316.\n",
      "Df Model:                           7                                                  \n",
      "Covariance Type:            nonrobust                                                  \n",
      "==============================================================================\n",
      "                 coef    std err          t      P>|t|      [0.025      0.975]\n",
      "------------------------------------------------------------------------------\n",
      "Year           0.0011   3.96e-05     26.897      0.000       0.001       0.001\n",
      "GDP            1.1361      0.082     13.803      0.000       0.975       1.298\n",
      "Family         0.6505      0.080      8.108      0.000       0.493       0.808\n",
      "Life           1.0078      0.131      7.705      0.000       0.751       1.265\n",
      "Freedom        1.4283      0.163      8.785      0.000       1.109       1.747\n",
      "Trust          1.1785      0.266      4.425      0.000       0.656       1.701\n",
      "Generosity     0.6567      0.187      3.513      0.000       0.290       1.024\n",
      "==============================================================================\n",
      "Omnibus:                       15.894   Durbin-Watson:                   1.468\n",
      "Prob(Omnibus):                  0.000   Jarque-Bera (JB):               18.025\n",
      "Skew:                          -0.278   Prob(JB):                     0.000122\n",
      "Kurtosis:                       3.494   Cond. No.                     2.89e+04\n",
      "==============================================================================\n",
      "\n",
      "Notes:\n",
      "[1] R² is computed without centering (uncentered) since the model does not contain a constant.\n",
      "[2] Standard Errors assume that the covariance matrix of the errors is correctly specified.\n",
      "[3] The condition number is large, 2.89e+04. This might indicate that there are\n",
      "strong multicollinearity or other numerical problems.\n"
     ]
    }
   ],
   "source": [
    "print(OLS(endog=ndf[\"Happiness Score\"],exog=ndf.drop(columns=\"Happiness Score\")).fit().summary())"
   ]
  },
  {
   "cell_type": "markdown",
   "id": "5707cd0d",
   "metadata": {
    "papermill": {
     "duration": 0.099437,
     "end_time": "2022-02-23T17:16:36.869973",
     "exception": false,
     "start_time": "2022-02-23T17:16:36.770536",
     "status": "completed"
    },
    "tags": []
   },
   "source": [
    "[OLS nedir?](https://yigitsener.medium.com/makine-%C3%B6%C4%9Frenmesinde-python-ile-basit-do%C4%9Frusal-regresyon-modelinin-kurulmas%C4%B1-ve-yorumlanmas%C4%B1-4cf918e1adf)"
   ]
  },
  {
   "cell_type": "code",
   "execution_count": 30,
   "id": "347b9dc5",
   "metadata": {
    "execution": {
     "iopub.execute_input": "2022-02-23T17:16:37.071569Z",
     "iopub.status.busy": "2022-02-23T17:16:37.070866Z",
     "iopub.status.idle": "2022-02-23T17:16:39.394381Z",
     "shell.execute_reply": "2022-02-23T17:16:39.394923Z",
     "shell.execute_reply.started": "2022-02-23T16:46:44.733849Z"
    },
    "id": "f8iHnqBJ5rRK",
    "outputId": "b1d25061-11c9-4b14-adf6-42bea179338a",
    "papermill": {
     "duration": 2.426179,
     "end_time": "2022-02-23T17:16:39.395157",
     "exception": false,
     "start_time": "2022-02-23T17:16:36.968978",
     "status": "completed"
    },
    "tags": []
   },
   "outputs": [
    {
     "data": {
      "text/plain": [
       "<seaborn.axisgrid.PairGrid at 0x7fc3813b0510>"
      ]
     },
     "execution_count": 30,
     "metadata": {},
     "output_type": "execute_result"
    },
    {
     "data": {
      "image/png": "[encoded data removed]",
      "text/plain": [
       "<Figure size 810.875x180 with 4 Axes>"
      ]
     },
     "metadata": {
      "needs_background": "light"
     },
     "output_type": "display_data"
    }
   ],
   "source": [
    "sns.pairplot(\n",
    "    ndf,\n",
    "    x_vars=[\"GDP\",\"Family\",\"Life\",\"Freedom\"],\n",
    "    y_vars=[\"Happiness Score\"],hue=\"Happiness Score\"\n",
    ")"
   ]
  },
  {
   "cell_type": "markdown",
   "id": "4b8a2217",
   "metadata": {
    "id": "L383D92P_9VR",
    "papermill": {
     "duration": 0.103776,
     "end_time": "2022-02-23T17:16:39.603412",
     "exception": false,
     "start_time": "2022-02-23T17:16:39.499636",
     "status": "completed"
    },
    "tags": []
   },
   "source": [
    "# **Scale and Split**"
   ]
  },
  {
   "cell_type": "code",
   "execution_count": 31,
   "id": "35d93bca",
   "metadata": {
    "execution": {
     "iopub.execute_input": "2022-02-23T17:16:39.817758Z",
     "iopub.status.busy": "2022-02-23T17:16:39.816720Z",
     "iopub.status.idle": "2022-02-23T17:16:39.821164Z",
     "shell.execute_reply": "2022-02-23T17:16:39.821664Z",
     "shell.execute_reply.started": "2022-02-23T16:46:46.747616Z"
    },
    "id": "3-FCGNYAF9Ge",
    "papermill": {
     "duration": 0.116068,
     "end_time": "2022-02-23T17:16:39.821843",
     "exception": false,
     "start_time": "2022-02-23T17:16:39.705775",
     "status": "completed"
    },
    "tags": []
   },
   "outputs": [],
   "source": [
    "X_train,X_test,y_train,y_test = train_test_split(ndf.drop(columns=[\"Happiness Score\"]),ndf[\"Happiness Score\"],test_size=0.12,random_state=0)"
   ]
  },
  {
   "cell_type": "code",
   "execution_count": 32,
   "id": "7bbb96bd",
   "metadata": {
    "execution": {
     "iopub.execute_input": "2022-02-23T17:16:40.031160Z",
     "iopub.status.busy": "2022-02-23T17:16:40.030099Z",
     "iopub.status.idle": "2022-02-23T17:16:40.033907Z",
     "shell.execute_reply": "2022-02-23T17:16:40.034446Z",
     "shell.execute_reply.started": "2022-02-23T16:46:46.757879Z"
    },
    "id": "wV6LE_9CAKh_",
    "papermill": {
     "duration": 0.110123,
     "end_time": "2022-02-23T17:16:40.034619",
     "exception": false,
     "start_time": "2022-02-23T17:16:39.924496",
     "status": "completed"
    },
    "tags": []
   },
   "outputs": [],
   "source": [
    "se = StandardScaler()"
   ]
  },
  {
   "cell_type": "code",
   "execution_count": 33,
   "id": "0585566d",
   "metadata": {
    "execution": {
     "iopub.execute_input": "2022-02-23T17:16:40.250402Z",
     "iopub.status.busy": "2022-02-23T17:16:40.249651Z",
     "iopub.status.idle": "2022-02-23T17:16:40.261435Z",
     "shell.execute_reply": "2022-02-23T17:16:40.261963Z",
     "shell.execute_reply.started": "2022-02-23T16:46:46.772732Z"
    },
    "id": "BoqPZLvUAw6t",
    "papermill": {
     "duration": 0.123707,
     "end_time": "2022-02-23T17:16:40.262186",
     "exception": false,
     "start_time": "2022-02-23T17:16:40.138479",
     "status": "completed"
    },
    "tags": []
   },
   "outputs": [],
   "source": [
    "X_train = se.fit_transform(X_train)\n",
    "X_test = se.fit_transform(X_test)"
   ]
  },
  {
   "cell_type": "code",
   "execution_count": 34,
   "id": "5d37d5a1",
   "metadata": {
    "execution": {
     "iopub.execute_input": "2022-02-23T17:16:40.474051Z",
     "iopub.status.busy": "2022-02-23T17:16:40.473274Z",
     "iopub.status.idle": "2022-02-23T17:16:40.478426Z",
     "shell.execute_reply": "2022-02-23T17:16:40.479059Z",
     "shell.execute_reply.started": "2022-02-23T16:46:46.791367Z"
    },
    "id": "NsEgMxwhIH0x",
    "outputId": "83d208f2-8f15-4cae-9c36-0bc2ffa9e60d",
    "papermill": {
     "duration": 0.112923,
     "end_time": "2022-02-23T17:16:40.479254",
     "exception": false,
     "start_time": "2022-02-23T17:16:40.366331",
     "status": "completed"
    },
    "tags": []
   },
   "outputs": [
    {
     "data": {
      "text/plain": [
       "((688, 7), (94, 7))"
      ]
     },
     "execution_count": 34,
     "metadata": {},
     "output_type": "execute_result"
    }
   ],
   "source": [
    "X_train.shape,X_test.shape"
   ]
  },
  {
   "cell_type": "code",
   "execution_count": 35,
   "id": "eb522357",
   "metadata": {
    "execution": {
     "iopub.execute_input": "2022-02-23T17:16:40.691883Z",
     "iopub.status.busy": "2022-02-23T17:16:40.691259Z",
     "iopub.status.idle": "2022-02-23T17:16:40.696221Z",
     "shell.execute_reply": "2022-02-23T17:16:40.696816Z",
     "shell.execute_reply.started": "2022-02-23T16:46:46.802157Z"
    },
    "id": "_DNx8ppbtRUS",
    "outputId": "2d0747ea-efe2-4048-a0d5-911c70b3f518",
    "papermill": {
     "duration": 0.111572,
     "end_time": "2022-02-23T17:16:40.696981",
     "exception": false,
     "start_time": "2022-02-23T17:16:40.585409",
     "status": "completed"
    },
    "tags": []
   },
   "outputs": [
    {
     "data": {
      "text/plain": [
       "((688,), (94,))"
      ]
     },
     "execution_count": 35,
     "metadata": {},
     "output_type": "execute_result"
    }
   ],
   "source": [
    "y_train.shape,y_test.shape"
   ]
  },
  {
   "cell_type": "markdown",
   "id": "12701257",
   "metadata": {
    "papermill": {
     "duration": 0.103561,
     "end_time": "2022-02-23T17:16:40.903596",
     "exception": false,
     "start_time": "2022-02-23T17:16:40.800035",
     "status": "completed"
    },
    "tags": []
   },
   "source": [
    "# Model Training"
   ]
  },
  {
   "cell_type": "markdown",
   "id": "c1c86870",
   "metadata": {
    "id": "t2faFqzfDPlj",
    "papermill": {
     "duration": 0.103036,
     "end_time": "2022-02-23T17:16:41.109698",
     "exception": false,
     "start_time": "2022-02-23T17:16:41.006662",
     "status": "completed"
    },
    "tags": []
   },
   "source": [
    "**Linear Regression** "
   ]
  },
  {
   "cell_type": "code",
   "execution_count": 36,
   "id": "29a9c183",
   "metadata": {
    "execution": {
     "iopub.execute_input": "2022-02-23T17:16:41.321492Z",
     "iopub.status.busy": "2022-02-23T17:16:41.320752Z",
     "iopub.status.idle": "2022-02-23T17:16:41.324458Z",
     "shell.execute_reply": "2022-02-23T17:16:41.325086Z",
     "shell.execute_reply.started": "2022-02-23T16:46:46.817009Z"
    },
    "id": "KqviGaYlJbT3",
    "papermill": {
     "duration": 0.112708,
     "end_time": "2022-02-23T17:16:41.325293",
     "exception": false,
     "start_time": "2022-02-23T17:16:41.212585",
     "status": "completed"
    },
    "tags": []
   },
   "outputs": [],
   "source": [
    "model_le = LinearRegression()"
   ]
  },
  {
   "cell_type": "code",
   "execution_count": 37,
   "id": "3727b635",
   "metadata": {
    "execution": {
     "iopub.execute_input": "2022-02-23T17:16:41.538635Z",
     "iopub.status.busy": "2022-02-23T17:16:41.537972Z",
     "iopub.status.idle": "2022-02-23T17:16:41.561830Z",
     "shell.execute_reply": "2022-02-23T17:16:41.562508Z",
     "shell.execute_reply.started": "2022-02-23T16:46:46.828683Z"
    },
    "id": "QUZCPG4jJjOb",
    "outputId": "58c1d300-9a4f-4460-d12e-cb21bdd59d5f",
    "papermill": {
     "duration": 0.13231,
     "end_time": "2022-02-23T17:16:41.562690",
     "exception": false,
     "start_time": "2022-02-23T17:16:41.430380",
     "status": "completed"
    },
    "tags": []
   },
   "outputs": [
    {
     "data": {
      "text/plain": [
       "LinearRegression()"
      ]
     },
     "execution_count": 37,
     "metadata": {},
     "output_type": "execute_result"
    }
   ],
   "source": [
    "model_le.fit(X_train,y_train)"
   ]
  },
  {
   "cell_type": "code",
   "execution_count": 38,
   "id": "7285fcbc",
   "metadata": {
    "execution": {
     "iopub.execute_input": "2022-02-23T17:16:41.778895Z",
     "iopub.status.busy": "2022-02-23T17:16:41.778241Z",
     "iopub.status.idle": "2022-02-23T17:16:41.783483Z",
     "shell.execute_reply": "2022-02-23T17:16:41.784144Z",
     "shell.execute_reply.started": "2022-02-23T16:46:46.845871Z"
    },
    "id": "1g02T_HQJtqK",
    "outputId": "95cd565b-dd26-4cb9-aa10-0a8ae6d760c7",
    "papermill": {
     "duration": 0.115764,
     "end_time": "2022-02-23T17:16:41.784326",
     "exception": false,
     "start_time": "2022-02-23T17:16:41.668562",
     "status": "completed"
    },
    "tags": []
   },
   "outputs": [
    {
     "data": {
      "text/plain": [
       "array([-0.11384853,  0.40136968,  0.2511459 ,  0.29073458,  0.20337351,\n",
       "        0.1153736 ,  0.05264464])"
      ]
     },
     "execution_count": 38,
     "metadata": {},
     "output_type": "execute_result"
    }
   ],
   "source": [
    "model_le.coef_"
   ]
  },
  {
   "cell_type": "code",
   "execution_count": 39,
   "id": "c5aeed19",
   "metadata": {
    "execution": {
     "iopub.execute_input": "2022-02-23T17:16:41.999050Z",
     "iopub.status.busy": "2022-02-23T17:16:41.998377Z",
     "iopub.status.idle": "2022-02-23T17:16:42.003264Z",
     "shell.execute_reply": "2022-02-23T17:16:42.003869Z",
     "shell.execute_reply.started": "2022-02-23T16:46:46.864249Z"
    },
    "id": "KUXUM9TSJ7pf",
    "outputId": "b3b153ef-9be0-4cea-b64f-e3a138f5102d",
    "papermill": {
     "duration": 0.11353,
     "end_time": "2022-02-23T17:16:42.004069",
     "exception": false,
     "start_time": "2022-02-23T17:16:41.890539",
     "status": "completed"
    },
    "tags": []
   },
   "outputs": [
    {
     "data": {
      "text/plain": [
       "5.371375000449113"
      ]
     },
     "execution_count": 39,
     "metadata": {},
     "output_type": "execute_result"
    }
   ],
   "source": [
    "model_le.intercept_"
   ]
  },
  {
   "cell_type": "code",
   "execution_count": 40,
   "id": "d4a06cca",
   "metadata": {
    "execution": {
     "iopub.execute_input": "2022-02-23T17:16:42.217067Z",
     "iopub.status.busy": "2022-02-23T17:16:42.216353Z",
     "iopub.status.idle": "2022-02-23T17:16:42.220803Z",
     "shell.execute_reply": "2022-02-23T17:16:42.220268Z",
     "shell.execute_reply.started": "2022-02-23T16:46:46.876375Z"
    },
    "id": "U8W-XfvhCnsX",
    "papermill": {
     "duration": 0.112428,
     "end_time": "2022-02-23T17:16:42.220958",
     "exception": false,
     "start_time": "2022-02-23T17:16:42.108530",
     "status": "completed"
    },
    "tags": []
   },
   "outputs": [],
   "source": [
    "le_y_pred = model_le.predict(X_test)"
   ]
  },
  {
   "cell_type": "code",
   "execution_count": 41,
   "id": "5f3370a5",
   "metadata": {
    "execution": {
     "iopub.execute_input": "2022-02-23T17:16:42.435622Z",
     "iopub.status.busy": "2022-02-23T17:16:42.434919Z",
     "iopub.status.idle": "2022-02-23T17:16:42.441882Z",
     "shell.execute_reply": "2022-02-23T17:16:42.441221Z",
     "shell.execute_reply.started": "2022-02-23T16:46:46.892801Z"
    },
    "id": "UlIup88eKAf2",
    "outputId": "5a29978b-64f1-4a6d-d5d1-aa8701763ed6",
    "papermill": {
     "duration": 0.114727,
     "end_time": "2022-02-23T17:16:42.442052",
     "exception": false,
     "start_time": "2022-02-23T17:16:42.327325",
     "status": "completed"
    },
    "tags": []
   },
   "outputs": [
    {
     "name": "stdout",
     "output_type": "stream",
     "text": [
      "Linear Regression Train Score: 0.7669523127980397\n"
     ]
    }
   ],
   "source": [
    "print(f\"Linear Regression Train Score: {model_le.score(X_train,y_train)}\")"
   ]
  },
  {
   "cell_type": "code",
   "execution_count": 42,
   "id": "29586524",
   "metadata": {
    "execution": {
     "iopub.execute_input": "2022-02-23T17:16:42.657038Z",
     "iopub.status.busy": "2022-02-23T17:16:42.656345Z",
     "iopub.status.idle": "2022-02-23T17:16:42.681950Z",
     "shell.execute_reply": "2022-02-23T17:16:42.682507Z",
     "shell.execute_reply.started": "2022-02-23T16:46:46.910120Z"
    },
    "papermill": {
     "duration": 0.135016,
     "end_time": "2022-02-23T17:16:42.682706",
     "exception": false,
     "start_time": "2022-02-23T17:16:42.547690",
     "status": "completed"
    },
    "tags": []
   },
   "outputs": [],
   "source": [
    "cross_v=cross_val_score(model_le,X_train,y_train,cv=10,scoring=\"r2\").mean()"
   ]
  },
  {
   "cell_type": "code",
   "execution_count": 43,
   "id": "c54ef019",
   "metadata": {
    "execution": {
     "iopub.execute_input": "2022-02-23T17:16:42.896320Z",
     "iopub.status.busy": "2022-02-23T17:16:42.895641Z",
     "iopub.status.idle": "2022-02-23T17:16:42.900596Z",
     "shell.execute_reply": "2022-02-23T17:16:42.901246Z",
     "shell.execute_reply.started": "2022-02-23T16:46:46.943844Z"
    },
    "id": "C9f_a4Ep4rWr",
    "outputId": "8a04942f-b652-4c5a-931d-855cf8675fba",
    "papermill": {
     "duration": 0.113574,
     "end_time": "2022-02-23T17:16:42.901423",
     "exception": false,
     "start_time": "2022-02-23T17:16:42.787849",
     "status": "completed"
    },
    "tags": []
   },
   "outputs": [
    {
     "name": "stdout",
     "output_type": "stream",
     "text": [
      "Cross Validation Score: 0.7540404465083413\n"
     ]
    }
   ],
   "source": [
    "print(f\"Cross Validation Score: {cross_v}\")"
   ]
  },
  {
   "cell_type": "code",
   "execution_count": 44,
   "id": "00347109",
   "metadata": {
    "execution": {
     "iopub.execute_input": "2022-02-23T17:16:43.115922Z",
     "iopub.status.busy": "2022-02-23T17:16:43.115287Z",
     "iopub.status.idle": "2022-02-23T17:16:43.120395Z",
     "shell.execute_reply": "2022-02-23T17:16:43.119801Z",
     "shell.execute_reply.started": "2022-02-23T16:46:46.952973Z"
    },
    "papermill": {
     "duration": 0.113601,
     "end_time": "2022-02-23T17:16:43.120538",
     "exception": false,
     "start_time": "2022-02-23T17:16:43.006937",
     "status": "completed"
    },
    "tags": []
   },
   "outputs": [],
   "source": [
    "l_test_score = r2_score(y_test,le_y_pred)"
   ]
  },
  {
   "cell_type": "code",
   "execution_count": 45,
   "id": "8035a81f",
   "metadata": {
    "execution": {
     "iopub.execute_input": "2022-02-23T17:16:43.339765Z",
     "iopub.status.busy": "2022-02-23T17:16:43.339114Z",
     "iopub.status.idle": "2022-02-23T17:16:43.342171Z",
     "shell.execute_reply": "2022-02-23T17:16:43.342788Z",
     "shell.execute_reply.started": "2022-02-23T16:46:46.967178Z"
    },
    "id": "92lefGWZw5if",
    "papermill": {
     "duration": 0.116541,
     "end_time": "2022-02-23T17:16:43.342961",
     "exception": false,
     "start_time": "2022-02-23T17:16:43.226420",
     "status": "completed"
    },
    "tags": []
   },
   "outputs": [
    {
     "name": "stdout",
     "output_type": "stream",
     "text": [
      "Linear Regression Test Score: 0.8118724269002047\n"
     ]
    }
   ],
   "source": [
    "print(f\"Linear Regression Test Score: {l_test_score}\")"
   ]
  },
  {
   "cell_type": "code",
   "execution_count": 46,
   "id": "597abd3a",
   "metadata": {
    "execution": {
     "iopub.execute_input": "2022-02-23T17:16:43.558046Z",
     "iopub.status.busy": "2022-02-23T17:16:43.557380Z",
     "iopub.status.idle": "2022-02-23T17:16:43.560762Z",
     "shell.execute_reply": "2022-02-23T17:16:43.561343Z",
     "shell.execute_reply.started": "2022-02-23T16:46:46.979906Z"
    },
    "id": "rHv5VdydOHnc",
    "papermill": {
     "duration": 0.11278,
     "end_time": "2022-02-23T17:16:43.561511",
     "exception": false,
     "start_time": "2022-02-23T17:16:43.448731",
     "status": "completed"
    },
    "tags": []
   },
   "outputs": [],
   "source": [
    "from sklearn.model_selection import GridSearchCV"
   ]
  },
  {
   "cell_type": "markdown",
   "id": "35b43680",
   "metadata": {
    "id": "gAmqYaSiTuwx",
    "papermill": {
     "duration": 0.105682,
     "end_time": "2022-02-23T17:16:43.775342",
     "exception": false,
     "start_time": "2022-02-23T17:16:43.669660",
     "status": "completed"
    },
    "tags": []
   },
   "source": [
    "**Random Forest Regression** "
   ]
  },
  {
   "cell_type": "code",
   "execution_count": 47,
   "id": "de9fa046",
   "metadata": {
    "execution": {
     "iopub.execute_input": "2022-02-23T17:16:44.017727Z",
     "iopub.status.busy": "2022-02-23T17:16:43.994430Z",
     "iopub.status.idle": "2022-02-23T17:16:44.383174Z",
     "shell.execute_reply": "2022-02-23T17:16:44.382361Z",
     "shell.execute_reply.started": "2022-02-23T16:46:46.992930Z"
    },
    "id": "mHsQQApyVXSc",
    "papermill": {
     "duration": 0.501901,
     "end_time": "2022-02-23T17:16:44.383338",
     "exception": false,
     "start_time": "2022-02-23T17:16:43.881437",
     "status": "completed"
    },
    "tags": []
   },
   "outputs": [],
   "source": [
    "rf_model = RandomForestRegressor(random_state=42).fit(X_train,y_train)"
   ]
  },
  {
   "cell_type": "code",
   "execution_count": 48,
   "id": "73a83aec",
   "metadata": {
    "execution": {
     "iopub.execute_input": "2022-02-23T17:16:44.604639Z",
     "iopub.status.busy": "2022-02-23T17:16:44.603551Z",
     "iopub.status.idle": "2022-02-23T17:16:48.294235Z",
     "shell.execute_reply": "2022-02-23T17:16:48.293489Z",
     "shell.execute_reply.started": "2022-02-23T16:46:47.419093Z"
    },
    "id": "KdEDA22-o1Hm",
    "outputId": "14be0281-18b8-4993-a216-b94a5c2b4bb3",
    "papermill": {
     "duration": 3.802082,
     "end_time": "2022-02-23T17:16:48.294394",
     "exception": false,
     "start_time": "2022-02-23T17:16:44.492312",
     "status": "completed"
    },
    "tags": []
   },
   "outputs": [
    {
     "name": "stdout",
     "output_type": "stream",
     "text": [
      "Random Forest Model Train Score: 97.17906098725543\n",
      "RF Cross Validation Score: 78.9280951234858\n"
     ]
    }
   ],
   "source": [
    "print(\"Random Forest Model Train Score:\",rf_model.score(X_train,y_train)*100)\n",
    "print(\"RF Cross Validation Score:\",cross_val_score(rf_model,X_train,y_train,cv=10,scoring=\"r2\").mean()*100)"
   ]
  },
  {
   "cell_type": "markdown",
   "id": "be9f6ce4",
   "metadata": {
    "papermill": {
     "duration": 0.107024,
     "end_time": "2022-02-23T17:16:48.510971",
     "exception": false,
     "start_time": "2022-02-23T17:16:48.403947",
     "status": "completed"
    },
    "tags": []
   },
   "source": [
    "Random forest model overfitted."
   ]
  },
  {
   "cell_type": "markdown",
   "id": "5aca4777",
   "metadata": {
    "id": "vleIfAR0WEvH",
    "papermill": {
     "duration": 0.107125,
     "end_time": "2022-02-23T17:16:48.726038",
     "exception": false,
     "start_time": "2022-02-23T17:16:48.618913",
     "status": "completed"
    },
    "tags": []
   },
   "source": [
    "**RF-Model Tuning**"
   ]
  },
  {
   "cell_type": "code",
   "execution_count": 49,
   "id": "2bd6b191",
   "metadata": {
    "execution": {
     "iopub.execute_input": "2022-02-23T17:16:48.952433Z",
     "iopub.status.busy": "2022-02-23T17:16:48.951446Z",
     "iopub.status.idle": "2022-02-23T17:16:48.954147Z",
     "shell.execute_reply": "2022-02-23T17:16:48.953508Z",
     "shell.execute_reply.started": "2022-02-23T16:46:51.374681Z"
    },
    "id": "uZyfdpBbWEFK",
    "papermill": {
     "duration": 0.116068,
     "end_time": "2022-02-23T17:16:48.954303",
     "exception": false,
     "start_time": "2022-02-23T17:16:48.838235",
     "status": "completed"
    },
    "tags": []
   },
   "outputs": [],
   "source": [
    "rf_params= {\"max_depth\": list(range(1,10)),\n",
    "             \"max_features\": [2,3,4,5],\n",
    "            \"n_estimators\": [100,200,300,400,500] }"
   ]
  },
  {
   "cell_type": "code",
   "execution_count": 50,
   "id": "b9a5e6ab",
   "metadata": {
    "execution": {
     "iopub.execute_input": "2022-02-23T17:16:49.179025Z",
     "iopub.status.busy": "2022-02-23T17:16:49.178199Z",
     "iopub.status.idle": "2022-02-23T17:16:49.181345Z",
     "shell.execute_reply": "2022-02-23T17:16:49.180657Z",
     "shell.execute_reply.started": "2022-02-23T16:46:51.382813Z"
    },
    "id": "Hkv6QpqEYPWy",
    "papermill": {
     "duration": 0.117872,
     "end_time": "2022-02-23T17:16:49.181501",
     "exception": false,
     "start_time": "2022-02-23T17:16:49.063629",
     "status": "completed"
    },
    "tags": []
   },
   "outputs": [],
   "source": [
    "rf_model = RandomForestRegressor(random_state=42)"
   ]
  },
  {
   "cell_type": "code",
   "execution_count": 51,
   "id": "61d685dc",
   "metadata": {
    "execution": {
     "iopub.execute_input": "2022-02-23T17:16:49.404274Z",
     "iopub.status.busy": "2022-02-23T17:16:49.403207Z",
     "iopub.status.idle": "2022-02-23T17:16:49.407847Z",
     "shell.execute_reply": "2022-02-23T17:16:49.408570Z",
     "shell.execute_reply.started": "2022-02-23T16:46:51.399332Z"
    },
    "id": "0EpC9SbPYfSy",
    "papermill": {
     "duration": 0.117923,
     "end_time": "2022-02-23T17:16:49.408749",
     "exception": false,
     "start_time": "2022-02-23T17:16:49.290826",
     "status": "completed"
    },
    "tags": []
   },
   "outputs": [],
   "source": [
    "rf_cv_model = GridSearchCV(rf_model,rf_params,cv=10,n_jobs=-1)"
   ]
  },
  {
   "cell_type": "code",
   "execution_count": 52,
   "id": "bd4db77a",
   "metadata": {
    "execution": {
     "iopub.execute_input": "2022-02-23T17:16:49.628638Z",
     "iopub.status.busy": "2022-02-23T17:16:49.627564Z",
     "iopub.status.idle": "2022-02-23T17:24:59.187891Z",
     "shell.execute_reply": "2022-02-23T17:24:59.188496Z",
     "shell.execute_reply.started": "2022-02-23T16:46:51.414473Z"
    },
    "id": "2oY1M48sYxdQ",
    "outputId": "a2838458-929c-4d2b-fecc-816adbda0383",
    "papermill": {
     "duration": 489.671448,
     "end_time": "2022-02-23T17:24:59.188689",
     "exception": false,
     "start_time": "2022-02-23T17:16:49.517241",
     "status": "completed"
    },
    "tags": []
   },
   "outputs": [
    {
     "data": {
      "text/plain": [
       "GridSearchCV(cv=10, estimator=RandomForestRegressor(random_state=42), n_jobs=-1,\n",
       "             param_grid={'max_depth': [1, 2, 3, 4, 5, 6, 7, 8, 9],\n",
       "                         'max_features': [2, 3, 4, 5],\n",
       "                         'n_estimators': [100, 200, 300, 400, 500]})"
      ]
     },
     "execution_count": 52,
     "metadata": {},
     "output_type": "execute_result"
    }
   ],
   "source": [
    "rf_cv_model.fit(X_train,y_train)"
   ]
  },
  {
   "cell_type": "code",
   "execution_count": 53,
   "id": "e3dd0301",
   "metadata": {
    "execution": {
     "iopub.execute_input": "2022-02-23T17:24:59.413633Z",
     "iopub.status.busy": "2022-02-23T17:24:59.412878Z",
     "iopub.status.idle": "2022-02-23T17:24:59.415647Z",
     "shell.execute_reply": "2022-02-23T17:24:59.416206Z",
     "shell.execute_reply.started": "2022-02-23T16:54:53.469884Z"
    },
    "id": "R2Q2v-MTY1sK",
    "outputId": "d1c26348-813c-4704-9789-375bae73f78f",
    "papermill": {
     "duration": 0.118881,
     "end_time": "2022-02-23T17:24:59.416387",
     "exception": false,
     "start_time": "2022-02-23T17:24:59.297506",
     "status": "completed"
    },
    "tags": []
   },
   "outputs": [
    {
     "data": {
      "text/plain": [
       "{'max_depth': 9, 'max_features': 3, 'n_estimators': 500}"
      ]
     },
     "execution_count": 53,
     "metadata": {},
     "output_type": "execute_result"
    }
   ],
   "source": [
    "rf_cv_model.best_params_"
   ]
  },
  {
   "cell_type": "code",
   "execution_count": 54,
   "id": "9b132479",
   "metadata": {
    "execution": {
     "iopub.execute_input": "2022-02-23T17:24:59.638005Z",
     "iopub.status.busy": "2022-02-23T17:24:59.637358Z",
     "iopub.status.idle": "2022-02-23T17:24:59.639441Z",
     "shell.execute_reply": "2022-02-23T17:24:59.639925Z",
     "shell.execute_reply.started": "2022-02-23T16:54:53.479138Z"
    },
    "id": "W8fWDHLnelHv",
    "papermill": {
     "duration": 0.114885,
     "end_time": "2022-02-23T17:24:59.640121",
     "exception": false,
     "start_time": "2022-02-23T17:24:59.525236",
     "status": "completed"
    },
    "tags": []
   },
   "outputs": [],
   "source": [
    "rf_tuned = RandomForestRegressor(max_depth= 9,max_features=3,n_estimators=500,random_state=42)"
   ]
  },
  {
   "cell_type": "code",
   "execution_count": 55,
   "id": "220d82d9",
   "metadata": {
    "execution": {
     "iopub.execute_input": "2022-02-23T17:24:59.862083Z",
     "iopub.status.busy": "2022-02-23T17:24:59.861046Z",
     "iopub.status.idle": "2022-02-23T17:25:01.129482Z",
     "shell.execute_reply": "2022-02-23T17:25:01.130026Z",
     "shell.execute_reply.started": "2022-02-23T16:54:53.494247Z"
    },
    "id": "CtNIr0ecrFx2",
    "outputId": "d4d4e1e2-b94f-47d8-eedc-b28981fba310",
    "papermill": {
     "duration": 1.382373,
     "end_time": "2022-02-23T17:25:01.130219",
     "exception": false,
     "start_time": "2022-02-23T17:24:59.747846",
     "status": "completed"
    },
    "tags": []
   },
   "outputs": [
    {
     "data": {
      "text/plain": [
       "RandomForestRegressor(max_depth=9, max_features=3, n_estimators=500,\n",
       "                      random_state=42)"
      ]
     },
     "execution_count": 55,
     "metadata": {},
     "output_type": "execute_result"
    }
   ],
   "source": [
    "rf_tuned.fit(X_train,y_train)"
   ]
  },
  {
   "cell_type": "code",
   "execution_count": 56,
   "id": "87de633c",
   "metadata": {
    "execution": {
     "iopub.execute_input": "2022-02-23T17:25:01.357083Z",
     "iopub.status.busy": "2022-02-23T17:25:01.356045Z",
     "iopub.status.idle": "2022-02-23T17:25:01.414486Z",
     "shell.execute_reply": "2022-02-23T17:25:01.415067Z",
     "shell.execute_reply.started": "2022-02-23T16:54:54.766925Z"
    },
    "id": "Yfv36jU9rf1Z",
    "papermill": {
     "duration": 0.17521,
     "end_time": "2022-02-23T17:25:01.415264",
     "exception": false,
     "start_time": "2022-02-23T17:25:01.240054",
     "status": "completed"
    },
    "tags": []
   },
   "outputs": [],
   "source": [
    "rf_y_pred=rf_tuned.predict(X_test)"
   ]
  },
  {
   "cell_type": "code",
   "execution_count": 57,
   "id": "c8abc0af",
   "metadata": {
    "execution": {
     "iopub.execute_input": "2022-02-23T17:25:01.641474Z",
     "iopub.status.busy": "2022-02-23T17:25:01.640409Z",
     "iopub.status.idle": "2022-02-23T17:25:01.728973Z",
     "shell.execute_reply": "2022-02-23T17:25:01.728367Z",
     "shell.execute_reply.started": "2022-02-23T16:54:54.817641Z"
    },
    "id": "iD83-FQdxwiM",
    "papermill": {
     "duration": 0.203023,
     "end_time": "2022-02-23T17:25:01.729155",
     "exception": false,
     "start_time": "2022-02-23T17:25:01.526132",
     "status": "completed"
    },
    "tags": []
   },
   "outputs": [],
   "source": [
    "rf_score=rf_tuned.score(X_train,y_train)\n",
    "rf_test_score= r2_score(y_test,rf_y_pred)"
   ]
  },
  {
   "cell_type": "code",
   "execution_count": 58,
   "id": "1eccce99",
   "metadata": {
    "execution": {
     "iopub.execute_input": "2022-02-23T17:25:01.960968Z",
     "iopub.status.busy": "2022-02-23T17:25:01.959840Z",
     "iopub.status.idle": "2022-02-23T17:25:14.645713Z",
     "shell.execute_reply": "2022-02-23T17:25:14.645142Z",
     "shell.execute_reply.started": "2022-02-23T16:54:54.899751Z"
    },
    "id": "yARo6bj4uNAZ",
    "outputId": "ebca96ed-b6e3-424a-8780-ce76580c5275",
    "papermill": {
     "duration": 12.80467,
     "end_time": "2022-02-23T17:25:14.645862",
     "exception": false,
     "start_time": "2022-02-23T17:25:01.841192",
     "status": "completed"
    },
    "tags": []
   },
   "outputs": [
    {
     "name": "stdout",
     "output_type": "stream",
     "text": [
      "Random Forest Train Score:  0.9483175021743371\n",
      "Random Forest Cross Validation Score:  0.798957119574411\n",
      "Random Forest Test Score: 0.8419700860795101\n"
     ]
    }
   ],
   "source": [
    "print(\"Random Forest Train Score: \",rf_tuned.score(X_train,y_train))\n",
    "print(\"Random Forest Cross Validation Score: \",cross_val_score(rf_tuned,X_train,y_train,cv=10,scoring=\"r2\").mean())\n",
    "print(f\"Random Forest Test Score: {rf_test_score}\")"
   ]
  },
  {
   "cell_type": "code",
   "execution_count": 59,
   "id": "769d0aad",
   "metadata": {
    "execution": {
     "iopub.execute_input": "2022-02-23T17:25:14.873357Z",
     "iopub.status.busy": "2022-02-23T17:25:14.872663Z",
     "iopub.status.idle": "2022-02-23T17:25:14.876724Z",
     "shell.execute_reply": "2022-02-23T17:25:14.876173Z",
     "shell.execute_reply.started": "2022-02-23T16:55:07.537728Z"
    },
    "papermill": {
     "duration": 0.121498,
     "end_time": "2022-02-23T17:25:14.876877",
     "exception": false,
     "start_time": "2022-02-23T17:25:14.755379",
     "status": "completed"
    },
    "tags": []
   },
   "outputs": [],
   "source": [
    "col_name = ndf.drop(columns=\"Happiness Score\",axis=1)"
   ]
  },
  {
   "cell_type": "code",
   "execution_count": 60,
   "id": "70385516",
   "metadata": {
    "execution": {
     "iopub.execute_input": "2022-02-23T17:25:15.136624Z",
     "iopub.status.busy": "2022-02-23T17:25:15.135920Z",
     "iopub.status.idle": "2022-02-23T17:25:15.389225Z",
     "shell.execute_reply": "2022-02-23T17:25:15.388142Z",
     "shell.execute_reply.started": "2022-02-23T16:55:07.546676Z"
    },
    "papermill": {
     "duration": 0.399734,
     "end_time": "2022-02-23T17:25:15.389390",
     "exception": false,
     "start_time": "2022-02-23T17:25:14.989656",
     "status": "completed"
    },
    "tags": []
   },
   "outputs": [
    {
     "data": {
      "image/png": "[encoded data removed]",
      "text/plain": [
       "<Figure size 432x288 with 1 Axes>"
      ]
     },
     "metadata": {
      "needs_background": "light"
     },
     "output_type": "display_data"
    }
   ],
   "source": [
    "feat_importances = pd.Series(rf_tuned.feature_importances_, index=col_name.columns)\n",
    "feat_importances.nlargest(5).plot(kind='barh').set_title(\"Feature Importances\")\n",
    "plt.show()"
   ]
  },
  {
   "cell_type": "markdown",
   "id": "e3837279",
   "metadata": {
    "papermill": {
     "duration": 0.113068,
     "end_time": "2022-02-23T17:25:15.615365",
     "exception": false,
     "start_time": "2022-02-23T17:25:15.502297",
     "status": "completed"
    },
    "tags": []
   },
   "source": [
    "**Decision Tree Regression**"
   ]
  },
  {
   "cell_type": "code",
   "execution_count": 61,
   "id": "7bfb5396",
   "metadata": {
    "execution": {
     "iopub.execute_input": "2022-02-23T17:25:15.843769Z",
     "iopub.status.busy": "2022-02-23T17:25:15.843089Z",
     "iopub.status.idle": "2022-02-23T17:25:15.851823Z",
     "shell.execute_reply": "2022-02-23T17:25:15.852426Z",
     "shell.execute_reply.started": "2022-02-23T16:55:07.800765Z"
    },
    "papermill": {
     "duration": 0.124818,
     "end_time": "2022-02-23T17:25:15.852611",
     "exception": false,
     "start_time": "2022-02-23T17:25:15.727793",
     "status": "completed"
    },
    "tags": []
   },
   "outputs": [],
   "source": [
    "dt_model = DecisionTreeRegressor(random_state=42).fit(X_train,y_train)"
   ]
  },
  {
   "cell_type": "code",
   "execution_count": 62,
   "id": "afd919a7",
   "metadata": {
    "execution": {
     "iopub.execute_input": "2022-02-23T17:25:16.080278Z",
     "iopub.status.busy": "2022-02-23T17:25:16.079482Z",
     "iopub.status.idle": "2022-02-23T17:25:16.083375Z",
     "shell.execute_reply": "2022-02-23T17:25:16.084019Z",
     "shell.execute_reply.started": "2022-02-23T16:55:07.812496Z"
    },
    "papermill": {
     "duration": 0.119541,
     "end_time": "2022-02-23T17:25:16.084254",
     "exception": false,
     "start_time": "2022-02-23T17:25:15.964713",
     "status": "completed"
    },
    "tags": []
   },
   "outputs": [],
   "source": [
    "dt_y_pred = dt_model.predict(X_test)"
   ]
  },
  {
   "cell_type": "code",
   "execution_count": 63,
   "id": "d65b37f2",
   "metadata": {
    "execution": {
     "iopub.execute_input": "2022-02-23T17:25:16.310344Z",
     "iopub.status.busy": "2022-02-23T17:25:16.309603Z",
     "iopub.status.idle": "2022-02-23T17:25:16.314303Z",
     "shell.execute_reply": "2022-02-23T17:25:16.314840Z",
     "shell.execute_reply.started": "2022-02-23T16:55:07.824783Z"
    },
    "papermill": {
     "duration": 0.118896,
     "end_time": "2022-02-23T17:25:16.315046",
     "exception": false,
     "start_time": "2022-02-23T17:25:16.196150",
     "status": "completed"
    },
    "tags": []
   },
   "outputs": [],
   "source": [
    "dt_test_score= r2_score(y_test,dt_y_pred)"
   ]
  },
  {
   "cell_type": "code",
   "execution_count": 64,
   "id": "be5a292d",
   "metadata": {
    "execution": {
     "iopub.execute_input": "2022-02-23T17:25:16.546006Z",
     "iopub.status.busy": "2022-02-23T17:25:16.545315Z",
     "iopub.status.idle": "2022-02-23T17:25:16.605558Z",
     "shell.execute_reply": "2022-02-23T17:25:16.606116Z",
     "shell.execute_reply.started": "2022-02-23T16:55:07.840534Z"
    },
    "papermill": {
     "duration": 0.178176,
     "end_time": "2022-02-23T17:25:16.606321",
     "exception": false,
     "start_time": "2022-02-23T17:25:16.428145",
     "status": "completed"
    },
    "tags": []
   },
   "outputs": [
    {
     "name": "stdout",
     "output_type": "stream",
     "text": [
      "Decision Tree Train Score:  1.0\n",
      "Decision Tree Cross Validation Score:  0.5747196048402465\n",
      "Decision Tree Test Score: 0.6225220726707098\n"
     ]
    }
   ],
   "source": [
    "print(\"Decision Tree Train Score: \",dt_model.score(X_train,y_train))\n",
    "print(\"Decision Tree Cross Validation Score: \",cross_val_score(dt_model,X_train,y_train,cv=10,scoring=\"r2\").mean())\n",
    "print(f\"Decision Tree Test Score: {dt_test_score}\")"
   ]
  },
  {
   "cell_type": "markdown",
   "id": "5a3b2206",
   "metadata": {
    "papermill": {
     "duration": 0.112556,
     "end_time": "2022-02-23T17:25:16.831213",
     "exception": false,
     "start_time": "2022-02-23T17:25:16.718657",
     "status": "completed"
    },
    "tags": []
   },
   "source": [
    "**DT - Hyperparameter Tuning**"
   ]
  },
  {
   "cell_type": "code",
   "execution_count": 65,
   "id": "69c3243f",
   "metadata": {
    "execution": {
     "iopub.execute_input": "2022-02-23T17:25:17.063458Z",
     "iopub.status.busy": "2022-02-23T17:25:17.062711Z",
     "iopub.status.idle": "2022-02-23T17:25:17.065957Z",
     "shell.execute_reply": "2022-02-23T17:25:17.065376Z",
     "shell.execute_reply.started": "2022-02-23T16:55:07.927416Z"
    },
    "papermill": {
     "duration": 0.121343,
     "end_time": "2022-02-23T17:25:17.066182",
     "exception": false,
     "start_time": "2022-02-23T17:25:16.944839",
     "status": "completed"
    },
    "tags": []
   },
   "outputs": [],
   "source": [
    "param={\"splitter\":[\"best\",\"random\"],\n",
    "            \"max_depth\" : np.arange(1,10,2),\n",
    "           \"min_samples_leaf\":np.arange(1,10,2),\n",
    "           \"max_features\":[\"auto\",\"log2\",\"sqrt\",None],\n",
    "           \"max_leaf_nodes\":[None,10,20,30,40,50,60,70,80] }"
   ]
  },
  {
   "cell_type": "code",
   "execution_count": 66,
   "id": "fe419176",
   "metadata": {
    "execution": {
     "iopub.execute_input": "2022-02-23T17:25:17.295395Z",
     "iopub.status.busy": "2022-02-23T17:25:17.294695Z",
     "iopub.status.idle": "2022-02-23T17:25:17.298126Z",
     "shell.execute_reply": "2022-02-23T17:25:17.298705Z",
     "shell.execute_reply.started": "2022-02-23T16:55:07.935644Z"
    },
    "papermill": {
     "duration": 0.118791,
     "end_time": "2022-02-23T17:25:17.298890",
     "exception": false,
     "start_time": "2022-02-23T17:25:17.180099",
     "status": "completed"
    },
    "tags": []
   },
   "outputs": [],
   "source": [
    "dt=DecisionTreeRegressor()"
   ]
  },
  {
   "cell_type": "code",
   "execution_count": 67,
   "id": "8991903e",
   "metadata": {
    "execution": {
     "iopub.execute_input": "2022-02-23T17:25:17.525495Z",
     "iopub.status.busy": "2022-02-23T17:25:17.524815Z",
     "iopub.status.idle": "2022-02-23T17:25:29.361697Z",
     "shell.execute_reply": "2022-02-23T17:25:29.361065Z",
     "shell.execute_reply.started": "2022-02-23T16:55:07.958771Z"
    },
    "papermill": {
     "duration": 11.950493,
     "end_time": "2022-02-23T17:25:29.361866",
     "exception": false,
     "start_time": "2022-02-23T17:25:17.411373",
     "status": "completed"
    },
    "tags": []
   },
   "outputs": [
    {
     "data": {
      "text/plain": [
       "GridSearchCV(cv=3, estimator=DecisionTreeRegressor(),\n",
       "             param_grid={'max_depth': array([1, 3, 5, 7, 9]),\n",
       "                         'max_features': ['auto', 'log2', 'sqrt', None],\n",
       "                         'max_leaf_nodes': [None, 10, 20, 30, 40, 50, 60, 70,\n",
       "                                            80],\n",
       "                         'min_samples_leaf': array([1, 3, 5, 7, 9]),\n",
       "                         'splitter': ['best', 'random']},\n",
       "             scoring='neg_mean_squared_error')"
      ]
     },
     "execution_count": 67,
     "metadata": {},
     "output_type": "execute_result"
    }
   ],
   "source": [
    "dt_tuning = GridSearchCV(dt,param_grid=param,scoring=\"neg_mean_squared_error\",cv=3)\n",
    "dt_tuning.fit(X_train,y_train)"
   ]
  },
  {
   "cell_type": "code",
   "execution_count": 68,
   "id": "b2ffe861",
   "metadata": {
    "execution": {
     "iopub.execute_input": "2022-02-23T17:25:29.589836Z",
     "iopub.status.busy": "2022-02-23T17:25:29.589191Z",
     "iopub.status.idle": "2022-02-23T17:25:29.594634Z",
     "shell.execute_reply": "2022-02-23T17:25:29.595274Z",
     "shell.execute_reply.started": "2022-02-23T16:55:19.061365Z"
    },
    "papermill": {
     "duration": 0.120325,
     "end_time": "2022-02-23T17:25:29.595454",
     "exception": false,
     "start_time": "2022-02-23T17:25:29.475129",
     "status": "completed"
    },
    "tags": []
   },
   "outputs": [
    {
     "data": {
      "text/plain": [
       "{'max_depth': 7,\n",
       " 'max_features': 'auto',\n",
       " 'max_leaf_nodes': 70,\n",
       " 'min_samples_leaf': 9,\n",
       " 'splitter': 'random'}"
      ]
     },
     "execution_count": 68,
     "metadata": {},
     "output_type": "execute_result"
    }
   ],
   "source": [
    "dt_tuning.best_params_"
   ]
  },
  {
   "cell_type": "code",
   "execution_count": 69,
   "id": "a3ec5070",
   "metadata": {
    "execution": {
     "iopub.execute_input": "2022-02-23T17:25:29.825309Z",
     "iopub.status.busy": "2022-02-23T17:25:29.822717Z",
     "iopub.status.idle": "2022-02-23T17:25:29.827330Z",
     "shell.execute_reply": "2022-02-23T17:25:29.827951Z",
     "shell.execute_reply.started": "2022-02-23T16:55:19.072940Z"
    },
    "papermill": {
     "duration": 0.120188,
     "end_time": "2022-02-23T17:25:29.828157",
     "exception": false,
     "start_time": "2022-02-23T17:25:29.707969",
     "status": "completed"
    },
    "tags": []
   },
   "outputs": [],
   "source": [
    "dt_tuned = DecisionTreeRegressor(max_depth = 7,max_features= \"auto\",max_leaf_nodes= 60,min_samples_leaf= 7,\n",
    "                            splitter=\"random\")"
   ]
  },
  {
   "cell_type": "code",
   "execution_count": 70,
   "id": "aab66d6b",
   "metadata": {
    "execution": {
     "iopub.execute_input": "2022-02-23T17:25:30.063141Z",
     "iopub.status.busy": "2022-02-23T17:25:30.062458Z",
     "iopub.status.idle": "2022-02-23T17:25:30.068171Z",
     "shell.execute_reply": "2022-02-23T17:25:30.068668Z",
     "shell.execute_reply.started": "2022-02-23T16:55:19.087078Z"
    },
    "papermill": {
     "duration": 0.125667,
     "end_time": "2022-02-23T17:25:30.068869",
     "exception": false,
     "start_time": "2022-02-23T17:25:29.943202",
     "status": "completed"
    },
    "tags": []
   },
   "outputs": [
    {
     "data": {
      "text/plain": [
       "DecisionTreeRegressor(max_depth=7, max_features='auto', max_leaf_nodes=60,\n",
       "                      min_samples_leaf=7, splitter='random')"
      ]
     },
     "execution_count": 70,
     "metadata": {},
     "output_type": "execute_result"
    }
   ],
   "source": [
    "dt_tuned.fit(X_train,y_train)"
   ]
  },
  {
   "cell_type": "code",
   "execution_count": 71,
   "id": "c073996b",
   "metadata": {
    "execution": {
     "iopub.execute_input": "2022-02-23T17:25:30.303359Z",
     "iopub.status.busy": "2022-02-23T17:25:30.302646Z",
     "iopub.status.idle": "2022-02-23T17:25:30.305326Z",
     "shell.execute_reply": "2022-02-23T17:25:30.304651Z",
     "shell.execute_reply.started": "2022-02-23T16:55:19.109468Z"
    },
    "papermill": {
     "duration": 0.121623,
     "end_time": "2022-02-23T17:25:30.305477",
     "exception": false,
     "start_time": "2022-02-23T17:25:30.183854",
     "status": "completed"
    },
    "tags": []
   },
   "outputs": [],
   "source": [
    "dt_tuned_y_pred = dt_tuned.predict(X_test)"
   ]
  },
  {
   "cell_type": "code",
   "execution_count": 72,
   "id": "8a495807",
   "metadata": {
    "execution": {
     "iopub.execute_input": "2022-02-23T17:25:30.537750Z",
     "iopub.status.busy": "2022-02-23T17:25:30.537006Z",
     "iopub.status.idle": "2022-02-23T17:25:30.538731Z",
     "shell.execute_reply": "2022-02-23T17:25:30.539258Z",
     "shell.execute_reply.started": "2022-02-23T16:55:19.120747Z"
    },
    "papermill": {
     "duration": 0.119424,
     "end_time": "2022-02-23T17:25:30.539457",
     "exception": false,
     "start_time": "2022-02-23T17:25:30.420033",
     "status": "completed"
    },
    "tags": []
   },
   "outputs": [],
   "source": [
    "dt_tuned_test= r2_score(y_test,dt_tuned_y_pred)"
   ]
  },
  {
   "cell_type": "code",
   "execution_count": 73,
   "id": "4943367d",
   "metadata": {
    "execution": {
     "iopub.execute_input": "2022-02-23T17:25:30.773480Z",
     "iopub.status.busy": "2022-02-23T17:25:30.772741Z",
     "iopub.status.idle": "2022-02-23T17:25:30.784929Z",
     "shell.execute_reply": "2022-02-23T17:25:30.785597Z",
     "shell.execute_reply.started": "2022-02-23T16:55:19.139770Z"
    },
    "papermill": {
     "duration": 0.132466,
     "end_time": "2022-02-23T17:25:30.785803",
     "exception": false,
     "start_time": "2022-02-23T17:25:30.653337",
     "status": "completed"
    },
    "tags": []
   },
   "outputs": [
    {
     "name": "stdout",
     "output_type": "stream",
     "text": [
      "Decision Tree Train Score:  0.7686353592431873\n",
      "Decision Tree Cross Validation Score:  0.6973569565901614\n",
      "Decision Tree Test Score: 0.7491483502749686\n"
     ]
    }
   ],
   "source": [
    "print(\"Decision Tree Train Score: \",dt_tuned.score(X_train,y_train))\n",
    "print(\"Decision Tree Cross Validation Score: \",cross_val_score(dt_tuned,X_train,y_train,cv=3,scoring=\"r2\").mean())\n",
    "print(f\"Decision Tree Test Score: {dt_tuned_test}\")"
   ]
  }
 ],
 "metadata": {
  "kernelspec": {
   "display_name": "Python 3",
   "language": "python",
   "name": "python3"
  },
  "language_info": {
   "codemirror_mode": {
    "name": "ipython",
    "version": 3
   },
   "file_extension": ".py",
   "mimetype": "text/x-python",
   "name": "python",
   "nbconvert_exporter": "python",
   "pygments_lexer": "ipython3",
   "version": "3.7.12"
  },
  "papermill": {
   "default_parameters": {},
   "duration": 557.125318,
   "end_time": "2022-02-23T17:25:31.915234",
   "environment_variables": {},
   "exception": null,
   "input_path": "__notebook__.ipynb",
   "output_path": "__notebook__.ipynb",
   "parameters": {},
   "start_time": "2022-02-23T17:16:14.789916",
   "version": "2.3.3"
  }
 },
 "nbformat": 4,
 "nbformat_minor": 5
}
